{
 "cells": [
  {
   "cell_type": "markdown",
   "metadata": {},
   "source": [
    "# MIE 1624 Assignment 3"
   ]
  },
  {
   "cell_type": "markdown",
   "metadata": {},
   "source": [
    "### Import Libraries"
   ]
  },
  {
   "cell_type": "code",
   "execution_count": 1,
   "metadata": {},
   "outputs": [],
   "source": [
    "import pandas as pd\n",
    "import numpy as np\n",
    "import nltk\n",
    "import string\n",
    "import re\n",
    "import html\n",
    "import matplotlib.pyplot as plt\n",
    "import seaborn as sns\n",
    "from wordcloud import WordCloud, STOPWORDS\n",
    "from matplotlib.pyplot import figure\n",
    "from sklearn.feature_extraction.text import CountVectorizer\n",
    "from sklearn.feature_extraction.text import TfidfVectorizer \n",
    "from sklearn import preprocessing\n",
    "from sklearn.metrics import accuracy_score\n",
    "from sklearn.model_selection import train_test_split\n",
    "from sklearn.preprocessing import StandardScaler\n",
    "from sklearn.model_selection import GridSearchCV\n",
    "from sklearn.linear_model import LogisticRegression\n",
    "from sklearn.neighbors import KNeighborsClassifier\n",
    "from sklearn.naive_bayes import BernoulliNB\n",
    "from sklearn.svm import SVC\n",
    "from sklearn.svm import LinearSVC\n",
    "from sklearn.tree import DecisionTreeClassifier\n",
    "from scipy.stats import randint as sp_randint\n",
    "from sklearn.ensemble import RandomForestClassifier\n",
    "import xgboost as xgb\n",
    "from sklearn.metrics import confusion_matrix"
   ]
  },
  {
   "cell_type": "markdown",
   "metadata": {},
   "source": [
    "### Load Data"
   ]
  },
  {
   "cell_type": "code",
   "execution_count": 2,
   "metadata": {},
   "outputs": [
    {
     "data": {
      "text/html": [
       "<div>\n",
       "<style scoped>\n",
       "    .dataframe tbody tr th:only-of-type {\n",
       "        vertical-align: middle;\n",
       "    }\n",
       "\n",
       "    .dataframe tbody tr th {\n",
       "        vertical-align: top;\n",
       "    }\n",
       "\n",
       "    .dataframe thead th {\n",
       "        text-align: right;\n",
       "    }\n",
       "</style>\n",
       "<table border=\"1\" class=\"dataframe\">\n",
       "  <thead>\n",
       "    <tr style=\"text-align: right;\">\n",
       "      <th></th>\n",
       "      <th>ID</th>\n",
       "      <th>text</th>\n",
       "      <th>label</th>\n",
       "    </tr>\n",
       "  </thead>\n",
       "  <tbody>\n",
       "    <tr>\n",
       "      <th>0</th>\n",
       "      <td>7.680980e+17</td>\n",
       "      <td>Josh Jenkins is looking forward to TAB Breeder...</td>\n",
       "      <td>1</td>\n",
       "    </tr>\n",
       "    <tr>\n",
       "      <th>1</th>\n",
       "      <td>7.680980e+17</td>\n",
       "      <td>RT @MianUsmanJaved: Congratulations Pakistan o...</td>\n",
       "      <td>1</td>\n",
       "    </tr>\n",
       "    <tr>\n",
       "      <th>2</th>\n",
       "      <td>7.680980e+17</td>\n",
       "      <td>RT @PEPalerts: This September, @YESmag is taki...</td>\n",
       "      <td>1</td>\n",
       "    </tr>\n",
       "    <tr>\n",
       "      <th>3</th>\n",
       "      <td>7.680980e+17</td>\n",
       "      <td>RT @david_gaibis: Newly painted walls, thanks ...</td>\n",
       "      <td>1</td>\n",
       "    </tr>\n",
       "    <tr>\n",
       "      <th>4</th>\n",
       "      <td>7.680980e+17</td>\n",
       "      <td>RT @CedricFeschotte: Excited to announce: as o...</td>\n",
       "      <td>1</td>\n",
       "    </tr>\n",
       "    <tr>\n",
       "      <th>5</th>\n",
       "      <td>7.680980e+17</td>\n",
       "      <td>RT @SH4WNSMILE: -Who is excited for illuminate...</td>\n",
       "      <td>1</td>\n",
       "    </tr>\n",
       "    <tr>\n",
       "      <th>6</th>\n",
       "      <td>7.680980e+17</td>\n",
       "      <td>RT @KendallHuntRPD: The #firstdayofschool for ...</td>\n",
       "      <td>1</td>\n",
       "    </tr>\n",
       "    <tr>\n",
       "      <th>7</th>\n",
       "      <td>7.680980e+17</td>\n",
       "      <td>RT @BantySrkian: #SRK and kajol in the making ...</td>\n",
       "      <td>1</td>\n",
       "    </tr>\n",
       "    <tr>\n",
       "      <th>8</th>\n",
       "      <td>7.680980e+17</td>\n",
       "      <td>RT @GayHopper_com: I'm happy! https://t.co/fKX...</td>\n",
       "      <td>1</td>\n",
       "    </tr>\n",
       "    <tr>\n",
       "      <th>9</th>\n",
       "      <td>7.680980e+17</td>\n",
       "      <td>RT @StarCinema: Kathryn, Daniel share memorabl...</td>\n",
       "      <td>1</td>\n",
       "    </tr>\n",
       "  </tbody>\n",
       "</table>\n",
       "</div>"
      ],
      "text/plain": [
       "             ID                                               text  label\n",
       "0  7.680980e+17  Josh Jenkins is looking forward to TAB Breeder...      1\n",
       "1  7.680980e+17  RT @MianUsmanJaved: Congratulations Pakistan o...      1\n",
       "2  7.680980e+17  RT @PEPalerts: This September, @YESmag is taki...      1\n",
       "3  7.680980e+17  RT @david_gaibis: Newly painted walls, thanks ...      1\n",
       "4  7.680980e+17  RT @CedricFeschotte: Excited to announce: as o...      1\n",
       "5  7.680980e+17  RT @SH4WNSMILE: -Who is excited for illuminate...      1\n",
       "6  7.680980e+17  RT @KendallHuntRPD: The #firstdayofschool for ...      1\n",
       "7  7.680980e+17  RT @BantySrkian: #SRK and kajol in the making ...      1\n",
       "8  7.680980e+17  RT @GayHopper_com: I'm happy! https://t.co/fKX...      1\n",
       "9  7.680980e+17  RT @StarCinema: Kathryn, Daniel share memorabl...      1"
      ]
     },
     "execution_count": 2,
     "metadata": {},
     "output_type": "execute_result"
    }
   ],
   "source": [
    "df_sa = pd.read_csv('sentiment_analysis.csv')\n",
    "df_sa.head(10)"
   ]
  },
  {
   "cell_type": "code",
   "execution_count": 3,
   "metadata": {},
   "outputs": [
    {
     "data": {
      "text/html": [
       "<div>\n",
       "<style scoped>\n",
       "    .dataframe tbody tr th:only-of-type {\n",
       "        vertical-align: middle;\n",
       "    }\n",
       "\n",
       "    .dataframe tbody tr th {\n",
       "        vertical-align: top;\n",
       "    }\n",
       "\n",
       "    .dataframe thead th {\n",
       "        text-align: right;\n",
       "    }\n",
       "</style>\n",
       "<table border=\"1\" class=\"dataframe\">\n",
       "  <thead>\n",
       "    <tr style=\"text-align: right;\">\n",
       "      <th></th>\n",
       "      <th>text</th>\n",
       "      <th>sentiment</th>\n",
       "      <th>negative_reason</th>\n",
       "    </tr>\n",
       "  </thead>\n",
       "  <tbody>\n",
       "    <tr>\n",
       "      <th>0</th>\n",
       "      <td>b'@robreiner so afraid of Nov, Dec, and Jan! E...</td>\n",
       "      <td>0</td>\n",
       "      <td>covid19</td>\n",
       "    </tr>\n",
       "    <tr>\n",
       "      <th>1</th>\n",
       "      <td>b\"RT @SueC00K: Lord Sumption launches Recovery...</td>\n",
       "      <td>0</td>\n",
       "      <td>others</td>\n",
       "    </tr>\n",
       "    <tr>\n",
       "      <th>2</th>\n",
       "      <td>b'RT @WalidPhares: Uber Timing: after #Biden a...</td>\n",
       "      <td>0</td>\n",
       "      <td>covid19</td>\n",
       "    </tr>\n",
       "    <tr>\n",
       "      <th>3</th>\n",
       "      <td>b'Every 107 seconds an American is dying from ...</td>\n",
       "      <td>1</td>\n",
       "      <td>NaN</td>\n",
       "    </tr>\n",
       "    <tr>\n",
       "      <th>4</th>\n",
       "      <td>b'RT @thewebbix: The #Democrats embrace #Diver...</td>\n",
       "      <td>1</td>\n",
       "      <td>NaN</td>\n",
       "    </tr>\n",
       "    <tr>\n",
       "      <th>5</th>\n",
       "      <td>accelerating. &amp;amp; rising when all #Americans...</td>\n",
       "      <td>0</td>\n",
       "      <td>discrimination</td>\n",
       "    </tr>\n",
       "    <tr>\n",
       "      <th>6</th>\n",
       "      <td>b'@realDonaldTrump 961 dead Americans in one d...</td>\n",
       "      <td>0</td>\n",
       "      <td>discrimination</td>\n",
       "    </tr>\n",
       "    <tr>\n",
       "      <th>7</th>\n",
       "      <td>b'#COVID19 #coronavirus #coronavirusuk #COVID ...</td>\n",
       "      <td>1</td>\n",
       "      <td>NaN</td>\n",
       "    </tr>\n",
       "    <tr>\n",
       "      <th>8</th>\n",
       "      <td>b'@charliekirk11 only reason @realdonaldtrump ...</td>\n",
       "      <td>0</td>\n",
       "      <td>corruption</td>\n",
       "    </tr>\n",
       "    <tr>\n",
       "      <th>9</th>\n",
       "      <td>b\"RT @JoeBarri: Anyone who's concerned in the ...</td>\n",
       "      <td>0</td>\n",
       "      <td>covid19</td>\n",
       "    </tr>\n",
       "  </tbody>\n",
       "</table>\n",
       "</div>"
      ],
      "text/plain": [
       "                                                text  sentiment  \\\n",
       "0  b'@robreiner so afraid of Nov, Dec, and Jan! E...          0   \n",
       "1  b\"RT @SueC00K: Lord Sumption launches Recovery...          0   \n",
       "2  b'RT @WalidPhares: Uber Timing: after #Biden a...          0   \n",
       "3  b'Every 107 seconds an American is dying from ...          1   \n",
       "4  b'RT @thewebbix: The #Democrats embrace #Diver...          1   \n",
       "5  accelerating. &amp; rising when all #Americans...          0   \n",
       "6  b'@realDonaldTrump 961 dead Americans in one d...          0   \n",
       "7  b'#COVID19 #coronavirus #coronavirusuk #COVID ...          1   \n",
       "8  b'@charliekirk11 only reason @realdonaldtrump ...          0   \n",
       "9  b\"RT @JoeBarri: Anyone who's concerned in the ...          0   \n",
       "\n",
       "  negative_reason  \n",
       "0         covid19  \n",
       "1          others  \n",
       "2         covid19  \n",
       "3             NaN  \n",
       "4             NaN  \n",
       "5  discrimination  \n",
       "6  discrimination  \n",
       "7             NaN  \n",
       "8      corruption  \n",
       "9         covid19  "
      ]
     },
     "execution_count": 3,
     "metadata": {},
     "output_type": "execute_result"
    }
   ],
   "source": [
    "df_el = pd.read_csv('US_Elections_2020.csv')\n",
    "df_el.head(10)"
   ]
  },
  {
   "cell_type": "markdown",
   "metadata": {},
   "source": [
    "# 1. Data Cleaning"
   ]
  },
  {
   "cell_type": "markdown",
   "metadata": {},
   "source": [
    "### Remove HTML tags and hash tags"
   ]
  },
  {
   "cell_type": "code",
   "execution_count": 4,
   "metadata": {},
   "outputs": [],
   "source": [
    "def remove_tag(text):\n",
    "    text = re.sub('/<[^>]+>/', '', text) # remove html tags\n",
    "    text = re.sub('#', '', text) # remove hash tags\n",
    "    return text"
   ]
  },
  {
   "cell_type": "code",
   "execution_count": 5,
   "metadata": {},
   "outputs": [
    {
     "data": {
      "text/html": [
       "<div>\n",
       "<style scoped>\n",
       "    .dataframe tbody tr th:only-of-type {\n",
       "        vertical-align: middle;\n",
       "    }\n",
       "\n",
       "    .dataframe tbody tr th {\n",
       "        vertical-align: top;\n",
       "    }\n",
       "\n",
       "    .dataframe thead th {\n",
       "        text-align: right;\n",
       "    }\n",
       "</style>\n",
       "<table border=\"1\" class=\"dataframe\">\n",
       "  <thead>\n",
       "    <tr style=\"text-align: right;\">\n",
       "      <th></th>\n",
       "      <th>ID</th>\n",
       "      <th>text</th>\n",
       "      <th>label</th>\n",
       "    </tr>\n",
       "  </thead>\n",
       "  <tbody>\n",
       "    <tr>\n",
       "      <th>0</th>\n",
       "      <td>7.680980e+17</td>\n",
       "      <td>Josh Jenkins is looking forward to TAB Breeder...</td>\n",
       "      <td>1</td>\n",
       "    </tr>\n",
       "    <tr>\n",
       "      <th>1</th>\n",
       "      <td>7.680980e+17</td>\n",
       "      <td>RT @MianUsmanJaved: Congratulations Pakistan o...</td>\n",
       "      <td>1</td>\n",
       "    </tr>\n",
       "    <tr>\n",
       "      <th>2</th>\n",
       "      <td>7.680980e+17</td>\n",
       "      <td>RT @PEPalerts: This September, @YESmag is taki...</td>\n",
       "      <td>1</td>\n",
       "    </tr>\n",
       "    <tr>\n",
       "      <th>3</th>\n",
       "      <td>7.680980e+17</td>\n",
       "      <td>RT @david_gaibis: Newly painted walls, thanks ...</td>\n",
       "      <td>1</td>\n",
       "    </tr>\n",
       "    <tr>\n",
       "      <th>4</th>\n",
       "      <td>7.680980e+17</td>\n",
       "      <td>RT @CedricFeschotte: Excited to announce: as o...</td>\n",
       "      <td>1</td>\n",
       "    </tr>\n",
       "    <tr>\n",
       "      <th>5</th>\n",
       "      <td>7.680980e+17</td>\n",
       "      <td>RT @SH4WNSMILE: -Who is excited for illuminate...</td>\n",
       "      <td>1</td>\n",
       "    </tr>\n",
       "    <tr>\n",
       "      <th>6</th>\n",
       "      <td>7.680980e+17</td>\n",
       "      <td>RT @KendallHuntRPD: The firstdayofschool for s...</td>\n",
       "      <td>1</td>\n",
       "    </tr>\n",
       "    <tr>\n",
       "      <th>7</th>\n",
       "      <td>7.680980e+17</td>\n",
       "      <td>RT @BantySrkian: SRK and kajol in the making o...</td>\n",
       "      <td>1</td>\n",
       "    </tr>\n",
       "    <tr>\n",
       "      <th>8</th>\n",
       "      <td>7.680980e+17</td>\n",
       "      <td>RT @GayHopper_com: I'm happy! https://t.co/fKX...</td>\n",
       "      <td>1</td>\n",
       "    </tr>\n",
       "    <tr>\n",
       "      <th>9</th>\n",
       "      <td>7.680980e+17</td>\n",
       "      <td>RT @StarCinema: Kathryn, Daniel share memorabl...</td>\n",
       "      <td>1</td>\n",
       "    </tr>\n",
       "  </tbody>\n",
       "</table>\n",
       "</div>"
      ],
      "text/plain": [
       "             ID                                               text  label\n",
       "0  7.680980e+17  Josh Jenkins is looking forward to TAB Breeder...      1\n",
       "1  7.680980e+17  RT @MianUsmanJaved: Congratulations Pakistan o...      1\n",
       "2  7.680980e+17  RT @PEPalerts: This September, @YESmag is taki...      1\n",
       "3  7.680980e+17  RT @david_gaibis: Newly painted walls, thanks ...      1\n",
       "4  7.680980e+17  RT @CedricFeschotte: Excited to announce: as o...      1\n",
       "5  7.680980e+17  RT @SH4WNSMILE: -Who is excited for illuminate...      1\n",
       "6  7.680980e+17  RT @KendallHuntRPD: The firstdayofschool for s...      1\n",
       "7  7.680980e+17  RT @BantySrkian: SRK and kajol in the making o...      1\n",
       "8  7.680980e+17  RT @GayHopper_com: I'm happy! https://t.co/fKX...      1\n",
       "9  7.680980e+17  RT @StarCinema: Kathryn, Daniel share memorabl...      1"
      ]
     },
     "execution_count": 5,
     "metadata": {},
     "output_type": "execute_result"
    }
   ],
   "source": [
    "df_sa['text'] = df_sa['text'].apply(lambda x: remove_tag(x))\n",
    "df_sa.head(10)"
   ]
  },
  {
   "cell_type": "code",
   "execution_count": 6,
   "metadata": {},
   "outputs": [
    {
     "data": {
      "text/html": [
       "<div>\n",
       "<style scoped>\n",
       "    .dataframe tbody tr th:only-of-type {\n",
       "        vertical-align: middle;\n",
       "    }\n",
       "\n",
       "    .dataframe tbody tr th {\n",
       "        vertical-align: top;\n",
       "    }\n",
       "\n",
       "    .dataframe thead th {\n",
       "        text-align: right;\n",
       "    }\n",
       "</style>\n",
       "<table border=\"1\" class=\"dataframe\">\n",
       "  <thead>\n",
       "    <tr style=\"text-align: right;\">\n",
       "      <th></th>\n",
       "      <th>text</th>\n",
       "      <th>sentiment</th>\n",
       "      <th>negative_reason</th>\n",
       "    </tr>\n",
       "  </thead>\n",
       "  <tbody>\n",
       "    <tr>\n",
       "      <th>0</th>\n",
       "      <td>b'@robreiner so afraid of Nov, Dec, and Jan! E...</td>\n",
       "      <td>0</td>\n",
       "      <td>covid19</td>\n",
       "    </tr>\n",
       "    <tr>\n",
       "      <th>1</th>\n",
       "      <td>b\"RT @SueC00K: Lord Sumption launches Recovery...</td>\n",
       "      <td>0</td>\n",
       "      <td>others</td>\n",
       "    </tr>\n",
       "    <tr>\n",
       "      <th>2</th>\n",
       "      <td>b'RT @WalidPhares: Uber Timing: after Biden ad...</td>\n",
       "      <td>0</td>\n",
       "      <td>covid19</td>\n",
       "    </tr>\n",
       "    <tr>\n",
       "      <th>3</th>\n",
       "      <td>b'Every 107 seconds an American is dying from ...</td>\n",
       "      <td>1</td>\n",
       "      <td>NaN</td>\n",
       "    </tr>\n",
       "    <tr>\n",
       "      <th>4</th>\n",
       "      <td>b'RT @thewebbix: The Democrats embrace Diversi...</td>\n",
       "      <td>1</td>\n",
       "      <td>NaN</td>\n",
       "    </tr>\n",
       "    <tr>\n",
       "      <th>5</th>\n",
       "      <td>accelerating. &amp;amp; rising when all Americans ...</td>\n",
       "      <td>0</td>\n",
       "      <td>discrimination</td>\n",
       "    </tr>\n",
       "    <tr>\n",
       "      <th>6</th>\n",
       "      <td>b'@realDonaldTrump 961 dead Americans in one d...</td>\n",
       "      <td>0</td>\n",
       "      <td>discrimination</td>\n",
       "    </tr>\n",
       "    <tr>\n",
       "      <th>7</th>\n",
       "      <td>b'COVID19 coronavirus coronavirusuk COVID UKlo...</td>\n",
       "      <td>1</td>\n",
       "      <td>NaN</td>\n",
       "    </tr>\n",
       "    <tr>\n",
       "      <th>8</th>\n",
       "      <td>b'@charliekirk11 only reason @realdonaldtrump ...</td>\n",
       "      <td>0</td>\n",
       "      <td>corruption</td>\n",
       "    </tr>\n",
       "    <tr>\n",
       "      <th>9</th>\n",
       "      <td>b\"RT @JoeBarri: Anyone who's concerned in the ...</td>\n",
       "      <td>0</td>\n",
       "      <td>covid19</td>\n",
       "    </tr>\n",
       "  </tbody>\n",
       "</table>\n",
       "</div>"
      ],
      "text/plain": [
       "                                                text  sentiment  \\\n",
       "0  b'@robreiner so afraid of Nov, Dec, and Jan! E...          0   \n",
       "1  b\"RT @SueC00K: Lord Sumption launches Recovery...          0   \n",
       "2  b'RT @WalidPhares: Uber Timing: after Biden ad...          0   \n",
       "3  b'Every 107 seconds an American is dying from ...          1   \n",
       "4  b'RT @thewebbix: The Democrats embrace Diversi...          1   \n",
       "5  accelerating. &amp; rising when all Americans ...          0   \n",
       "6  b'@realDonaldTrump 961 dead Americans in one d...          0   \n",
       "7  b'COVID19 coronavirus coronavirusuk COVID UKlo...          1   \n",
       "8  b'@charliekirk11 only reason @realdonaldtrump ...          0   \n",
       "9  b\"RT @JoeBarri: Anyone who's concerned in the ...          0   \n",
       "\n",
       "  negative_reason  \n",
       "0         covid19  \n",
       "1          others  \n",
       "2         covid19  \n",
       "3             NaN  \n",
       "4             NaN  \n",
       "5  discrimination  \n",
       "6  discrimination  \n",
       "7             NaN  \n",
       "8      corruption  \n",
       "9         covid19  "
      ]
     },
     "execution_count": 6,
     "metadata": {},
     "output_type": "execute_result"
    }
   ],
   "source": [
    "df_el['text'] = df_el['text'].apply(lambda x: remove_tag(x))\n",
    "df_el.head(10)"
   ]
  },
  {
   "cell_type": "markdown",
   "metadata": {},
   "source": [
    "### Replace HTML character codes"
   ]
  },
  {
   "cell_type": "markdown",
   "metadata": {},
   "source": [
    "Replace HTML characters with corresponding strings"
   ]
  },
  {
   "cell_type": "code",
   "execution_count": 7,
   "metadata": {},
   "outputs": [],
   "source": [
    "def replace_html(text):\n",
    "    text = html.unescape(text) # replace HTML characters\n",
    "    return text"
   ]
  },
  {
   "cell_type": "code",
   "execution_count": 8,
   "metadata": {},
   "outputs": [
    {
     "data": {
      "text/html": [
       "<div>\n",
       "<style scoped>\n",
       "    .dataframe tbody tr th:only-of-type {\n",
       "        vertical-align: middle;\n",
       "    }\n",
       "\n",
       "    .dataframe tbody tr th {\n",
       "        vertical-align: top;\n",
       "    }\n",
       "\n",
       "    .dataframe thead th {\n",
       "        text-align: right;\n",
       "    }\n",
       "</style>\n",
       "<table border=\"1\" class=\"dataframe\">\n",
       "  <thead>\n",
       "    <tr style=\"text-align: right;\">\n",
       "      <th></th>\n",
       "      <th>ID</th>\n",
       "      <th>text</th>\n",
       "      <th>label</th>\n",
       "    </tr>\n",
       "  </thead>\n",
       "  <tbody>\n",
       "    <tr>\n",
       "      <th>0</th>\n",
       "      <td>7.680980e+17</td>\n",
       "      <td>Josh Jenkins is looking forward to TAB Breeder...</td>\n",
       "      <td>1</td>\n",
       "    </tr>\n",
       "    <tr>\n",
       "      <th>1</th>\n",
       "      <td>7.680980e+17</td>\n",
       "      <td>RT @MianUsmanJaved: Congratulations Pakistan o...</td>\n",
       "      <td>1</td>\n",
       "    </tr>\n",
       "    <tr>\n",
       "      <th>2</th>\n",
       "      <td>7.680980e+17</td>\n",
       "      <td>RT @PEPalerts: This September, @YESmag is taki...</td>\n",
       "      <td>1</td>\n",
       "    </tr>\n",
       "    <tr>\n",
       "      <th>3</th>\n",
       "      <td>7.680980e+17</td>\n",
       "      <td>RT @david_gaibis: Newly painted walls, thanks ...</td>\n",
       "      <td>1</td>\n",
       "    </tr>\n",
       "    <tr>\n",
       "      <th>4</th>\n",
       "      <td>7.680980e+17</td>\n",
       "      <td>RT @CedricFeschotte: Excited to announce: as o...</td>\n",
       "      <td>1</td>\n",
       "    </tr>\n",
       "    <tr>\n",
       "      <th>5</th>\n",
       "      <td>7.680980e+17</td>\n",
       "      <td>RT @SH4WNSMILE: -Who is excited for illuminate...</td>\n",
       "      <td>1</td>\n",
       "    </tr>\n",
       "    <tr>\n",
       "      <th>6</th>\n",
       "      <td>7.680980e+17</td>\n",
       "      <td>RT @KendallHuntRPD: The firstdayofschool for s...</td>\n",
       "      <td>1</td>\n",
       "    </tr>\n",
       "    <tr>\n",
       "      <th>7</th>\n",
       "      <td>7.680980e+17</td>\n",
       "      <td>RT @BantySrkian: SRK and kajol in the making o...</td>\n",
       "      <td>1</td>\n",
       "    </tr>\n",
       "    <tr>\n",
       "      <th>8</th>\n",
       "      <td>7.680980e+17</td>\n",
       "      <td>RT @GayHopper_com: I'm happy! https://t.co/fKX...</td>\n",
       "      <td>1</td>\n",
       "    </tr>\n",
       "    <tr>\n",
       "      <th>9</th>\n",
       "      <td>7.680980e+17</td>\n",
       "      <td>RT @StarCinema: Kathryn, Daniel share memorabl...</td>\n",
       "      <td>1</td>\n",
       "    </tr>\n",
       "  </tbody>\n",
       "</table>\n",
       "</div>"
      ],
      "text/plain": [
       "             ID                                               text  label\n",
       "0  7.680980e+17  Josh Jenkins is looking forward to TAB Breeder...      1\n",
       "1  7.680980e+17  RT @MianUsmanJaved: Congratulations Pakistan o...      1\n",
       "2  7.680980e+17  RT @PEPalerts: This September, @YESmag is taki...      1\n",
       "3  7.680980e+17  RT @david_gaibis: Newly painted walls, thanks ...      1\n",
       "4  7.680980e+17  RT @CedricFeschotte: Excited to announce: as o...      1\n",
       "5  7.680980e+17  RT @SH4WNSMILE: -Who is excited for illuminate...      1\n",
       "6  7.680980e+17  RT @KendallHuntRPD: The firstdayofschool for s...      1\n",
       "7  7.680980e+17  RT @BantySrkian: SRK and kajol in the making o...      1\n",
       "8  7.680980e+17  RT @GayHopper_com: I'm happy! https://t.co/fKX...      1\n",
       "9  7.680980e+17  RT @StarCinema: Kathryn, Daniel share memorabl...      1"
      ]
     },
     "execution_count": 8,
     "metadata": {},
     "output_type": "execute_result"
    }
   ],
   "source": [
    "df_sa['text'] = df_sa['text'].apply(lambda x: replace_html(x))\n",
    "df_sa.head(10)"
   ]
  },
  {
   "cell_type": "code",
   "execution_count": 9,
   "metadata": {},
   "outputs": [
    {
     "data": {
      "text/html": [
       "<div>\n",
       "<style scoped>\n",
       "    .dataframe tbody tr th:only-of-type {\n",
       "        vertical-align: middle;\n",
       "    }\n",
       "\n",
       "    .dataframe tbody tr th {\n",
       "        vertical-align: top;\n",
       "    }\n",
       "\n",
       "    .dataframe thead th {\n",
       "        text-align: right;\n",
       "    }\n",
       "</style>\n",
       "<table border=\"1\" class=\"dataframe\">\n",
       "  <thead>\n",
       "    <tr style=\"text-align: right;\">\n",
       "      <th></th>\n",
       "      <th>text</th>\n",
       "      <th>sentiment</th>\n",
       "      <th>negative_reason</th>\n",
       "    </tr>\n",
       "  </thead>\n",
       "  <tbody>\n",
       "    <tr>\n",
       "      <th>0</th>\n",
       "      <td>b'@robreiner so afraid of Nov, Dec, and Jan! E...</td>\n",
       "      <td>0</td>\n",
       "      <td>covid19</td>\n",
       "    </tr>\n",
       "    <tr>\n",
       "      <th>1</th>\n",
       "      <td>b\"RT @SueC00K: Lord Sumption launches Recovery...</td>\n",
       "      <td>0</td>\n",
       "      <td>others</td>\n",
       "    </tr>\n",
       "    <tr>\n",
       "      <th>2</th>\n",
       "      <td>b'RT @WalidPhares: Uber Timing: after Biden ad...</td>\n",
       "      <td>0</td>\n",
       "      <td>covid19</td>\n",
       "    </tr>\n",
       "    <tr>\n",
       "      <th>3</th>\n",
       "      <td>b'Every 107 seconds an American is dying from ...</td>\n",
       "      <td>1</td>\n",
       "      <td>NaN</td>\n",
       "    </tr>\n",
       "    <tr>\n",
       "      <th>4</th>\n",
       "      <td>b'RT @thewebbix: The Democrats embrace Diversi...</td>\n",
       "      <td>1</td>\n",
       "      <td>NaN</td>\n",
       "    </tr>\n",
       "    <tr>\n",
       "      <th>5</th>\n",
       "      <td>accelerating. &amp; rising when all Americans kill...</td>\n",
       "      <td>0</td>\n",
       "      <td>discrimination</td>\n",
       "    </tr>\n",
       "    <tr>\n",
       "      <th>6</th>\n",
       "      <td>b'@realDonaldTrump 961 dead Americans in one d...</td>\n",
       "      <td>0</td>\n",
       "      <td>discrimination</td>\n",
       "    </tr>\n",
       "    <tr>\n",
       "      <th>7</th>\n",
       "      <td>b'COVID19 coronavirus coronavirusuk COVID UKlo...</td>\n",
       "      <td>1</td>\n",
       "      <td>NaN</td>\n",
       "    </tr>\n",
       "    <tr>\n",
       "      <th>8</th>\n",
       "      <td>b'@charliekirk11 only reason @realdonaldtrump ...</td>\n",
       "      <td>0</td>\n",
       "      <td>corruption</td>\n",
       "    </tr>\n",
       "    <tr>\n",
       "      <th>9</th>\n",
       "      <td>b\"RT @JoeBarri: Anyone who's concerned in the ...</td>\n",
       "      <td>0</td>\n",
       "      <td>covid19</td>\n",
       "    </tr>\n",
       "  </tbody>\n",
       "</table>\n",
       "</div>"
      ],
      "text/plain": [
       "                                                text  sentiment  \\\n",
       "0  b'@robreiner so afraid of Nov, Dec, and Jan! E...          0   \n",
       "1  b\"RT @SueC00K: Lord Sumption launches Recovery...          0   \n",
       "2  b'RT @WalidPhares: Uber Timing: after Biden ad...          0   \n",
       "3  b'Every 107 seconds an American is dying from ...          1   \n",
       "4  b'RT @thewebbix: The Democrats embrace Diversi...          1   \n",
       "5  accelerating. & rising when all Americans kill...          0   \n",
       "6  b'@realDonaldTrump 961 dead Americans in one d...          0   \n",
       "7  b'COVID19 coronavirus coronavirusuk COVID UKlo...          1   \n",
       "8  b'@charliekirk11 only reason @realdonaldtrump ...          0   \n",
       "9  b\"RT @JoeBarri: Anyone who's concerned in the ...          0   \n",
       "\n",
       "  negative_reason  \n",
       "0         covid19  \n",
       "1          others  \n",
       "2         covid19  \n",
       "3             NaN  \n",
       "4             NaN  \n",
       "5  discrimination  \n",
       "6  discrimination  \n",
       "7             NaN  \n",
       "8      corruption  \n",
       "9         covid19  "
      ]
     },
     "execution_count": 9,
     "metadata": {},
     "output_type": "execute_result"
    }
   ],
   "source": [
    "df_el['text'] = df_el['text'].apply(lambda x: replace_html(x))\n",
    "df_el.head(10)"
   ]
  },
  {
   "cell_type": "markdown",
   "metadata": {},
   "source": [
    "### Remove URLs and convert characters to lowercase"
   ]
  },
  {
   "cell_type": "code",
   "execution_count": 10,
   "metadata": {},
   "outputs": [],
   "source": [
    "def remove_url(text):\n",
    "    text = re.sub('https?:\\/\\/.\\S+', \"\", text) # remove URLs\n",
    "    return text"
   ]
  },
  {
   "cell_type": "code",
   "execution_count": 11,
   "metadata": {},
   "outputs": [
    {
     "data": {
      "text/html": [
       "<div>\n",
       "<style scoped>\n",
       "    .dataframe tbody tr th:only-of-type {\n",
       "        vertical-align: middle;\n",
       "    }\n",
       "\n",
       "    .dataframe tbody tr th {\n",
       "        vertical-align: top;\n",
       "    }\n",
       "\n",
       "    .dataframe thead th {\n",
       "        text-align: right;\n",
       "    }\n",
       "</style>\n",
       "<table border=\"1\" class=\"dataframe\">\n",
       "  <thead>\n",
       "    <tr style=\"text-align: right;\">\n",
       "      <th></th>\n",
       "      <th>ID</th>\n",
       "      <th>text</th>\n",
       "      <th>label</th>\n",
       "    </tr>\n",
       "  </thead>\n",
       "  <tbody>\n",
       "    <tr>\n",
       "      <th>0</th>\n",
       "      <td>7.680980e+17</td>\n",
       "      <td>josh jenkins is looking forward to tab breeder...</td>\n",
       "      <td>1</td>\n",
       "    </tr>\n",
       "    <tr>\n",
       "      <th>1</th>\n",
       "      <td>7.680980e+17</td>\n",
       "      <td>rt @mianusmanjaved: congratulations pakistan o...</td>\n",
       "      <td>1</td>\n",
       "    </tr>\n",
       "    <tr>\n",
       "      <th>2</th>\n",
       "      <td>7.680980e+17</td>\n",
       "      <td>rt @pepalerts: this september, @yesmag is taki...</td>\n",
       "      <td>1</td>\n",
       "    </tr>\n",
       "    <tr>\n",
       "      <th>3</th>\n",
       "      <td>7.680980e+17</td>\n",
       "      <td>rt @david_gaibis: newly painted walls, thanks ...</td>\n",
       "      <td>1</td>\n",
       "    </tr>\n",
       "    <tr>\n",
       "      <th>4</th>\n",
       "      <td>7.680980e+17</td>\n",
       "      <td>rt @cedricfeschotte: excited to announce: as o...</td>\n",
       "      <td>1</td>\n",
       "    </tr>\n",
       "    <tr>\n",
       "      <th>5</th>\n",
       "      <td>7.680980e+17</td>\n",
       "      <td>rt @sh4wnsmile: -who is excited for illuminate...</td>\n",
       "      <td>1</td>\n",
       "    </tr>\n",
       "    <tr>\n",
       "      <th>6</th>\n",
       "      <td>7.680980e+17</td>\n",
       "      <td>rt @kendallhuntrpd: the firstdayofschool for s...</td>\n",
       "      <td>1</td>\n",
       "    </tr>\n",
       "    <tr>\n",
       "      <th>7</th>\n",
       "      <td>7.680980e+17</td>\n",
       "      <td>rt @bantysrkian: srk and kajol in the making o...</td>\n",
       "      <td>1</td>\n",
       "    </tr>\n",
       "    <tr>\n",
       "      <th>8</th>\n",
       "      <td>7.680980e+17</td>\n",
       "      <td>rt @gayhopper_com: i'm happy!</td>\n",
       "      <td>1</td>\n",
       "    </tr>\n",
       "    <tr>\n",
       "      <th>9</th>\n",
       "      <td>7.680980e+17</td>\n",
       "      <td>rt @starcinema: kathryn, daniel share memorabl...</td>\n",
       "      <td>1</td>\n",
       "    </tr>\n",
       "  </tbody>\n",
       "</table>\n",
       "</div>"
      ],
      "text/plain": [
       "             ID                                               text  label\n",
       "0  7.680980e+17  josh jenkins is looking forward to tab breeder...      1\n",
       "1  7.680980e+17  rt @mianusmanjaved: congratulations pakistan o...      1\n",
       "2  7.680980e+17  rt @pepalerts: this september, @yesmag is taki...      1\n",
       "3  7.680980e+17  rt @david_gaibis: newly painted walls, thanks ...      1\n",
       "4  7.680980e+17  rt @cedricfeschotte: excited to announce: as o...      1\n",
       "5  7.680980e+17  rt @sh4wnsmile: -who is excited for illuminate...      1\n",
       "6  7.680980e+17  rt @kendallhuntrpd: the firstdayofschool for s...      1\n",
       "7  7.680980e+17  rt @bantysrkian: srk and kajol in the making o...      1\n",
       "8  7.680980e+17                     rt @gayhopper_com: i'm happy!       1\n",
       "9  7.680980e+17  rt @starcinema: kathryn, daniel share memorabl...      1"
      ]
     },
     "execution_count": 11,
     "metadata": {},
     "output_type": "execute_result"
    }
   ],
   "source": [
    "df_sa['text'] = df_sa['text'].apply(lambda x: remove_url(x.lower())) # convert to lowercase\n",
    "df_sa.head(10)"
   ]
  },
  {
   "cell_type": "code",
   "execution_count": 12,
   "metadata": {},
   "outputs": [
    {
     "data": {
      "text/html": [
       "<div>\n",
       "<style scoped>\n",
       "    .dataframe tbody tr th:only-of-type {\n",
       "        vertical-align: middle;\n",
       "    }\n",
       "\n",
       "    .dataframe tbody tr th {\n",
       "        vertical-align: top;\n",
       "    }\n",
       "\n",
       "    .dataframe thead th {\n",
       "        text-align: right;\n",
       "    }\n",
       "</style>\n",
       "<table border=\"1\" class=\"dataframe\">\n",
       "  <thead>\n",
       "    <tr style=\"text-align: right;\">\n",
       "      <th></th>\n",
       "      <th>text</th>\n",
       "      <th>sentiment</th>\n",
       "      <th>negative_reason</th>\n",
       "    </tr>\n",
       "  </thead>\n",
       "  <tbody>\n",
       "    <tr>\n",
       "      <th>0</th>\n",
       "      <td>b'@robreiner so afraid of nov, dec, and jan! e...</td>\n",
       "      <td>0</td>\n",
       "      <td>covid19</td>\n",
       "    </tr>\n",
       "    <tr>\n",
       "      <th>1</th>\n",
       "      <td>b\"rt @suec00k: lord sumption launches recovery...</td>\n",
       "      <td>0</td>\n",
       "      <td>others</td>\n",
       "    </tr>\n",
       "    <tr>\n",
       "      <th>2</th>\n",
       "      <td>b'rt @walidphares: uber timing: after biden ad...</td>\n",
       "      <td>0</td>\n",
       "      <td>covid19</td>\n",
       "    </tr>\n",
       "    <tr>\n",
       "      <th>3</th>\n",
       "      <td>b'every 107 seconds an american is dying from ...</td>\n",
       "      <td>1</td>\n",
       "      <td>NaN</td>\n",
       "    </tr>\n",
       "    <tr>\n",
       "      <th>4</th>\n",
       "      <td>b'rt @thewebbix: the democrats embrace diversi...</td>\n",
       "      <td>1</td>\n",
       "      <td>NaN</td>\n",
       "    </tr>\n",
       "    <tr>\n",
       "      <th>5</th>\n",
       "      <td>accelerating. &amp; rising when all americans kill...</td>\n",
       "      <td>0</td>\n",
       "      <td>discrimination</td>\n",
       "    </tr>\n",
       "    <tr>\n",
       "      <th>6</th>\n",
       "      <td>b'@realdonaldtrump 961 dead americans in one d...</td>\n",
       "      <td>0</td>\n",
       "      <td>discrimination</td>\n",
       "    </tr>\n",
       "    <tr>\n",
       "      <th>7</th>\n",
       "      <td>b'covid19 coronavirus coronavirusuk covid uklo...</td>\n",
       "      <td>1</td>\n",
       "      <td>NaN</td>\n",
       "    </tr>\n",
       "    <tr>\n",
       "      <th>8</th>\n",
       "      <td>b'@charliekirk11 only reason @realdonaldtrump ...</td>\n",
       "      <td>0</td>\n",
       "      <td>corruption</td>\n",
       "    </tr>\n",
       "    <tr>\n",
       "      <th>9</th>\n",
       "      <td>b\"rt @joebarri: anyone who's concerned in the ...</td>\n",
       "      <td>0</td>\n",
       "      <td>covid19</td>\n",
       "    </tr>\n",
       "  </tbody>\n",
       "</table>\n",
       "</div>"
      ],
      "text/plain": [
       "                                                text  sentiment  \\\n",
       "0  b'@robreiner so afraid of nov, dec, and jan! e...          0   \n",
       "1  b\"rt @suec00k: lord sumption launches recovery...          0   \n",
       "2  b'rt @walidphares: uber timing: after biden ad...          0   \n",
       "3  b'every 107 seconds an american is dying from ...          1   \n",
       "4  b'rt @thewebbix: the democrats embrace diversi...          1   \n",
       "5  accelerating. & rising when all americans kill...          0   \n",
       "6  b'@realdonaldtrump 961 dead americans in one d...          0   \n",
       "7  b'covid19 coronavirus coronavirusuk covid uklo...          1   \n",
       "8  b'@charliekirk11 only reason @realdonaldtrump ...          0   \n",
       "9  b\"rt @joebarri: anyone who's concerned in the ...          0   \n",
       "\n",
       "  negative_reason  \n",
       "0         covid19  \n",
       "1          others  \n",
       "2         covid19  \n",
       "3             NaN  \n",
       "4             NaN  \n",
       "5  discrimination  \n",
       "6  discrimination  \n",
       "7             NaN  \n",
       "8      corruption  \n",
       "9         covid19  "
      ]
     },
     "execution_count": 12,
     "metadata": {},
     "output_type": "execute_result"
    }
   ],
   "source": [
    "df_el['text'] = df_el['text'].apply(lambda x: remove_url(x.lower())) # convert to lower case\n",
    "df_el.head(10)"
   ]
  },
  {
   "cell_type": "markdown",
   "metadata": {},
   "source": [
    "### Remove stopwords"
   ]
  },
  {
   "cell_type": "markdown",
   "metadata": {},
   "source": [
    "Stopword refers to the most common words in a language which does not add much meaning to a sentence. They are usually filtered out before or after processing of natural language data. In this case, we removed stopwords  listed in \"stop_words.txt\" file."
   ]
  },
  {
   "cell_type": "code",
   "execution_count": 13,
   "metadata": {},
   "outputs": [],
   "source": [
    "stopword = [line.strip() for line in open('stop_words.txt')] # extract stopwords from given txt file\n",
    "\n",
    "def remove_stopwords(text):\n",
    "    text = [word for word in text if word not in stopword] # remove stopwords listed in txt file\n",
    "    text = ' '.join(text)\n",
    "    return text"
   ]
  },
  {
   "cell_type": "code",
   "execution_count": 14,
   "metadata": {},
   "outputs": [
    {
     "data": {
      "text/html": [
       "<div>\n",
       "<style scoped>\n",
       "    .dataframe tbody tr th:only-of-type {\n",
       "        vertical-align: middle;\n",
       "    }\n",
       "\n",
       "    .dataframe tbody tr th {\n",
       "        vertical-align: top;\n",
       "    }\n",
       "\n",
       "    .dataframe thead th {\n",
       "        text-align: right;\n",
       "    }\n",
       "</style>\n",
       "<table border=\"1\" class=\"dataframe\">\n",
       "  <thead>\n",
       "    <tr style=\"text-align: right;\">\n",
       "      <th></th>\n",
       "      <th>ID</th>\n",
       "      <th>text</th>\n",
       "      <th>label</th>\n",
       "    </tr>\n",
       "  </thead>\n",
       "  <tbody>\n",
       "    <tr>\n",
       "      <th>0</th>\n",
       "      <td>7.680980e+17</td>\n",
       "      <td>josh jenkins forward tab breeders crown super ...</td>\n",
       "      <td>1</td>\n",
       "    </tr>\n",
       "    <tr>\n",
       "      <th>1</th>\n",
       "      <td>7.680980e+17</td>\n",
       "      <td>rt @mianusmanjaved: congratulations pakistan n...</td>\n",
       "      <td>1</td>\n",
       "    </tr>\n",
       "    <tr>\n",
       "      <th>2</th>\n",
       "      <td>7.680980e+17</td>\n",
       "      <td>rt @pepalerts: september, @yesmag maine mendoz...</td>\n",
       "      <td>1</td>\n",
       "    </tr>\n",
       "    <tr>\n",
       "      <th>3</th>\n",
       "      <td>7.680980e+17</td>\n",
       "      <td>rt @david_gaibis: newly painted walls, custodi...</td>\n",
       "      <td>1</td>\n",
       "    </tr>\n",
       "    <tr>\n",
       "      <th>4</th>\n",
       "      <td>7.680980e+17</td>\n",
       "      <td>rt @cedricfeschotte: excited announce: july 20...</td>\n",
       "      <td>1</td>\n",
       "    </tr>\n",
       "    <tr>\n",
       "      <th>5</th>\n",
       "      <td>7.680980e+17</td>\n",
       "      <td>rt @sh4wnsmile: -who excited illuminate !? -....</td>\n",
       "      <td>1</td>\n",
       "    </tr>\n",
       "    <tr>\n",
       "      <th>6</th>\n",
       "      <td>7.680980e+17</td>\n",
       "      <td>rt @kendallhuntrpd: firstdayofschool students ...</td>\n",
       "      <td>1</td>\n",
       "    </tr>\n",
       "    <tr>\n",
       "      <th>7</th>\n",
       "      <td>7.680980e+17</td>\n",
       "      <td>rt @bantysrkian: srk kajol making ddlj song .....</td>\n",
       "      <td>1</td>\n",
       "    </tr>\n",
       "    <tr>\n",
       "      <th>8</th>\n",
       "      <td>7.680980e+17</td>\n",
       "      <td>rt @gayhopper_com: i'm happy!</td>\n",
       "      <td>1</td>\n",
       "    </tr>\n",
       "    <tr>\n",
       "      <th>9</th>\n",
       "      <td>7.680980e+17</td>\n",
       "      <td>rt @starcinema: kathryn, daniel share memorabl...</td>\n",
       "      <td>1</td>\n",
       "    </tr>\n",
       "  </tbody>\n",
       "</table>\n",
       "</div>"
      ],
      "text/plain": [
       "             ID                                               text  label\n",
       "0  7.680980e+17  josh jenkins forward tab breeders crown super ...      1\n",
       "1  7.680980e+17  rt @mianusmanjaved: congratulations pakistan n...      1\n",
       "2  7.680980e+17  rt @pepalerts: september, @yesmag maine mendoz...      1\n",
       "3  7.680980e+17  rt @david_gaibis: newly painted walls, custodi...      1\n",
       "4  7.680980e+17  rt @cedricfeschotte: excited announce: july 20...      1\n",
       "5  7.680980e+17   rt @sh4wnsmile: -who excited illuminate !? -....      1\n",
       "6  7.680980e+17  rt @kendallhuntrpd: firstdayofschool students ...      1\n",
       "7  7.680980e+17  rt @bantysrkian: srk kajol making ddlj song .....      1\n",
       "8  7.680980e+17                      rt @gayhopper_com: i'm happy!      1\n",
       "9  7.680980e+17  rt @starcinema: kathryn, daniel share memorabl...      1"
      ]
     },
     "execution_count": 14,
     "metadata": {},
     "output_type": "execute_result"
    }
   ],
   "source": [
    "df_sa['text'] = df_sa['text'].apply(lambda x: remove_stopwords(x.split()))\n",
    "df_sa.head(10)"
   ]
  },
  {
   "cell_type": "code",
   "execution_count": 15,
   "metadata": {},
   "outputs": [
    {
     "data": {
      "text/html": [
       "<div>\n",
       "<style scoped>\n",
       "    .dataframe tbody tr th:only-of-type {\n",
       "        vertical-align: middle;\n",
       "    }\n",
       "\n",
       "    .dataframe tbody tr th {\n",
       "        vertical-align: top;\n",
       "    }\n",
       "\n",
       "    .dataframe thead th {\n",
       "        text-align: right;\n",
       "    }\n",
       "</style>\n",
       "<table border=\"1\" class=\"dataframe\">\n",
       "  <thead>\n",
       "    <tr style=\"text-align: right;\">\n",
       "      <th></th>\n",
       "      <th>text</th>\n",
       "      <th>sentiment</th>\n",
       "      <th>negative_reason</th>\n",
       "    </tr>\n",
       "  </thead>\n",
       "  <tbody>\n",
       "    <tr>\n",
       "      <th>0</th>\n",
       "      <td>b'@robreiner afraid nov, dec, jan! bidenharris...</td>\n",
       "      <td>0</td>\n",
       "      <td>covid19</td>\n",
       "    </tr>\n",
       "    <tr>\n",
       "      <th>1</th>\n",
       "      <td>b\"rt @suec00k: lord sumption launches recovery...</td>\n",
       "      <td>0</td>\n",
       "      <td>others</td>\n",
       "    </tr>\n",
       "    <tr>\n",
       "      <th>2</th>\n",
       "      <td>b'rt @walidphares: uber timing: biden advisors...</td>\n",
       "      <td>0</td>\n",
       "      <td>covid19</td>\n",
       "    </tr>\n",
       "    <tr>\n",
       "      <th>3</th>\n",
       "      <td>b'every 107 seconds american dying trumpvirus ...</td>\n",
       "      <td>1</td>\n",
       "      <td>NaN</td>\n",
       "    </tr>\n",
       "    <tr>\n",
       "      <th>4</th>\n",
       "      <td>b'rt @thewebbix: democrats embrace diversityan...</td>\n",
       "      <td>1</td>\n",
       "      <td>NaN</td>\n",
       "    </tr>\n",
       "    <tr>\n",
       "      <th>5</th>\n",
       "      <td>accelerating. &amp; rising americans killed trumpv...</td>\n",
       "      <td>0</td>\n",
       "      <td>discrimination</td>\n",
       "    </tr>\n",
       "    <tr>\n",
       "      <th>6</th>\n",
       "      <td>b'@realdonaldtrump 961 dead americans day! 240...</td>\n",
       "      <td>0</td>\n",
       "      <td>discrimination</td>\n",
       "    </tr>\n",
       "    <tr>\n",
       "      <th>7</th>\n",
       "      <td>b'covid19 coronavirus coronavirusuk covid uklo...</td>\n",
       "      <td>1</td>\n",
       "      <td>NaN</td>\n",
       "    </tr>\n",
       "    <tr>\n",
       "      <th>8</th>\n",
       "      <td>b'@charliekirk11 reason @realdonaldtrump 3 ral...</td>\n",
       "      <td>0</td>\n",
       "      <td>corruption</td>\n",
       "    </tr>\n",
       "    <tr>\n",
       "      <th>9</th>\n",
       "      <td>b\"rt @joebarri: who's concerned hunterbiden tr...</td>\n",
       "      <td>0</td>\n",
       "      <td>covid19</td>\n",
       "    </tr>\n",
       "  </tbody>\n",
       "</table>\n",
       "</div>"
      ],
      "text/plain": [
       "                                                text  sentiment  \\\n",
       "0  b'@robreiner afraid nov, dec, jan! bidenharris...          0   \n",
       "1  b\"rt @suec00k: lord sumption launches recovery...          0   \n",
       "2  b'rt @walidphares: uber timing: biden advisors...          0   \n",
       "3  b'every 107 seconds american dying trumpvirus ...          1   \n",
       "4  b'rt @thewebbix: democrats embrace diversityan...          1   \n",
       "5  accelerating. & rising americans killed trumpv...          0   \n",
       "6  b'@realdonaldtrump 961 dead americans day! 240...          0   \n",
       "7  b'covid19 coronavirus coronavirusuk covid uklo...          1   \n",
       "8  b'@charliekirk11 reason @realdonaldtrump 3 ral...          0   \n",
       "9  b\"rt @joebarri: who's concerned hunterbiden tr...          0   \n",
       "\n",
       "  negative_reason  \n",
       "0         covid19  \n",
       "1          others  \n",
       "2         covid19  \n",
       "3             NaN  \n",
       "4             NaN  \n",
       "5  discrimination  \n",
       "6  discrimination  \n",
       "7             NaN  \n",
       "8      corruption  \n",
       "9         covid19  "
      ]
     },
     "execution_count": 15,
     "metadata": {},
     "output_type": "execute_result"
    }
   ],
   "source": [
    "df_el['text'] = df_el['text'].apply(lambda x: remove_stopwords(x.split()))\n",
    "df_el.head(10)"
   ]
  },
  {
   "cell_type": "markdown",
   "metadata": {},
   "source": [
    "### Remove 'b' at the beginning of text of US election data"
   ]
  },
  {
   "cell_type": "code",
   "execution_count": 16,
   "metadata": {},
   "outputs": [],
   "source": [
    "def remove_b(text):\n",
    "    text = re.sub('^b', '', text) # remove b at the beginning of text of US election data\n",
    "    return text"
   ]
  },
  {
   "cell_type": "code",
   "execution_count": 17,
   "metadata": {},
   "outputs": [
    {
     "data": {
      "text/html": [
       "<div>\n",
       "<style scoped>\n",
       "    .dataframe tbody tr th:only-of-type {\n",
       "        vertical-align: middle;\n",
       "    }\n",
       "\n",
       "    .dataframe tbody tr th {\n",
       "        vertical-align: top;\n",
       "    }\n",
       "\n",
       "    .dataframe thead th {\n",
       "        text-align: right;\n",
       "    }\n",
       "</style>\n",
       "<table border=\"1\" class=\"dataframe\">\n",
       "  <thead>\n",
       "    <tr style=\"text-align: right;\">\n",
       "      <th></th>\n",
       "      <th>text</th>\n",
       "      <th>sentiment</th>\n",
       "      <th>negative_reason</th>\n",
       "    </tr>\n",
       "  </thead>\n",
       "  <tbody>\n",
       "    <tr>\n",
       "      <th>0</th>\n",
       "      <td>'@robreiner afraid nov, dec, jan! bidenharris2...</td>\n",
       "      <td>0</td>\n",
       "      <td>covid19</td>\n",
       "    </tr>\n",
       "    <tr>\n",
       "      <th>1</th>\n",
       "      <td>\"rt @suec00k: lord sumption launches recovery ...</td>\n",
       "      <td>0</td>\n",
       "      <td>others</td>\n",
       "    </tr>\n",
       "    <tr>\n",
       "      <th>2</th>\n",
       "      <td>'rt @walidphares: uber timing: biden advisors ...</td>\n",
       "      <td>0</td>\n",
       "      <td>covid19</td>\n",
       "    </tr>\n",
       "    <tr>\n",
       "      <th>3</th>\n",
       "      <td>'every 107 seconds american dying trumpvirus \\...</td>\n",
       "      <td>1</td>\n",
       "      <td>NaN</td>\n",
       "    </tr>\n",
       "    <tr>\n",
       "      <th>4</th>\n",
       "      <td>'rt @thewebbix: democrats embrace diversityand...</td>\n",
       "      <td>1</td>\n",
       "      <td>NaN</td>\n",
       "    </tr>\n",
       "    <tr>\n",
       "      <th>5</th>\n",
       "      <td>accelerating. &amp; rising americans killed trumpv...</td>\n",
       "      <td>0</td>\n",
       "      <td>discrimination</td>\n",
       "    </tr>\n",
       "    <tr>\n",
       "      <th>6</th>\n",
       "      <td>'@realdonaldtrump 961 dead americans day! 240 ...</td>\n",
       "      <td>0</td>\n",
       "      <td>discrimination</td>\n",
       "    </tr>\n",
       "    <tr>\n",
       "      <th>7</th>\n",
       "      <td>'covid19 coronavirus coronavirusuk covid ukloc...</td>\n",
       "      <td>1</td>\n",
       "      <td>NaN</td>\n",
       "    </tr>\n",
       "    <tr>\n",
       "      <th>8</th>\n",
       "      <td>'@charliekirk11 reason @realdonaldtrump 3 rall...</td>\n",
       "      <td>0</td>\n",
       "      <td>corruption</td>\n",
       "    </tr>\n",
       "    <tr>\n",
       "      <th>9</th>\n",
       "      <td>\"rt @joebarri: who's concerned hunterbiden tru...</td>\n",
       "      <td>0</td>\n",
       "      <td>covid19</td>\n",
       "    </tr>\n",
       "  </tbody>\n",
       "</table>\n",
       "</div>"
      ],
      "text/plain": [
       "                                                text  sentiment  \\\n",
       "0  '@robreiner afraid nov, dec, jan! bidenharris2...          0   \n",
       "1  \"rt @suec00k: lord sumption launches recovery ...          0   \n",
       "2  'rt @walidphares: uber timing: biden advisors ...          0   \n",
       "3  'every 107 seconds american dying trumpvirus \\...          1   \n",
       "4  'rt @thewebbix: democrats embrace diversityand...          1   \n",
       "5  accelerating. & rising americans killed trumpv...          0   \n",
       "6  '@realdonaldtrump 961 dead americans day! 240 ...          0   \n",
       "7  'covid19 coronavirus coronavirusuk covid ukloc...          1   \n",
       "8  '@charliekirk11 reason @realdonaldtrump 3 rall...          0   \n",
       "9  \"rt @joebarri: who's concerned hunterbiden tru...          0   \n",
       "\n",
       "  negative_reason  \n",
       "0         covid19  \n",
       "1          others  \n",
       "2         covid19  \n",
       "3             NaN  \n",
       "4             NaN  \n",
       "5  discrimination  \n",
       "6  discrimination  \n",
       "7             NaN  \n",
       "8      corruption  \n",
       "9         covid19  "
      ]
     },
     "execution_count": 17,
     "metadata": {},
     "output_type": "execute_result"
    }
   ],
   "source": [
    "df_el['text'] = df_el['text'].apply(lambda x: remove_b(x)) \n",
    "df_el.head(10)"
   ]
  },
  {
   "cell_type": "markdown",
   "metadata": {},
   "source": [
    "### Remove punctuations and 'rt'"
   ]
  },
  {
   "cell_type": "code",
   "execution_count": 18,
   "metadata": {},
   "outputs": [],
   "source": [
    "def remove_punct_rt(text):\n",
    "    text  = ''.join([word for word in text if word not in string.punctuation]) # remove punctuations\n",
    "    text = re.sub('^rt[\\s]+', '', text) # remove rt\n",
    "    return text"
   ]
  },
  {
   "cell_type": "code",
   "execution_count": 19,
   "metadata": {},
   "outputs": [
    {
     "data": {
      "text/html": [
       "<div>\n",
       "<style scoped>\n",
       "    .dataframe tbody tr th:only-of-type {\n",
       "        vertical-align: middle;\n",
       "    }\n",
       "\n",
       "    .dataframe tbody tr th {\n",
       "        vertical-align: top;\n",
       "    }\n",
       "\n",
       "    .dataframe thead th {\n",
       "        text-align: right;\n",
       "    }\n",
       "</style>\n",
       "<table border=\"1\" class=\"dataframe\">\n",
       "  <thead>\n",
       "    <tr style=\"text-align: right;\">\n",
       "      <th></th>\n",
       "      <th>ID</th>\n",
       "      <th>text</th>\n",
       "      <th>label</th>\n",
       "    </tr>\n",
       "  </thead>\n",
       "  <tbody>\n",
       "    <tr>\n",
       "      <th>0</th>\n",
       "      <td>7.680980e+17</td>\n",
       "      <td>josh jenkins forward tab breeders crown super ...</td>\n",
       "      <td>1</td>\n",
       "    </tr>\n",
       "    <tr>\n",
       "      <th>1</th>\n",
       "      <td>7.680980e+17</td>\n",
       "      <td>mianusmanjaved congratulations pakistan no1tes...</td>\n",
       "      <td>1</td>\n",
       "    </tr>\n",
       "    <tr>\n",
       "      <th>2</th>\n",
       "      <td>7.680980e+17</td>\n",
       "      <td>pepalerts september yesmag maine mendoza’s sur...</td>\n",
       "      <td>1</td>\n",
       "    </tr>\n",
       "    <tr>\n",
       "      <th>3</th>\n",
       "      <td>7.680980e+17</td>\n",
       "      <td>davidgaibis newly painted walls custodial pain...</td>\n",
       "      <td>1</td>\n",
       "    </tr>\n",
       "    <tr>\n",
       "      <th>4</th>\n",
       "      <td>7.680980e+17</td>\n",
       "      <td>cedricfeschotte excited announce july 2017 fes...</td>\n",
       "      <td>1</td>\n",
       "    </tr>\n",
       "    <tr>\n",
       "      <th>5</th>\n",
       "      <td>7.680980e+17</td>\n",
       "      <td>sh4wnsmile who excited illuminate</td>\n",
       "      <td>1</td>\n",
       "    </tr>\n",
       "    <tr>\n",
       "      <th>6</th>\n",
       "      <td>7.680980e+17</td>\n",
       "      <td>kendallhuntrpd firstdayofschool students  teac...</td>\n",
       "      <td>1</td>\n",
       "    </tr>\n",
       "    <tr>\n",
       "      <th>7</th>\n",
       "      <td>7.680980e+17</td>\n",
       "      <td>bantysrkian srk kajol making ddlj song  greate...</td>\n",
       "      <td>1</td>\n",
       "    </tr>\n",
       "    <tr>\n",
       "      <th>8</th>\n",
       "      <td>7.680980e+17</td>\n",
       "      <td>gayhoppercom im happy</td>\n",
       "      <td>1</td>\n",
       "    </tr>\n",
       "    <tr>\n",
       "      <th>9</th>\n",
       "      <td>7.680980e+17</td>\n",
       "      <td>starcinema kathryn daniel share memorable expe...</td>\n",
       "      <td>1</td>\n",
       "    </tr>\n",
       "  </tbody>\n",
       "</table>\n",
       "</div>"
      ],
      "text/plain": [
       "             ID                                               text  label\n",
       "0  7.680980e+17  josh jenkins forward tab breeders crown super ...      1\n",
       "1  7.680980e+17  mianusmanjaved congratulations pakistan no1tes...      1\n",
       "2  7.680980e+17  pepalerts september yesmag maine mendoza’s sur...      1\n",
       "3  7.680980e+17  davidgaibis newly painted walls custodial pain...      1\n",
       "4  7.680980e+17  cedricfeschotte excited announce july 2017 fes...      1\n",
       "5  7.680980e+17                sh4wnsmile who excited illuminate        1\n",
       "6  7.680980e+17  kendallhuntrpd firstdayofschool students  teac...      1\n",
       "7  7.680980e+17  bantysrkian srk kajol making ddlj song  greate...      1\n",
       "8  7.680980e+17                              gayhoppercom im happy      1\n",
       "9  7.680980e+17  starcinema kathryn daniel share memorable expe...      1"
      ]
     },
     "execution_count": 19,
     "metadata": {},
     "output_type": "execute_result"
    }
   ],
   "source": [
    "df_sa['text'] = df_sa['text'].apply(lambda x: remove_punct_rt(x))\n",
    "df_sa.head(10)"
   ]
  },
  {
   "cell_type": "code",
   "execution_count": 20,
   "metadata": {},
   "outputs": [
    {
     "data": {
      "text/html": [
       "<div>\n",
       "<style scoped>\n",
       "    .dataframe tbody tr th:only-of-type {\n",
       "        vertical-align: middle;\n",
       "    }\n",
       "\n",
       "    .dataframe tbody tr th {\n",
       "        vertical-align: top;\n",
       "    }\n",
       "\n",
       "    .dataframe thead th {\n",
       "        text-align: right;\n",
       "    }\n",
       "</style>\n",
       "<table border=\"1\" class=\"dataframe\">\n",
       "  <thead>\n",
       "    <tr style=\"text-align: right;\">\n",
       "      <th></th>\n",
       "      <th>text</th>\n",
       "      <th>sentiment</th>\n",
       "      <th>negative_reason</th>\n",
       "    </tr>\n",
       "  </thead>\n",
       "  <tbody>\n",
       "    <tr>\n",
       "      <th>0</th>\n",
       "      <td>robreiner afraid nov dec jan bidenharris2020 w...</td>\n",
       "      <td>0</td>\n",
       "      <td>covid19</td>\n",
       "    </tr>\n",
       "    <tr>\n",
       "      <th>1</th>\n",
       "      <td>suec00k lord sumption launches recovery  initi...</td>\n",
       "      <td>0</td>\n",
       "      <td>others</td>\n",
       "    </tr>\n",
       "    <tr>\n",
       "      <th>2</th>\n",
       "      <td>walidphares uber timing biden advisors pressur...</td>\n",
       "      <td>0</td>\n",
       "      <td>covid19</td>\n",
       "    </tr>\n",
       "    <tr>\n",
       "      <th>3</th>\n",
       "      <td>every 107 seconds american dying trumpvirus nn...</td>\n",
       "      <td>1</td>\n",
       "      <td>NaN</td>\n",
       "    </tr>\n",
       "    <tr>\n",
       "      <th>4</th>\n",
       "      <td>thewebbix democrats embrace diversityandinclus...</td>\n",
       "      <td>1</td>\n",
       "      <td>NaN</td>\n",
       "    </tr>\n",
       "    <tr>\n",
       "      <th>5</th>\n",
       "      <td>accelerating  rising americans killed trumpvirus</td>\n",
       "      <td>0</td>\n",
       "      <td>discrimination</td>\n",
       "    </tr>\n",
       "    <tr>\n",
       "      <th>6</th>\n",
       "      <td>realdonaldtrump 961 dead americans day 240 tim...</td>\n",
       "      <td>0</td>\n",
       "      <td>discrimination</td>\n",
       "    </tr>\n",
       "    <tr>\n",
       "      <th>7</th>\n",
       "      <td>covid19 coronavirus coronavirusuk covid uklock...</td>\n",
       "      <td>1</td>\n",
       "      <td>NaN</td>\n",
       "    </tr>\n",
       "    <tr>\n",
       "      <th>8</th>\n",
       "      <td>charliekirk11 reason realdonaldtrump 3 rallies...</td>\n",
       "      <td>0</td>\n",
       "      <td>corruption</td>\n",
       "    </tr>\n",
       "    <tr>\n",
       "      <th>9</th>\n",
       "      <td>joebarri whos concerned hunterbiden trump assk...</td>\n",
       "      <td>0</td>\n",
       "      <td>covid19</td>\n",
       "    </tr>\n",
       "  </tbody>\n",
       "</table>\n",
       "</div>"
      ],
      "text/plain": [
       "                                                text  sentiment  \\\n",
       "0  robreiner afraid nov dec jan bidenharris2020 w...          0   \n",
       "1  suec00k lord sumption launches recovery  initi...          0   \n",
       "2  walidphares uber timing biden advisors pressur...          0   \n",
       "3  every 107 seconds american dying trumpvirus nn...          1   \n",
       "4  thewebbix democrats embrace diversityandinclus...          1   \n",
       "5   accelerating  rising americans killed trumpvirus          0   \n",
       "6  realdonaldtrump 961 dead americans day 240 tim...          0   \n",
       "7  covid19 coronavirus coronavirusuk covid uklock...          1   \n",
       "8  charliekirk11 reason realdonaldtrump 3 rallies...          0   \n",
       "9  joebarri whos concerned hunterbiden trump assk...          0   \n",
       "\n",
       "  negative_reason  \n",
       "0         covid19  \n",
       "1          others  \n",
       "2         covid19  \n",
       "3             NaN  \n",
       "4             NaN  \n",
       "5  discrimination  \n",
       "6  discrimination  \n",
       "7             NaN  \n",
       "8      corruption  \n",
       "9         covid19  "
      ]
     },
     "execution_count": 20,
     "metadata": {},
     "output_type": "execute_result"
    }
   ],
   "source": [
    "df_el['text'] = df_el['text'].apply(lambda x: remove_punct_rt(x)) \n",
    "df_el.head(10)"
   ]
  },
  {
   "cell_type": "markdown",
   "metadata": {},
   "source": [
    "# 2. Exploratory analysis"
   ]
  },
  {
   "cell_type": "markdown",
   "metadata": {},
   "source": [
    "### Political party determination"
   ]
  },
  {
   "cell_type": "markdown",
   "metadata": {},
   "source": [
    "Relevant words that can be used to identify to republican and democratic parties are incorporated to two lists below, respectively. The relevant words are either selected from the links below, or from the word clouds of US elections data based on words' political affiliations on Twitter.\n",
    "\n",
    "References of politically relevant words:\n",
    "<br>\n",
    "https://journals.plos.org/plosone/article/figure?id=10.1371/journal.pone.0137422.t003\n",
    "<br>\n",
    "https://www.researchgate.net/figure/Top-20-words-by-Democrats-and-Republicans_tbl3_276026268"
   ]
  },
  {
   "cell_type": "code",
   "execution_count": 21,
   "metadata": {},
   "outputs": [],
   "source": [
    "GOPword = ['trump','god','america','great','tax','conserve','state','run','govern','vote','illegal', 'donaldtrump','lie',\n",
    "           'lied','president','year','world','government','nation','american','walidphares','donaldjtrumpjr']\n",
    "DEMword = ['biden','love','lol','just','feel','fuck','like','really','watch','got','happy','shit','work','time','suec00k','thewebbix',\n",
    "           'women','day','know','much','life','job','child','democrats','bidenharris2020','trumpvirus','robreiner','joebiden']"
   ]
  },
  {
   "cell_type": "markdown",
   "metadata": {},
   "source": [
    "To determine the certain political party of a tweet, number of relevant words in each tweet for both political parties is counted. Whichever the party has a larger count of words, the tweet is said to support this party. If two parties have equal counts for a tweet, 'Others' is assigned to that tweet."
   ]
  },
  {
   "cell_type": "code",
   "execution_count": 22,
   "metadata": {},
   "outputs": [],
   "source": [
    "def count_keywords(text,wordlist):\n",
    "    count = len([word for word in text if word in wordlist]) # count the number of keywords in wordlist\n",
    "    return count"
   ]
  },
  {
   "cell_type": "code",
   "execution_count": 23,
   "metadata": {},
   "outputs": [],
   "source": [
    "df_el['count_gop'] = df_el['text'].apply(lambda x: count_keywords(x.split(),GOPword)) # count the number of keywords in GOPword\n",
    "df_el['count_dem'] = df_el['text'].apply(lambda x: count_keywords(x.split(),DEMword)) # count the number of keywords in DEMword\n",
    "df_el['count_diff'] = df_el['count_gop'] - df_el['count_dem']\n",
    "\n",
    "col        = 'count_diff'\n",
    "conditions = [ df_el[col] > 0, df_el[col] == 0, df_el[col] < 0 ] # conditions to identify the class\n",
    "choices    = [ 'Republican', 'Others', 'Democratic'] # corresponding output classes\n",
    "    \n",
    "df_el['party_class'] = np.select(conditions, choices)"
   ]
  },
  {
   "cell_type": "code",
   "execution_count": 24,
   "metadata": {},
   "outputs": [
    {
     "data": {
      "text/plain": [
       "Text(0.5, 0, 'count')"
      ]
     },
     "execution_count": 24,
     "metadata": {},
     "output_type": "execute_result"
    },
    {
     "data": {
      "image/png": "[encoded data removed]",
      "text/plain": [
       "<Figure size 432x288 with 1 Axes>"
      ]
     },
     "metadata": {
      "needs_background": "light"
     },
     "output_type": "display_data"
    }
   ],
   "source": [
    "CountStatus = pd.value_counts(df_el['party_class'], sort=True)\n",
    "CountStatus.plot.barh()\n",
    "plt.title('Distributions of the political affiliations of the tweets')\n",
    "plt.xlabel('count')"
   ]
  },
  {
   "cell_type": "markdown",
   "metadata": {},
   "source": [
    "The political affiliations of both Democratic party and Republican party have a similar number of tweets, with a little larger number of tweets of Democratic party. Most people are still in neutral attitude about 2020 US elections."
   ]
  },
  {
   "cell_type": "markdown",
   "metadata": {},
   "source": [
    "### Visualizations - Histograms"
   ]
  },
  {
   "cell_type": "markdown",
   "metadata": {},
   "source": [
    "Distributions of text length after data cleaning in both generic tweets and US election tweets datasets are depicted in histograms below."
   ]
  },
  {
   "cell_type": "code",
   "execution_count": 25,
   "metadata": {},
   "outputs": [
    {
     "name": "stdout",
     "output_type": "stream",
     "text": [
      "Avg. no of words: 6.91\n",
      "Std. deviation: 3.0\n",
      "Max words: 26\n"
     ]
    },
    {
     "data": {
      "text/plain": [
       "Text(0, 0.5, 'count')"
      ]
     },
     "execution_count": 25,
     "metadata": {},
     "output_type": "execute_result"
    },
    {
     "data": {
      "image/png": "[encoded data removed]",
      "text/plain": [
       "<Figure size 432x288 with 1 Axes>"
      ]
     },
     "metadata": {
      "needs_background": "light"
     },
     "output_type": "display_data"
    }
   ],
   "source": [
    "wordDist_sa = [len(w.split()) for w in df_sa['text']]\n",
    "print('Avg. no of words: ' + str(np.round(np.mean(wordDist_sa), 2)))\n",
    "print('Std. deviation: ' + str(np.round(np.std(wordDist_sa), 2)))\n",
    "print('Max words: ' + str(np.max(wordDist_sa)))\n",
    "\n",
    "# Generate the plot\n",
    "plt.hist(wordDist_sa,bins=27)\n",
    "plt.title('Distributions of text length in generic tweets')\n",
    "plt.xlabel('text length')\n",
    "plt.ylabel('count')"
   ]
  },
  {
   "cell_type": "code",
   "execution_count": 26,
   "metadata": {},
   "outputs": [
    {
     "name": "stdout",
     "output_type": "stream",
     "text": [
      "Avg. no of words: 8.8\n",
      "Std. deviation: 2.55\n",
      "Max words: 16\n"
     ]
    },
    {
     "data": {
      "text/plain": [
       "Text(0, 0.5, 'count')"
      ]
     },
     "execution_count": 26,
     "metadata": {},
     "output_type": "execute_result"
    },
    {
     "data": {
      "image/png": "[encoded data removed]",
      "text/plain": [
       "<Figure size 432x288 with 1 Axes>"
      ]
     },
     "metadata": {
      "needs_background": "light"
     },
     "output_type": "display_data"
    }
   ],
   "source": [
    "wordDist_el = [len(w.split()) for w in df_el['text']]\n",
    "print('Avg. no of words: ' + str(np.round(np.mean(wordDist_el), 2)))\n",
    "print('Std. deviation: ' + str(np.round(np.std(wordDist_el), 2)))\n",
    "print('Max words: ' + str(np.max(wordDist_el)))\n",
    "\n",
    "# Generate the plot\n",
    "plt.hist(wordDist_el,bins=17)\n",
    "plt.title('Distributions of text length in US election tweets')\n",
    "plt.xlabel('text length')\n",
    "plt.ylabel('count')"
   ]
  },
  {
   "cell_type": "markdown",
   "metadata": {},
   "source": [
    "Both datasets has large counts of text length from 5 to 10. For generic tweets, there is few text with a length that is larger than 15. The counts of text length is approximately a normal distribution with an average of 6.91 and a standard deviation of 3. For US elections tweets, the counts of text length is approximately a normal distribution with an average of 8.8 and a standard deviation of 2.55.\n",
    "\n",
    "By comparisons, generic tweets tend to have a smaller length of text than US election tweets."
   ]
  },
  {
   "cell_type": "markdown",
   "metadata": {},
   "source": [
    "## Word cloud"
   ]
  },
  {
   "cell_type": "markdown",
   "metadata": {},
   "source": [
    "Word cloud is a data visualization technique used for depict text data in which the size of each word indicates its frequency or importance. Here, we build word clouds for both generic tweets and US elections tweets. "
   ]
  },
  {
   "cell_type": "code",
   "execution_count": 27,
   "metadata": {},
   "outputs": [],
   "source": [
    "stopwords = set(STOPWORDS)\n",
    "\n",
    "# plot wordcloud of given data\n",
    "def show_wordcloud(data, title = None):\n",
    "    wordcloud = WordCloud(\n",
    "        background_color='white',\n",
    "        stopwords=stopwords,\n",
    "        max_words=200,\n",
    "        max_font_size=40, \n",
    "        scale=3,\n",
    "        random_state=1 \n",
    "    ).generate(str(data))\n",
    "    \n",
    "    fig = plt.figure(1, figsize=(8, 8))\n",
    "    plt.axis('off')\n",
    "    if title: \n",
    "        fig.suptitle(title, fontsize=20)\n",
    "        fig.subplots_adjust(top=1.3)\n",
    "    plt.imshow(wordcloud)\n",
    "    plt.show()"
   ]
  },
  {
   "cell_type": "code",
   "execution_count": 28,
   "metadata": {},
   "outputs": [
    {
     "data": {
      "image/png": "[encoded data removed]",
      "text/plain": [
       "<Figure size 960x800 with 1 Axes>"
      ]
     },
     "metadata": {},
     "output_type": "display_data"
    }
   ],
   "source": [
    "plt.rcParams['figure.figsize']=(8.0,6.0)    \n",
    "figure(num=None, figsize=(12, 10), dpi=80, facecolor='w', edgecolor='k')\n",
    "plt.rcParams['font.size']=12                \n",
    "plt.rcParams['savefig.dpi']=100             \n",
    "plt.rcParams['figure.subplot.bottom']=.1 \n",
    "show_wordcloud(df_sa['text'], 'Word cloud of generic tweets')"
   ]
  },
  {
   "cell_type": "code",
   "execution_count": 29,
   "metadata": {},
   "outputs": [
    {
     "data": {
      "image/png": "[encoded data removed]",
      "text/plain": [
       "<Figure size 960x800 with 1 Axes>"
      ]
     },
     "metadata": {},
     "output_type": "display_data"
    }
   ],
   "source": [
    "plt.rcParams['figure.figsize']=(8.0,6.0)    \n",
    "figure(num=None, figsize=(12, 10), dpi=80, facecolor='w', edgecolor='k')\n",
    "plt.rcParams['font.size']=12                \n",
    "plt.rcParams['savefig.dpi']=100             \n",
    "plt.rcParams['figure.subplot.bottom']=.1 \n",
    "show_wordcloud(df_el['text'], 'Word cloud of US elections tweets')"
   ]
  },
  {
   "cell_type": "markdown",
   "metadata": {},
   "source": [
    "We notice that word clouds for generic tweets and US elections tweets look quite different. More political and electoral words appear in the word cloud of US election tweets."
   ]
  },
  {
   "cell_type": "markdown",
   "metadata": {},
   "source": [
    "# 3. Model preparation"
   ]
  },
  {
   "cell_type": "markdown",
   "metadata": {},
   "source": [
    "In this stage, data is prepared to try multiple classification algorithms. Generic tweets are split randomly into training data (70%) and test data (30%). Then, Bag of Words and TF-IDF are used as two types of features for both generic tweets and US election tweets."
   ]
  },
  {
   "cell_type": "markdown",
   "metadata": {},
   "source": [
    "### Data Split"
   ]
  },
  {
   "cell_type": "code",
   "execution_count": 30,
   "metadata": {},
   "outputs": [],
   "source": [
    "X_train, X_test, y_train, y_test = train_test_split(\n",
    "    df_sa['text'].values, df_sa['label'].values, random_state=42, test_size=0.3)"
   ]
  },
  {
   "cell_type": "code",
   "execution_count": 31,
   "metadata": {},
   "outputs": [],
   "source": [
    "X_el = df_el['text'].values\n",
    "y_el = df_el['sentiment'].values"
   ]
  },
  {
   "cell_type": "markdown",
   "metadata": {},
   "source": [
    "### Bag of Words"
   ]
  },
  {
   "cell_type": "markdown",
   "metadata": {},
   "source": [
    "In bag of words, a piece of text is represented as a bag of words, and the frequency of each word is used as a feature in classification models. It is a commonly used technique to extract features from text."
   ]
  },
  {
   "cell_type": "markdown",
   "metadata": {},
   "source": [
    "#### BoW of generic tweets"
   ]
  },
  {
   "cell_type": "code",
   "execution_count": 32,
   "metadata": {},
   "outputs": [],
   "source": [
    "BoW = CountVectorizer() \n",
    "X_train_BoW  = BoW.fit_transform(X_train)\n",
    "X_train_BoW  = preprocessing.normalize(X_train_BoW) # normalize data\n",
    "X_test_BoW = BoW.transform(X_test)\n",
    "X_test_BoW = preprocessing.normalize(X_test_BoW) # normalize data"
   ]
  },
  {
   "cell_type": "markdown",
   "metadata": {},
   "source": [
    "#### BoW of US elections tweets"
   ]
  },
  {
   "cell_type": "code",
   "execution_count": 33,
   "metadata": {},
   "outputs": [],
   "source": [
    "X_el_BoW  = BoW.transform(X_el)\n",
    "X_el_BoW  = preprocessing.normalize(X_el_BoW) # normalize data"
   ]
  },
  {
   "cell_type": "markdown",
   "metadata": {},
   "source": [
    "### TF-IDF"
   ]
  },
  {
   "cell_type": "markdown",
   "metadata": {},
   "source": [
    "TF-IDF = TF x IDF, in which Term Frequency summarizes how often a given word appears within a document; Inverse Document Frequency downscales words that appear a lot across documents in the corpus.\n",
    "\n",
    "TF-IDF is a numerical statistic that is intended to reflect how important a word is to a document in a collection or corpus. The tf-idf value increases proportionally to the number of times a word appears in the document and is offset by the frequency of the word in the corpus, which helps to adjust for the fact that some words appear more frequently in general. It is often used as a weighting factor in searches of information retrieval, text mining, and user modeling. "
   ]
  },
  {
   "cell_type": "markdown",
   "metadata": {},
   "source": [
    "#### TF-IDF of generic tweets"
   ]
  },
  {
   "cell_type": "code",
   "execution_count": 34,
   "metadata": {},
   "outputs": [],
   "source": [
    "tfidf = TfidfVectorizer()\n",
    "X_train_tfidf  = tfidf.fit_transform(X_train)\n",
    "X_train_tfidf  = preprocessing.normalize(X_train_tfidf) # normalize data\n",
    "X_test_tfidf = tfidf.transform(X_test) \n",
    "X_test_tfidf = preprocessing.normalize(X_test_tfidf) # normalize data"
   ]
  },
  {
   "cell_type": "markdown",
   "metadata": {},
   "source": [
    "#### TF-IDF of US elections tweets"
   ]
  },
  {
   "cell_type": "code",
   "execution_count": 35,
   "metadata": {},
   "outputs": [],
   "source": [
    "X_el_tfidf  = tfidf.transform(X_el)\n",
    "X_el_tfidf  = preprocessing.normalize(X_el_tfidf) # normalize data"
   ]
  },
  {
   "cell_type": "markdown",
   "metadata": {},
   "source": [
    "# 4. Model implementation and tuning"
   ]
  },
  {
   "cell_type": "markdown",
   "metadata": {},
   "source": [
    "## Part 1: classification of generic tweets"
   ]
  },
  {
   "cell_type": "markdown",
   "metadata": {},
   "source": [
    "For generic tweets, we implement five classification algorithms including logistic regression, kNN, Naive Bayes, SVM and decision trees, ensembles(random forest and XGBoost) and select the best model based on their testing performance."
   ]
  },
  {
   "cell_type": "markdown",
   "metadata": {},
   "source": [
    "### Hyperparameter tuning and cross-validation"
   ]
  },
  {
   "cell_type": "markdown",
   "metadata": {},
   "source": [
    "Since Part 1 dataset is extremely large, it will take endless time to implement hyperparameter tuning and cross-validation on relatively complex models, such as KNN, decisions trees and random forest. Therefore, hyperparameter tuning and cross-validation are not implemented practically in Part 1. Instead, sample codes of hyperparameter tuning and cross-validation on BoW features are demonstrated in markdowns for each classification algorithm. "
   ]
  },
  {
   "cell_type": "markdown",
   "metadata": {},
   "source": [
    "### Logistic regression"
   ]
  },
  {
   "cell_type": "markdown",
   "metadata": {},
   "source": [
    "#### Hyperparameter tuning - BoW"
   ]
  },
  {
   "cell_type": "code",
   "execution_count": null,
   "metadata": {},
   "outputs": [],
   "source": [
    "lr = LogisticRegression(solver = 'liblinear')\n",
    "param_grid = {'C':[1000,100,10,1,0.5,0.1,0.05,0.01,0.005,0.001,0.0005,0.0001],\n",
    "             'penalty':['l1','l2']} \n",
    "gsv = GridSearchCV(lr, param_grid)\n",
    "\n",
    "gsv.fit(X_train_BoW,y_train)\n",
    "print(\"Best HyperParameter: \",gsv.best_params_)\n",
    "print(\"Best Accuracy: %.2f%%\"%(gsv.best_score_*100))"
   ]
  },
  {
   "cell_type": "markdown",
   "metadata": {},
   "source": [
    "#### Model implementation - BoW"
   ]
  },
  {
   "cell_type": "code",
   "execution_count": 36,
   "metadata": {},
   "outputs": [
    {
     "name": "stdout",
     "output_type": "stream",
     "text": [
      "Accuracy on test set: 96.006%\n"
     ]
    }
   ],
   "source": [
    "lr_BoW = LogisticRegression(C = 10, penalty = 'l2', solver = 'liblinear') # tuning results: C = 10, penalty = 'l2'\n",
    "lr_BoW.fit(X_train_BoW,y_train)\n",
    "y_pred = lr_BoW.predict(X_test_BoW)\n",
    "print(\"Accuracy on test set: %0.3f%%\"%(accuracy_score(y_test, y_pred)*100))"
   ]
  },
  {
   "cell_type": "markdown",
   "metadata": {},
   "source": [
    "#### Model implementation - TF-IDF"
   ]
  },
  {
   "cell_type": "code",
   "execution_count": 37,
   "metadata": {},
   "outputs": [
    {
     "name": "stdout",
     "output_type": "stream",
     "text": [
      "Accuracy on test set: 96.040%\n"
     ]
    }
   ],
   "source": [
    "lr_tfidf = LogisticRegression(C = 10, penalty = 'l2', solver = 'liblinear')\n",
    "lr_tfidf.fit(X_train_tfidf,y_train)\n",
    "y_pred = lr_tfidf.predict(X_test_tfidf)\n",
    "print(\"Accuracy on test set: %0.3f%%\"%(accuracy_score(y_test, y_pred)*100))"
   ]
  },
  {
   "cell_type": "markdown",
   "metadata": {},
   "source": [
    "### KNN"
   ]
  },
  {
   "cell_type": "markdown",
   "metadata": {},
   "source": [
    "#### Hyperparameter tuning - BoW"
   ]
  },
  {
   "cell_type": "code",
   "execution_count": null,
   "metadata": {},
   "outputs": [],
   "source": [
    "knn = KNeighborsClassifier()\n",
    "param_grid = {'n_neighbors':[10,20,30,40,50]} \n",
    "\n",
    "gsv = GridSearchCV(knn, param_grid)\n",
    "gsv.fit(X_train_BoW,y_train)\n",
    "print(\"Best HyperParameter: \",gsv.best_params_)\n",
    "print(\"Best Accuracy: %.2f%%\"%(gsv.best_score_*100))"
   ]
  },
  {
   "cell_type": "markdown",
   "metadata": {},
   "source": [
    "#### Model implementation - BoW"
   ]
  },
  {
   "cell_type": "code",
   "execution_count": 38,
   "metadata": {},
   "outputs": [
    {
     "name": "stdout",
     "output_type": "stream",
     "text": [
      "Accuracy on test set: 72.501%\n"
     ]
    }
   ],
   "source": [
    "knn_BoW = KNeighborsClassifier()\n",
    "knn_BoW.fit(X_train_BoW,y_train)\n",
    "y_pred = knn_BoW.predict(X_test_BoW)\n",
    "print(\"Accuracy on test set: %0.3f%%\"%(accuracy_score(y_test, y_pred)*100))"
   ]
  },
  {
   "cell_type": "markdown",
   "metadata": {},
   "source": [
    "#### Model implementation - TF-IDF"
   ]
  },
  {
   "cell_type": "code",
   "execution_count": 39,
   "metadata": {},
   "outputs": [
    {
     "name": "stdout",
     "output_type": "stream",
     "text": [
      "Accuracy on test set: 61.875%\n"
     ]
    }
   ],
   "source": [
    "knn_tfidf = KNeighborsClassifier()\n",
    "knn_tfidf.fit(X_train_tfidf,y_train)\n",
    "y_pred = knn_tfidf.predict(X_test_tfidf)\n",
    "print(\"Accuracy on test set: %0.3f%%\"%(accuracy_score(y_test, y_pred)*100))"
   ]
  },
  {
   "cell_type": "markdown",
   "metadata": {},
   "source": [
    "### Naive Bayes"
   ]
  },
  {
   "cell_type": "markdown",
   "metadata": {},
   "source": [
    "#### Hyperparameter tuning - BoW"
   ]
  },
  {
   "cell_type": "code",
   "execution_count": null,
   "metadata": {},
   "outputs": [],
   "source": [
    "bnb = BernoulliNB()\n",
    "param_grid = {'alpha':[1000,100,10,1,0.5,0.1,0.05,0.01,0.005,0.001,0.0005,0.0001]} \n",
    "gsv = GridSearchCV(bnb, param_grid)\n",
    "gsv.fit(X_train_BoW,y_train)\n",
    "print(\"Best HyperParameter: \",gsv.best_params_)\n",
    "print(\"Best Accuracy: %.2f%%\"%(gsv.best_score_*100))"
   ]
  },
  {
   "cell_type": "markdown",
   "metadata": {},
   "source": [
    "#### Model implementation - BoW"
   ]
  },
  {
   "cell_type": "code",
   "execution_count": 40,
   "metadata": {},
   "outputs": [
    {
     "name": "stdout",
     "output_type": "stream",
     "text": [
      "Accuracy on test set: 93.863%\n"
     ]
    }
   ],
   "source": [
    "bnb_BoW = BernoulliNB(alpha=0.5) # tuning results: alpha=0.5\n",
    "bnb_BoW.fit(X_train_BoW,y_train)\n",
    "y_pred = bnb_BoW.predict(X_test_BoW)\n",
    "print(\"Accuracy on test set: %0.3f%%\"%(accuracy_score(y_test, y_pred)*100))"
   ]
  },
  {
   "cell_type": "markdown",
   "metadata": {},
   "source": [
    "#### Model implementation - TF-IDF"
   ]
  },
  {
   "cell_type": "code",
   "execution_count": 41,
   "metadata": {},
   "outputs": [
    {
     "name": "stdout",
     "output_type": "stream",
     "text": [
      "Accuracy on test set: 93.863%\n"
     ]
    }
   ],
   "source": [
    "bnb_tfidf = BernoulliNB(alpha=0.5) \n",
    "bnb_tfidf.fit(X_train_tfidf,y_train)\n",
    "y_pred = bnb_tfidf.predict(X_test_tfidf)\n",
    "print(\"Accuracy on test set: %0.3f%%\"%(accuracy_score(y_test, y_pred)*100))"
   ]
  },
  {
   "cell_type": "markdown",
   "metadata": {},
   "source": [
    "### SVM"
   ]
  },
  {
   "cell_type": "markdown",
   "metadata": {},
   "source": [
    "In SVM model, LinearSVC is used as support vector machine algorithm instead of SVC to avoid endless running time."
   ]
  },
  {
   "cell_type": "markdown",
   "metadata": {},
   "source": [
    "#### Hyperparameter tuning - BoW"
   ]
  },
  {
   "cell_type": "code",
   "execution_count": null,
   "metadata": {},
   "outputs": [],
   "source": [
    "svm = LinearSVC()\n",
    "param_grid = {'C':[1000,100,10,1,0.1,0.01,0.001,0.0001]} \n",
    "gsv = GridSearchCV(svm, param_grid,cv=3)\n",
    "\n",
    "gsv.fit(X_train_BoW,y_train)\n",
    "print(\"Best HyperParameter: \",gsv.best_params_)\n",
    "print(\"Best Accuracy: %.2f%%\"%(gsv.best_score_*100))"
   ]
  },
  {
   "cell_type": "markdown",
   "metadata": {},
   "source": [
    "#### Model implementation - BoW"
   ]
  },
  {
   "cell_type": "code",
   "execution_count": 40,
   "metadata": {},
   "outputs": [
    {
     "name": "stdout",
     "output_type": "stream",
     "text": [
      "Accuracy on test set: 96.016%\n"
     ]
    }
   ],
   "source": [
    "svm_BoW = LinearSVC()\n",
    "svm_BoW.fit(X_train_BoW,y_train)\n",
    "y_pred = svm_BoW.predict(X_test_BoW)\n",
    "print(\"Accuracy on test set: %0.3f%%\"%(accuracy_score(y_test, y_pred)*100))"
   ]
  },
  {
   "cell_type": "markdown",
   "metadata": {},
   "source": [
    "#### Model implementation - TF-IDF"
   ]
  },
  {
   "cell_type": "code",
   "execution_count": 41,
   "metadata": {},
   "outputs": [
    {
     "name": "stdout",
     "output_type": "stream",
     "text": [
      "Accuracy on test set: 95.964%\n"
     ]
    }
   ],
   "source": [
    "svm_tfidf = LinearSVC()\n",
    "svm_tfidf.fit(X_train_tfidf,y_train)\n",
    "y_pred = svm_tfidf.predict(X_test_tfidf)\n",
    "print(\"Accuracy on test set: %0.3f%%\"%(accuracy_score(y_test, y_pred)*100))"
   ]
  },
  {
   "cell_type": "markdown",
   "metadata": {},
   "source": [
    "### Decision trees"
   ]
  },
  {
   "cell_type": "markdown",
   "metadata": {},
   "source": [
    "#### Hyperparameter tuning - BoW"
   ]
  },
  {
   "cell_type": "code",
   "execution_count": null,
   "metadata": {},
   "outputs": [],
   "source": [
    "g = sp_randint(2,300)\n",
    "dt = DecisionTreeClassifier()\n",
    "param_grid = {'max_depth':sorted(g.rvs(15))} \n",
    "gsv = GridSearchCV(dt, param_grid)\n",
    "gsv.fit(X_train_BoW,y_train)\n",
    "print(\"Best HyperParameter: \",gsv.best_params_)\n",
    "print(\"Best Accuracy: %.2f%%\"%(gsv.best_score_*100))"
   ]
  },
  {
   "cell_type": "markdown",
   "metadata": {},
   "source": [
    "#### Model implementation - BoW"
   ]
  },
  {
   "cell_type": "code",
   "execution_count": 44,
   "metadata": {},
   "outputs": [
    {
     "name": "stdout",
     "output_type": "stream",
     "text": [
      "Accuracy on test set: 92.655%\n"
     ]
    }
   ],
   "source": [
    "dt_BoW = DecisionTreeClassifier()\n",
    "dt_BoW.fit(X_train_BoW,y_train)\n",
    "y_pred = dt_BoW.predict(X_test_BoW)\n",
    "print(\"Accuracy on test set: %0.3f%%\"%(accuracy_score(y_test, y_pred)*100))"
   ]
  },
  {
   "cell_type": "markdown",
   "metadata": {},
   "source": [
    "#### Model implementation - TF-IDF"
   ]
  },
  {
   "cell_type": "code",
   "execution_count": 45,
   "metadata": {},
   "outputs": [
    {
     "name": "stdout",
     "output_type": "stream",
     "text": [
      "Accuracy on test set: 92.251%\n"
     ]
    }
   ],
   "source": [
    "dt_tfidf = DecisionTreeClassifier()\n",
    "dt_tfidf.fit(X_train_tfidf,y_train)\n",
    "y_pred = dt_tfidf.predict(X_test_tfidf)\n",
    "print(\"Accuracy on test set: %0.3f%%\"%(accuracy_score(y_test, y_pred)*100))"
   ]
  },
  {
   "cell_type": "markdown",
   "metadata": {},
   "source": [
    "### Ensembles - random forest"
   ]
  },
  {
   "cell_type": "markdown",
   "metadata": {},
   "source": [
    "#### Hyperparameter tuning - BoW"
   ]
  },
  {
   "cell_type": "code",
   "execution_count": null,
   "metadata": {},
   "outputs": [],
   "source": [
    "g = sp_randint(2,300)\n",
    "rf = RandomForestClassifier()\n",
    "param_grid = {'max_depth':sorted(g.rvs(15)),\n",
    "             'n_estimators': [100, 300, 500, 700, 900]}\n",
    "gsv = GridSearchCV(rf, param_grid)\n",
    "gsv.fit(X_train_BoW,y_train)\n",
    "print(\"Best HyperParameter: \",gsv.best_params_)"
   ]
  },
  {
   "cell_type": "markdown",
   "metadata": {},
   "source": [
    "#### Model implementation - BoW"
   ]
  },
  {
   "cell_type": "code",
   "execution_count": 46,
   "metadata": {},
   "outputs": [
    {
     "name": "stdout",
     "output_type": "stream",
     "text": [
      "Accuracy on test set: 94.938%\n"
     ]
    }
   ],
   "source": [
    "rf_BoW = RandomForestClassifier()\n",
    "rf_BoW.fit(X_train_BoW,y_train)\n",
    "y_pred = rf_BoW.predict(X_test_BoW)\n",
    "print(\"Accuracy on test set: %0.3f%%\"%(accuracy_score(y_test, y_pred)*100))"
   ]
  },
  {
   "cell_type": "markdown",
   "metadata": {},
   "source": [
    "#### Model implementation - TF-IDF"
   ]
  },
  {
   "cell_type": "code",
   "execution_count": 47,
   "metadata": {},
   "outputs": [
    {
     "name": "stdout",
     "output_type": "stream",
     "text": [
      "Accuracy on test set: 94.882%\n"
     ]
    }
   ],
   "source": [
    "rf_tfidf = RandomForestClassifier()\n",
    "rf_tfidf.fit(X_train_tfidf,y_train)\n",
    "y_pred = rf_tfidf.predict(X_test_tfidf)\n",
    "print(\"Accuracy on test set: %0.3f%%\"%(accuracy_score(y_test, y_pred)*100))"
   ]
  },
  {
   "cell_type": "markdown",
   "metadata": {},
   "source": [
    "### Ensembles - XGBoost"
   ]
  },
  {
   "cell_type": "markdown",
   "metadata": {},
   "source": [
    "#### Model implementation - BoW"
   ]
  },
  {
   "cell_type": "code",
   "execution_count": 38,
   "metadata": {},
   "outputs": [
    {
     "name": "stdout",
     "output_type": "stream",
     "text": [
      "Accuracy on test set: 89.970%\n"
     ]
    }
   ],
   "source": [
    "xg_BoW = xgb.XGBClassifier()\n",
    "xg_BoW.fit(X_train_BoW,y_train)\n",
    "y_pred = xg_BoW.predict(X_test_BoW)\n",
    "print(\"Accuracy on test set: %0.3f%%\"%(accuracy_score(y_test, y_pred)*100))"
   ]
  },
  {
   "cell_type": "markdown",
   "metadata": {},
   "source": [
    "#### Model implementation - TF-IDF"
   ]
  },
  {
   "cell_type": "code",
   "execution_count": 39,
   "metadata": {},
   "outputs": [
    {
     "name": "stdout",
     "output_type": "stream",
     "text": [
      "Accuracy on test set: 89.862%\n"
     ]
    }
   ],
   "source": [
    "xg_tfidf = xgb.XGBClassifier()\n",
    "xg_tfidf.fit(X_train_tfidf,y_train)\n",
    "y_pred = xg_tfidf.predict(X_test_tfidf)\n",
    "print(\"Accuracy on test set: %0.3f%%\"%(accuracy_score(y_test, y_pred)*100))"
   ]
  },
  {
   "cell_type": "markdown",
   "metadata": {},
   "source": [
    "### Model selection and  prediction on 2020 US elections data"
   ]
  },
  {
   "cell_type": "markdown",
   "metadata": {},
   "source": [
    "#### Best model"
   ]
  },
  {
   "cell_type": "markdown",
   "metadata": {},
   "source": [
    "For BoW features, the best model of generic tweets is SVM, with optimal test accuracy of 96.016% ; for tf-idf features, the best model of generic tweets is logistic regression, with optimal test accuracy of  96.040%."
   ]
  },
  {
   "cell_type": "markdown",
   "metadata": {},
   "source": [
    "#### Test on US elections data - BoW"
   ]
  },
  {
   "cell_type": "code",
   "execution_count": 42,
   "metadata": {},
   "outputs": [
    {
     "name": "stdout",
     "output_type": "stream",
     "text": [
      "Accuracy on test set: 67.672%\n"
     ]
    }
   ],
   "source": [
    "y_pred_BoW = svm_BoW.predict(X_el_BoW)\n",
    "print(\"Accuracy on test set: %0.3f%%\"%(accuracy_score(y_el, y_pred_BoW)*100))"
   ]
  },
  {
   "cell_type": "markdown",
   "metadata": {},
   "source": [
    "#### Test on US elections data - TF-IDF"
   ]
  },
  {
   "cell_type": "code",
   "execution_count": 43,
   "metadata": {},
   "outputs": [
    {
     "name": "stdout",
     "output_type": "stream",
     "text": [
      "Accuracy on test set: 68.378%\n"
     ]
    }
   ],
   "source": [
    "y_pred_tfidf = lr_tfidf.predict(X_el_tfidf)\n",
    "print(\"Accuracy on test set: %0.3f%%\"%(accuracy_score(y_el, y_pred_tfidf)*100))"
   ]
  },
  {
   "cell_type": "markdown",
   "metadata": {},
   "source": [
    "#### Disucussion"
   ]
  },
  {
   "cell_type": "markdown",
   "metadata": {},
   "source": [
    "The test accuracy of BoW features is 67.672%, and the test accuracy of tf-idf features is 68.378%. Different featurization techniques do not affect too much the test accuracy on sentiment label prediction in the 2020 US elections data. Tf-idf featured model performs slightly better than BoW featured model on 2020 US elections data.\n",
    "\n",
    "The predictions on sentiment labels in the 2020 US elections data are not as good as the predictions on generic tweets data. This result is reasonble because the selected best models are trained and tuned based on generic tweets data, on which the model apparently should have a better performance than on other datasets. "
   ]
  },
  {
   "cell_type": "markdown",
   "metadata": {},
   "source": [
    "### Sentiment label predictions of Republican party & Democratic party"
   ]
  },
  {
   "cell_type": "markdown",
   "metadata": {},
   "source": [
    "#### Group by Republican party & Democratic party"
   ]
  },
  {
   "cell_type": "code",
   "execution_count": 44,
   "metadata": {},
   "outputs": [],
   "source": [
    "df_el['y_pred_BoW'] = y_pred_BoW\n",
    "df_el['y_pred_tfidf'] = y_pred_tfidf\n",
    "df_GOP = df_el.loc[df_el['party_class'] == 'Republican']\n",
    "df_DEM = df_el.loc[df_el['party_class'] == 'Democratic']"
   ]
  },
  {
   "cell_type": "markdown",
   "metadata": {},
   "source": [
    "#### Create labels of confusion matrix "
   ]
  },
  {
   "cell_type": "code",
   "execution_count": 45,
   "metadata": {},
   "outputs": [],
   "source": [
    "def cf_label(cf_matrix):   \n",
    "    group_names = ['True Neg','False Pos','False Neg','True Pos']\n",
    "    group_counts = [\"{0:0.0f}\".format(value) for value in\n",
    "                cf_matrix.flatten()]\n",
    "    group_percentages = [\"{0:.2%}\".format(value) for value in\n",
    "                     cf_matrix.flatten()/np.sum(cf_matrix)]\n",
    "    labels = [f\"{v1}\\n{v2}\\n{v3}\" for v1, v2, v3 in\n",
    "          zip(group_names,group_counts,group_percentages)]\n",
    "    labels = np.asarray(labels).reshape(2,2)\n",
    "    return labels"
   ]
  },
  {
   "cell_type": "markdown",
   "metadata": {},
   "source": [
    "#### BoW feature results"
   ]
  },
  {
   "cell_type": "markdown",
   "metadata": {},
   "source": [
    "Confusion matrix visualization of sentiment prediction results on **Republican party**"
   ]
  },
  {
   "cell_type": "code",
   "execution_count": 46,
   "metadata": {},
   "outputs": [
    {
     "data": {
      "text/plain": [
       "<matplotlib.axes._subplots.AxesSubplot at 0x2991e6027c8>"
      ]
     },
     "execution_count": 46,
     "metadata": {},
     "output_type": "execute_result"
    },
    {
     "data": {
      "image/png": "[encoded data removed]",
      "text/plain": [
       "<Figure size 576x432 with 2 Axes>"
      ]
     },
     "metadata": {
      "needs_background": "light"
     },
     "output_type": "display_data"
    }
   ],
   "source": [
    "cf_matrix_GOP = confusion_matrix(df_GOP['y_pred_BoW'].values, df_GOP['sentiment'].values)\n",
    "labels = cf_label(cf_matrix_GOP)\n",
    "sns.heatmap(cf_matrix_GOP, annot=labels, fmt='', cmap='Blues')"
   ]
  },
  {
   "cell_type": "markdown",
   "metadata": {},
   "source": [
    "Confusion matrix visualization of sentiment prediction results on **Democratic party**"
   ]
  },
  {
   "cell_type": "code",
   "execution_count": 47,
   "metadata": {},
   "outputs": [
    {
     "data": {
      "text/plain": [
       "<matplotlib.axes._subplots.AxesSubplot at 0x2991888c108>"
      ]
     },
     "execution_count": 47,
     "metadata": {},
     "output_type": "execute_result"
    },
    {
     "data": {
      "image/png": "[encoded data removed]",
      "text/plain": [
       "<Figure size 576x432 with 2 Axes>"
      ]
     },
     "metadata": {
      "needs_background": "light"
     },
     "output_type": "display_data"
    }
   ],
   "source": [
    "cf_matrix_DEM = confusion_matrix(df_DEM['y_pred_BoW'].values, df_DEM['sentiment'].values)\n",
    "labels = cf_label(cf_matrix_DEM)\n",
    "sns.heatmap(cf_matrix_DEM, annot=labels, fmt='', cmap='Blues')"
   ]
  },
  {
   "cell_type": "markdown",
   "metadata": {},
   "source": [
    "#### TF-IDF feature results"
   ]
  },
  {
   "cell_type": "markdown",
   "metadata": {},
   "source": [
    "Confusion matrix visualization of sentiment prediction results on **Republican party**"
   ]
  },
  {
   "cell_type": "code",
   "execution_count": 48,
   "metadata": {},
   "outputs": [
    {
     "data": {
      "text/plain": [
       "<matplotlib.axes._subplots.AxesSubplot at 0x299188d15c8>"
      ]
     },
     "execution_count": 48,
     "metadata": {},
     "output_type": "execute_result"
    },
    {
     "data": {
      "image/png": "[encoded data removed]",
      "text/plain": [
       "<Figure size 576x432 with 2 Axes>"
      ]
     },
     "metadata": {
      "needs_background": "light"
     },
     "output_type": "display_data"
    }
   ],
   "source": [
    "cf_matrix_GOP = confusion_matrix(df_GOP['y_pred_tfidf'].values, df_GOP['sentiment'].values)\n",
    "labels = cf_label(cf_matrix_GOP)\n",
    "sns.heatmap(cf_matrix_GOP, annot=labels, fmt='', cmap='Blues')"
   ]
  },
  {
   "cell_type": "markdown",
   "metadata": {},
   "source": [
    "Confusion matrix visualization of sentiment prediction results on **Democratic party**"
   ]
  },
  {
   "cell_type": "code",
   "execution_count": 49,
   "metadata": {},
   "outputs": [
    {
     "data": {
      "text/plain": [
       "<matplotlib.axes._subplots.AxesSubplot at 0x2990b7b96c8>"
      ]
     },
     "execution_count": 49,
     "metadata": {},
     "output_type": "execute_result"
    },
    {
     "data": {
      "image/png": "[encoded data removed]",
      "text/plain": [
       "<Figure size 576x432 with 2 Axes>"
      ]
     },
     "metadata": {
      "needs_background": "light"
     },
     "output_type": "display_data"
    }
   ],
   "source": [
    "cf_matrix_DEM = confusion_matrix(df_DEM['y_pred_tfidf'].values, df_DEM['sentiment'].values)\n",
    "labels = cf_label(cf_matrix_DEM)\n",
    "sns.heatmap(cf_matrix_DEM, annot=labels, fmt='', cmap='Blues')"
   ]
  },
  {
   "cell_type": "markdown",
   "metadata": {},
   "source": [
    "#### Disucussion"
   ]
  },
  {
   "cell_type": "markdown",
   "metadata": {},
   "source": [
    "NLP analytics based on tweets is useful for political parties during election campaigns. The political parties are able to learn the public's attitudes or sentiments towards their own party or the opponent parties during the election; then in terms of the current predicted situations of the public, the parties can take corresponding strategies or actions so as to boost the election towards a relatively advantageous direction."
   ]
  },
  {
   "cell_type": "markdown",
   "metadata": {},
   "source": [
    "For both parties, sentiment label prediction accuracies are closed. The classifications of negative labels for both parties are much better than the classifications of positive labels. The algorithm doesn't really classify the positive labeled tweets successfully."
   ]
  },
  {
   "cell_type": "markdown",
   "metadata": {},
   "source": [
    "### Results "
   ]
  },
  {
   "cell_type": "markdown",
   "metadata": {},
   "source": [
    "Based on the true sentiment values of each political party, the number of the negative sentiments is much larger than the positive sentiments for both parties, as shown in the confision matrices. Therefore, both Republican party and Democratic party are viewed more negatively in the public eye at present.\n",
    "\n",
    "**Suggestions:** Hyperparameter tuning and cross-validation can indeed improve the model performance by selecting the optimal hyperparameters of model and avoiding overfitting at the same time. However, as mentioned at the beginning of Part 1, it is not implemented due to slow execution time."
   ]
  },
  {
   "cell_type": "markdown",
   "metadata": {},
   "source": [
    "## Part 2: multi-class classification of negative 2020 US elections tweets"
   ]
  },
  {
   "cell_type": "markdown",
   "metadata": {},
   "source": [
    "### Preprocessing of negative-reason data"
   ]
  },
  {
   "cell_type": "markdown",
   "metadata": {},
   "source": [
    "Split the data with negative reasons"
   ]
  },
  {
   "cell_type": "code",
   "execution_count": 50,
   "metadata": {},
   "outputs": [],
   "source": [
    "df_neg = df_el.loc[df_el['negative_reason'].isnull() == False]"
   ]
  },
  {
   "cell_type": "markdown",
   "metadata": {},
   "source": [
    "#### Data split"
   ]
  },
  {
   "cell_type": "code",
   "execution_count": 51,
   "metadata": {},
   "outputs": [],
   "source": [
    "X_train_neg, X_test_neg, y_train_neg, y_test_neg = train_test_split(\n",
    "    df_neg['text'].values, df_neg['negative_reason'].values, random_state=42, test_size=0.3)"
   ]
  },
  {
   "cell_type": "markdown",
   "metadata": {},
   "source": [
    "#### BoW on negative-reason data"
   ]
  },
  {
   "cell_type": "code",
   "execution_count": 52,
   "metadata": {},
   "outputs": [],
   "source": [
    "BoW = CountVectorizer() \n",
    "X_train_neg  = BoW.fit_transform(X_train_neg)\n",
    "X_train_neg  = preprocessing.normalize(X_train_neg) # normalize data\n",
    "X_test_neg = BoW.transform(X_test_neg) # normalize data\n",
    "X_test_neg = preprocessing.normalize(X_test_neg)"
   ]
  },
  {
   "cell_type": "markdown",
   "metadata": {},
   "source": [
    "### Logistic regresssion"
   ]
  },
  {
   "cell_type": "markdown",
   "metadata": {},
   "source": [
    "#### Hyperparameter tuning"
   ]
  },
  {
   "cell_type": "code",
   "execution_count": 59,
   "metadata": {},
   "outputs": [
    {
     "name": "stdout",
     "output_type": "stream",
     "text": [
      "Best HyperParameter:  {'C': 5}\n",
      "Best Accuracy: 35.74%\n"
     ]
    }
   ],
   "source": [
    "lr = LogisticRegression(max_iter = 10000)\n",
    "param_grid = {'C':[1000,100,10,5,1,0.5,0.1,0.05,0.01,0.005,0.001,0.0005,0.0001]} \n",
    "gsv = GridSearchCV(lr, param_grid, cv=10)\n",
    "\n",
    "gsv.fit(X_train_neg,y_train_neg)\n",
    "print(\"Best HyperParameter: \",gsv.best_params_)\n",
    "print(\"Best Accuracy: %.2f%%\"%(gsv.best_score_*100))"
   ]
  },
  {
   "cell_type": "markdown",
   "metadata": {},
   "source": [
    "#### Model implementation"
   ]
  },
  {
   "cell_type": "code",
   "execution_count": 60,
   "metadata": {},
   "outputs": [
    {
     "name": "stdout",
     "output_type": "stream",
     "text": [
      "Accuracy on test set: 33.947%\n"
     ]
    }
   ],
   "source": [
    "lr = LogisticRegression(C = 5, max_iter = 10000) # tuning results: C = 5\n",
    "lr.fit(X_train_neg,y_train_neg)\n",
    "y_pred = lr.predict(X_test_neg)\n",
    "print(\"Accuracy on test set: %0.3f%%\"%(accuracy_score(y_test_neg, y_pred)*100))"
   ]
  },
  {
   "cell_type": "markdown",
   "metadata": {},
   "source": [
    "### SVM"
   ]
  },
  {
   "cell_type": "markdown",
   "metadata": {},
   "source": [
    "#### Hyperparameter tuning"
   ]
  },
  {
   "cell_type": "code",
   "execution_count": 61,
   "metadata": {},
   "outputs": [
    {
     "name": "stdout",
     "output_type": "stream",
     "text": [
      "Best HyperParameter:  {'C': 1000, 'gamma': 1}\n",
      "Best Accuracy: 37.10%\n"
     ]
    }
   ],
   "source": [
    "svm = SVC(decision_function_shape='ovo')\n",
    "param_grid = {'gamma':[1000,100,10,1,0.5,0.1,0.05,0.01,0.005,0.001,0.0005,0.0001],\n",
    "             'C':[1000,100,10,1,0.5,0.1,0.05,0.01,0.005,0.001,0.0005,0.0001]} \n",
    "gsv = GridSearchCV(svm, param_grid, n_jobs=-1,cv=10)\n",
    "\n",
    "gsv.fit(X_train_neg,y_train_neg)\n",
    "print(\"Best HyperParameter: \",gsv.best_params_)\n",
    "print(\"Best Accuracy: %.2f%%\"%(gsv.best_score_*100))"
   ]
  },
  {
   "cell_type": "markdown",
   "metadata": {},
   "source": [
    "#### Model implementation"
   ]
  },
  {
   "cell_type": "code",
   "execution_count": 53,
   "metadata": {},
   "outputs": [
    {
     "name": "stdout",
     "output_type": "stream",
     "text": [
      "Accuracy on test set: 35.263%\n"
     ]
    }
   ],
   "source": [
    "svm = SVC(C=1000, gamma=1, decision_function_shape='ovo') # tuning results: C=1000, gamma=1\n",
    "svm.fit(X_train_neg,y_train_neg)\n",
    "y_pred = svm.predict(X_test_neg)\n",
    "print(\"Accuracy on test set: %0.3f%%\"%(accuracy_score(y_test_neg, y_pred)*100))"
   ]
  },
  {
   "cell_type": "markdown",
   "metadata": {},
   "source": [
    "### Decision trees"
   ]
  },
  {
   "cell_type": "markdown",
   "metadata": {},
   "source": [
    "#### Hyperparameter tuning"
   ]
  },
  {
   "cell_type": "code",
   "execution_count": 63,
   "metadata": {},
   "outputs": [
    {
     "name": "stdout",
     "output_type": "stream",
     "text": [
      "Best HyperParameter:  {'max_depth': 2}\n",
      "Best Accuracy: 34.61%\n"
     ]
    }
   ],
   "source": [
    "g = sp_randint(2,300)\n",
    "dt = DecisionTreeClassifier()\n",
    "param_grid = {'max_depth':sorted(g.rvs(50))} \n",
    "gsv = GridSearchCV(dt, param_grid,cv=10)\n",
    "gsv.fit(X_train_neg,y_train_neg)\n",
    "print(\"Best HyperParameter: \",gsv.best_params_)\n",
    "print(\"Best Accuracy: %.2f%%\"%(gsv.best_score_*100))"
   ]
  },
  {
   "cell_type": "markdown",
   "metadata": {},
   "source": [
    "#### Model implementation"
   ]
  },
  {
   "cell_type": "code",
   "execution_count": 64,
   "metadata": {},
   "outputs": [
    {
     "name": "stdout",
     "output_type": "stream",
     "text": [
      "Accuracy on test set: 32.105%\n"
     ]
    }
   ],
   "source": [
    "dt = DecisionTreeClassifier(max_depth=7) # tuning results: max_depth=7\n",
    "dt.fit(X_train_neg,y_train_neg)\n",
    "y_pred = dt.predict(X_test_neg)\n",
    "print(\"Accuracy on test set: %0.3f%%\"%(accuracy_score(y_test_neg, y_pred)*100))"
   ]
  },
  {
   "cell_type": "markdown",
   "metadata": {},
   "source": [
    "### Results "
   ]
  },
  {
   "cell_type": "markdown",
   "metadata": {},
   "source": [
    "Hyperparameter tuning and cross-validation are used to obtain the optimal hyperparameters for each algorithm. By comparison, the best model for multi-class classification of negative 2020 US elections tweets is SVM (C=1000, gamma=1), with optimal test accuracy of 35.263%."
   ]
  },
  {
   "cell_type": "markdown",
   "metadata": {},
   "source": [
    "Possible reasons why your model may fail to predict the correct negative reasons are as follows:\n",
    "\n",
    "1. Imbalanced dataset might produce unsatisfactory classifiers.\n",
    "<br>\n",
    "i.e.\n",
    "<br>\n",
    "{'corruption': 66,\n",
    "<br>\n",
    " 'discrimination': 66, \n",
    "<br>\n",
    " 'covid19': 107, \n",
    "<br>\n",
    " 'crime': 74,\n",
    "<br>\n",
    " 'others': 67}\n",
    "\n",
    "\n",
    "2. The dataset of negative 2020 US elections tweets has a small number of samples, which is not enough for good classification results. \n",
    "<br>\n",
    "(i.e. 1264 samples in negative-reason dataset, 380 samples in the test set)\n",
    "\n",
    "\n",
    "3. Feature engineering methods and classification algorithms might not be the optimal.\n",
    "\n",
    "**Suggestions:** \n",
    "\n",
    "1. Data resampling techniques can be used to obtain a balanced dataset. Algorithmic emsemble techniques, such as bagging (bootstrapping) and AdaBoost, can also be used to deal with imbalanced datasets. Both techniques are able to improve the accuracy of models.\n",
    "\n",
    "2. Different feature engineering methods such as word embeddings, N-gram BoW or Word2Vec can be also tried to improve the models \n",
    "\n",
    "3. Deep learning algorithm such as recurrent neural network can also help to improve the models."
   ]
  }
 ],
 "metadata": {
  "kernelspec": {
   "display_name": "Python 3",
   "language": "python",
   "name": "python3"
  },
  "language_info": {
   "codemirror_mode": {
    "name": "ipython",
    "version": 3
   },
   "file_extension": ".py",
   "mimetype": "text/x-python",
   "name": "python",
   "nbconvert_exporter": "python",
   "pygments_lexer": "ipython3",
   "version": "3.8.5"
  }
 },
 "nbformat": 4,
 "nbformat_minor": 4
}
