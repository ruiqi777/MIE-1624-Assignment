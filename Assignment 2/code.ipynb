{
 "cells": [
  {
   "cell_type": "markdown",
   "metadata": {},
   "source": [
    "# MIE 1624 Assignment 2"
   ]
  },
  {
   "cell_type": "markdown",
   "metadata": {},
   "source": [
    "### Import Libraries"
   ]
  },
  {
   "cell_type": "code",
   "execution_count": 1,
   "metadata": {},
   "outputs": [],
   "source": [
    "import pandas as pd\n",
    "import numpy as np\n",
    "import matplotlib.pyplot as plt\n",
    "import scipy.stats as stats\n",
    "import math\n",
    "import random\n",
    "import statistics\n",
    "from sklearn.ensemble import ExtraTreesClassifier\n",
    "from sklearn.model_selection import train_test_split\n",
    "from sklearn.preprocessing import StandardScaler\n",
    "from sklearn.linear_model import Lasso, LogisticRegression\n",
    "from sklearn.feature_selection import SelectFromModel\n",
    "from sklearn.model_selection import KFold\n",
    "import matplotlib.pyplot as plt"
   ]
  },
  {
   "cell_type": "markdown",
   "metadata": {},
   "source": [
    "### Load data"
   ]
  },
  {
   "cell_type": "code",
   "execution_count": 2,
   "metadata": {},
   "outputs": [
    {
     "name": "stderr",
     "output_type": "stream",
     "text": [
      "C:\\Users\\dell\\anaconda3\\lib\\site-packages\\IPython\\core\\interactiveshell.py:3063: DtypeWarning: Columns (0,3,7,19,34,47,49,50,51,52,53,54,68,73,77,81,94,96,109,114,115,130,139,146,147,153,154,167,171,175,180,193,206,212,219,224,228,231,232,245) have mixed types.Specify dtype option on import or set low_memory=False.\n",
      "  interactivity=interactivity, compiler=compiler, result=result)\n"
     ]
    },
    {
     "data": {
      "text/html": [
       "<div>\n",
       "<style scoped>\n",
       "    .dataframe tbody tr th:only-of-type {\n",
       "        vertical-align: middle;\n",
       "    }\n",
       "\n",
       "    .dataframe tbody tr th {\n",
       "        vertical-align: top;\n",
       "    }\n",
       "\n",
       "    .dataframe thead th {\n",
       "        text-align: right;\n",
       "    }\n",
       "</style>\n",
       "<table border=\"1\" class=\"dataframe\">\n",
       "  <thead>\n",
       "    <tr style=\"text-align: right;\">\n",
       "      <th></th>\n",
       "      <th>Time from Start to Finish (seconds)</th>\n",
       "      <th>Q1</th>\n",
       "      <th>Q2</th>\n",
       "      <th>Q2_OTHER_TEXT</th>\n",
       "      <th>Q3</th>\n",
       "      <th>Q4</th>\n",
       "      <th>Q5</th>\n",
       "      <th>Q5_OTHER_TEXT</th>\n",
       "      <th>Q6</th>\n",
       "      <th>Q7</th>\n",
       "      <th>...</th>\n",
       "      <th>Q34_Part_6</th>\n",
       "      <th>Q34_Part_7</th>\n",
       "      <th>Q34_Part_8</th>\n",
       "      <th>Q34_Part_9</th>\n",
       "      <th>Q34_Part_10</th>\n",
       "      <th>Q34_Part_11</th>\n",
       "      <th>Q34_Part_12</th>\n",
       "      <th>Q34_OTHER_TEXT</th>\n",
       "      <th>Q10_Encoded</th>\n",
       "      <th>Q10_buckets</th>\n",
       "    </tr>\n",
       "  </thead>\n",
       "  <tbody>\n",
       "    <tr>\n",
       "      <th>0</th>\n",
       "      <td>Duration (in seconds)</td>\n",
       "      <td>What is your age (# years)?</td>\n",
       "      <td>What is your gender? - Selected Choice</td>\n",
       "      <td>What is your gender? - Prefer to self-describe...</td>\n",
       "      <td>In which country do you currently reside?</td>\n",
       "      <td>What is the highest level of formal education ...</td>\n",
       "      <td>Select the title most similar to your current ...</td>\n",
       "      <td>Select the title most similar to your current ...</td>\n",
       "      <td>What is the size of the company where you are ...</td>\n",
       "      <td>Approximately how many individuals are respons...</td>\n",
       "      <td>...</td>\n",
       "      <td>Which of the following relational database pro...</td>\n",
       "      <td>Which of the following relational database pro...</td>\n",
       "      <td>Which of the following relational database pro...</td>\n",
       "      <td>Which of the following relational database pro...</td>\n",
       "      <td>Which of the following relational database pro...</td>\n",
       "      <td>Which of the following relational database pro...</td>\n",
       "      <td>Which of the following relational database pro...</td>\n",
       "      <td>Which of the following relational database pro...</td>\n",
       "      <td>NaN</td>\n",
       "      <td>NaN</td>\n",
       "    </tr>\n",
       "    <tr>\n",
       "      <th>1</th>\n",
       "      <td>510</td>\n",
       "      <td>22-24</td>\n",
       "      <td>Male</td>\n",
       "      <td>-1</td>\n",
       "      <td>France</td>\n",
       "      <td>Master’s degree</td>\n",
       "      <td>Software Engineer</td>\n",
       "      <td>-1</td>\n",
       "      <td>1000-9,999 employees</td>\n",
       "      <td>0</td>\n",
       "      <td>...</td>\n",
       "      <td>NaN</td>\n",
       "      <td>NaN</td>\n",
       "      <td>NaN</td>\n",
       "      <td>NaN</td>\n",
       "      <td>NaN</td>\n",
       "      <td>NaN</td>\n",
       "      <td>NaN</td>\n",
       "      <td>-1</td>\n",
       "      <td>3.0</td>\n",
       "      <td>30,000-39,999</td>\n",
       "    </tr>\n",
       "    <tr>\n",
       "      <th>2</th>\n",
       "      <td>423</td>\n",
       "      <td>40-44</td>\n",
       "      <td>Male</td>\n",
       "      <td>-1</td>\n",
       "      <td>India</td>\n",
       "      <td>Professional degree</td>\n",
       "      <td>Software Engineer</td>\n",
       "      <td>-1</td>\n",
       "      <td>&gt; 10,000 employees</td>\n",
       "      <td>20+</td>\n",
       "      <td>...</td>\n",
       "      <td>NaN</td>\n",
       "      <td>NaN</td>\n",
       "      <td>NaN</td>\n",
       "      <td>NaN</td>\n",
       "      <td>NaN</td>\n",
       "      <td>NaN</td>\n",
       "      <td>NaN</td>\n",
       "      <td>-1</td>\n",
       "      <td>0.0</td>\n",
       "      <td>0-9,999</td>\n",
       "    </tr>\n",
       "    <tr>\n",
       "      <th>3</th>\n",
       "      <td>391</td>\n",
       "      <td>40-44</td>\n",
       "      <td>Male</td>\n",
       "      <td>-1</td>\n",
       "      <td>Australia</td>\n",
       "      <td>Master’s degree</td>\n",
       "      <td>Other</td>\n",
       "      <td>0</td>\n",
       "      <td>&gt; 10,000 employees</td>\n",
       "      <td>20+</td>\n",
       "      <td>...</td>\n",
       "      <td>NaN</td>\n",
       "      <td>NaN</td>\n",
       "      <td>NaN</td>\n",
       "      <td>Azure SQL Database</td>\n",
       "      <td>NaN</td>\n",
       "      <td>NaN</td>\n",
       "      <td>NaN</td>\n",
       "      <td>-1</td>\n",
       "      <td>14.0</td>\n",
       "      <td>&gt;250,000</td>\n",
       "    </tr>\n",
       "    <tr>\n",
       "      <th>4</th>\n",
       "      <td>392</td>\n",
       "      <td>22-24</td>\n",
       "      <td>Male</td>\n",
       "      <td>-1</td>\n",
       "      <td>India</td>\n",
       "      <td>Bachelor’s degree</td>\n",
       "      <td>Other</td>\n",
       "      <td>1</td>\n",
       "      <td>0-49 employees</td>\n",
       "      <td>0</td>\n",
       "      <td>...</td>\n",
       "      <td>NaN</td>\n",
       "      <td>NaN</td>\n",
       "      <td>NaN</td>\n",
       "      <td>NaN</td>\n",
       "      <td>NaN</td>\n",
       "      <td>NaN</td>\n",
       "      <td>NaN</td>\n",
       "      <td>-1</td>\n",
       "      <td>0.0</td>\n",
       "      <td>0-9,999</td>\n",
       "    </tr>\n",
       "    <tr>\n",
       "      <th>...</th>\n",
       "      <td>...</td>\n",
       "      <td>...</td>\n",
       "      <td>...</td>\n",
       "      <td>...</td>\n",
       "      <td>...</td>\n",
       "      <td>...</td>\n",
       "      <td>...</td>\n",
       "      <td>...</td>\n",
       "      <td>...</td>\n",
       "      <td>...</td>\n",
       "      <td>...</td>\n",
       "      <td>...</td>\n",
       "      <td>...</td>\n",
       "      <td>...</td>\n",
       "      <td>...</td>\n",
       "      <td>...</td>\n",
       "      <td>...</td>\n",
       "      <td>...</td>\n",
       "      <td>...</td>\n",
       "      <td>...</td>\n",
       "      <td>...</td>\n",
       "    </tr>\n",
       "    <tr>\n",
       "      <th>12493</th>\n",
       "      <td>346</td>\n",
       "      <td>22-24</td>\n",
       "      <td>Male</td>\n",
       "      <td>-1</td>\n",
       "      <td>India</td>\n",
       "      <td>Bachelor’s degree</td>\n",
       "      <td>Data Scientist</td>\n",
       "      <td>-1</td>\n",
       "      <td>50-249 employees</td>\n",
       "      <td>3-4</td>\n",
       "      <td>...</td>\n",
       "      <td>NaN</td>\n",
       "      <td>NaN</td>\n",
       "      <td>NaN</td>\n",
       "      <td>NaN</td>\n",
       "      <td>NaN</td>\n",
       "      <td>NaN</td>\n",
       "      <td>NaN</td>\n",
       "      <td>-1</td>\n",
       "      <td>0.0</td>\n",
       "      <td>0-9,999</td>\n",
       "    </tr>\n",
       "    <tr>\n",
       "      <th>12494</th>\n",
       "      <td>88</td>\n",
       "      <td>25-29</td>\n",
       "      <td>Prefer not to say</td>\n",
       "      <td>-1</td>\n",
       "      <td>Austria</td>\n",
       "      <td>No formal education past high school</td>\n",
       "      <td>Data Scientist</td>\n",
       "      <td>-1</td>\n",
       "      <td>250-999 employees</td>\n",
       "      <td>1-2</td>\n",
       "      <td>...</td>\n",
       "      <td>NaN</td>\n",
       "      <td>NaN</td>\n",
       "      <td>NaN</td>\n",
       "      <td>NaN</td>\n",
       "      <td>NaN</td>\n",
       "      <td>NaN</td>\n",
       "      <td>NaN</td>\n",
       "      <td>-1</td>\n",
       "      <td>0.0</td>\n",
       "      <td>0-9,999</td>\n",
       "    </tr>\n",
       "    <tr>\n",
       "      <th>12495</th>\n",
       "      <td>473</td>\n",
       "      <td>18-21</td>\n",
       "      <td>Male</td>\n",
       "      <td>-1</td>\n",
       "      <td>India</td>\n",
       "      <td>Bachelor’s degree</td>\n",
       "      <td>Other</td>\n",
       "      <td>-1</td>\n",
       "      <td>250-999 employees</td>\n",
       "      <td>3-4</td>\n",
       "      <td>...</td>\n",
       "      <td>NaN</td>\n",
       "      <td>NaN</td>\n",
       "      <td>NaN</td>\n",
       "      <td>NaN</td>\n",
       "      <td>NaN</td>\n",
       "      <td>NaN</td>\n",
       "      <td>NaN</td>\n",
       "      <td>-1</td>\n",
       "      <td>0.0</td>\n",
       "      <td>0-9,999</td>\n",
       "    </tr>\n",
       "    <tr>\n",
       "      <th>12496</th>\n",
       "      <td>176</td>\n",
       "      <td>25-29</td>\n",
       "      <td>Male</td>\n",
       "      <td>-1</td>\n",
       "      <td>India</td>\n",
       "      <td>Master’s degree</td>\n",
       "      <td>Statistician</td>\n",
       "      <td>-1</td>\n",
       "      <td>50-249 employees</td>\n",
       "      <td>15-19</td>\n",
       "      <td>...</td>\n",
       "      <td>NaN</td>\n",
       "      <td>NaN</td>\n",
       "      <td>NaN</td>\n",
       "      <td>NaN</td>\n",
       "      <td>NaN</td>\n",
       "      <td>NaN</td>\n",
       "      <td>NaN</td>\n",
       "      <td>-1</td>\n",
       "      <td>0.0</td>\n",
       "      <td>0-9,999</td>\n",
       "    </tr>\n",
       "    <tr>\n",
       "      <th>12497</th>\n",
       "      <td>567</td>\n",
       "      <td>50-54</td>\n",
       "      <td>Male</td>\n",
       "      <td>-1</td>\n",
       "      <td>France</td>\n",
       "      <td>Bachelor’s degree</td>\n",
       "      <td>Software Engineer</td>\n",
       "      <td>-1</td>\n",
       "      <td>&gt; 10,000 employees</td>\n",
       "      <td>20+</td>\n",
       "      <td>...</td>\n",
       "      <td>NaN</td>\n",
       "      <td>NaN</td>\n",
       "      <td>NaN</td>\n",
       "      <td>NaN</td>\n",
       "      <td>NaN</td>\n",
       "      <td>NaN</td>\n",
       "      <td>NaN</td>\n",
       "      <td>-1</td>\n",
       "      <td>6.0</td>\n",
       "      <td>60,000-69,999</td>\n",
       "    </tr>\n",
       "  </tbody>\n",
       "</table>\n",
       "<p>12498 rows × 248 columns</p>\n",
       "</div>"
      ],
      "text/plain": [
       "      Time from Start to Finish (seconds)                           Q1  \\\n",
       "0                   Duration (in seconds)  What is your age (# years)?   \n",
       "1                                     510                        22-24   \n",
       "2                                     423                        40-44   \n",
       "3                                     391                        40-44   \n",
       "4                                     392                        22-24   \n",
       "...                                   ...                          ...   \n",
       "12493                                 346                        22-24   \n",
       "12494                                  88                        25-29   \n",
       "12495                                 473                        18-21   \n",
       "12496                                 176                        25-29   \n",
       "12497                                 567                        50-54   \n",
       "\n",
       "                                           Q2  \\\n",
       "0      What is your gender? - Selected Choice   \n",
       "1                                        Male   \n",
       "2                                        Male   \n",
       "3                                        Male   \n",
       "4                                        Male   \n",
       "...                                       ...   \n",
       "12493                                    Male   \n",
       "12494                       Prefer not to say   \n",
       "12495                                    Male   \n",
       "12496                                    Male   \n",
       "12497                                    Male   \n",
       "\n",
       "                                           Q2_OTHER_TEXT  \\\n",
       "0      What is your gender? - Prefer to self-describe...   \n",
       "1                                                     -1   \n",
       "2                                                     -1   \n",
       "3                                                     -1   \n",
       "4                                                     -1   \n",
       "...                                                  ...   \n",
       "12493                                                 -1   \n",
       "12494                                                 -1   \n",
       "12495                                                 -1   \n",
       "12496                                                 -1   \n",
       "12497                                                 -1   \n",
       "\n",
       "                                              Q3  \\\n",
       "0      In which country do you currently reside?   \n",
       "1                                         France   \n",
       "2                                          India   \n",
       "3                                      Australia   \n",
       "4                                          India   \n",
       "...                                          ...   \n",
       "12493                                      India   \n",
       "12494                                    Austria   \n",
       "12495                                      India   \n",
       "12496                                      India   \n",
       "12497                                     France   \n",
       "\n",
       "                                                      Q4  \\\n",
       "0      What is the highest level of formal education ...   \n",
       "1                                        Master’s degree   \n",
       "2                                    Professional degree   \n",
       "3                                        Master’s degree   \n",
       "4                                      Bachelor’s degree   \n",
       "...                                                  ...   \n",
       "12493                                  Bachelor’s degree   \n",
       "12494               No formal education past high school   \n",
       "12495                                  Bachelor’s degree   \n",
       "12496                                    Master’s degree   \n",
       "12497                                  Bachelor’s degree   \n",
       "\n",
       "                                                      Q5  \\\n",
       "0      Select the title most similar to your current ...   \n",
       "1                                      Software Engineer   \n",
       "2                                      Software Engineer   \n",
       "3                                                  Other   \n",
       "4                                                  Other   \n",
       "...                                                  ...   \n",
       "12493                                     Data Scientist   \n",
       "12494                                     Data Scientist   \n",
       "12495                                              Other   \n",
       "12496                                       Statistician   \n",
       "12497                                  Software Engineer   \n",
       "\n",
       "                                           Q5_OTHER_TEXT  \\\n",
       "0      Select the title most similar to your current ...   \n",
       "1                                                     -1   \n",
       "2                                                     -1   \n",
       "3                                                      0   \n",
       "4                                                      1   \n",
       "...                                                  ...   \n",
       "12493                                                 -1   \n",
       "12494                                                 -1   \n",
       "12495                                                 -1   \n",
       "12496                                                 -1   \n",
       "12497                                                 -1   \n",
       "\n",
       "                                                      Q6  \\\n",
       "0      What is the size of the company where you are ...   \n",
       "1                                   1000-9,999 employees   \n",
       "2                                     > 10,000 employees   \n",
       "3                                     > 10,000 employees   \n",
       "4                                         0-49 employees   \n",
       "...                                                  ...   \n",
       "12493                                   50-249 employees   \n",
       "12494                                  250-999 employees   \n",
       "12495                                  250-999 employees   \n",
       "12496                                   50-249 employees   \n",
       "12497                                 > 10,000 employees   \n",
       "\n",
       "                                                      Q7  ...  \\\n",
       "0      Approximately how many individuals are respons...  ...   \n",
       "1                                                      0  ...   \n",
       "2                                                    20+  ...   \n",
       "3                                                    20+  ...   \n",
       "4                                                      0  ...   \n",
       "...                                                  ...  ...   \n",
       "12493                                                3-4  ...   \n",
       "12494                                                1-2  ...   \n",
       "12495                                                3-4  ...   \n",
       "12496                                              15-19  ...   \n",
       "12497                                                20+  ...   \n",
       "\n",
       "                                              Q34_Part_6  \\\n",
       "0      Which of the following relational database pro...   \n",
       "1                                                    NaN   \n",
       "2                                                    NaN   \n",
       "3                                                    NaN   \n",
       "4                                                    NaN   \n",
       "...                                                  ...   \n",
       "12493                                                NaN   \n",
       "12494                                                NaN   \n",
       "12495                                                NaN   \n",
       "12496                                                NaN   \n",
       "12497                                                NaN   \n",
       "\n",
       "                                              Q34_Part_7  \\\n",
       "0      Which of the following relational database pro...   \n",
       "1                                                    NaN   \n",
       "2                                                    NaN   \n",
       "3                                                    NaN   \n",
       "4                                                    NaN   \n",
       "...                                                  ...   \n",
       "12493                                                NaN   \n",
       "12494                                                NaN   \n",
       "12495                                                NaN   \n",
       "12496                                                NaN   \n",
       "12497                                                NaN   \n",
       "\n",
       "                                              Q34_Part_8  \\\n",
       "0      Which of the following relational database pro...   \n",
       "1                                                    NaN   \n",
       "2                                                    NaN   \n",
       "3                                                    NaN   \n",
       "4                                                    NaN   \n",
       "...                                                  ...   \n",
       "12493                                                NaN   \n",
       "12494                                                NaN   \n",
       "12495                                                NaN   \n",
       "12496                                                NaN   \n",
       "12497                                                NaN   \n",
       "\n",
       "                                              Q34_Part_9  \\\n",
       "0      Which of the following relational database pro...   \n",
       "1                                                    NaN   \n",
       "2                                                    NaN   \n",
       "3                                     Azure SQL Database   \n",
       "4                                                    NaN   \n",
       "...                                                  ...   \n",
       "12493                                                NaN   \n",
       "12494                                                NaN   \n",
       "12495                                                NaN   \n",
       "12496                                                NaN   \n",
       "12497                                                NaN   \n",
       "\n",
       "                                             Q34_Part_10  \\\n",
       "0      Which of the following relational database pro...   \n",
       "1                                                    NaN   \n",
       "2                                                    NaN   \n",
       "3                                                    NaN   \n",
       "4                                                    NaN   \n",
       "...                                                  ...   \n",
       "12493                                                NaN   \n",
       "12494                                                NaN   \n",
       "12495                                                NaN   \n",
       "12496                                                NaN   \n",
       "12497                                                NaN   \n",
       "\n",
       "                                             Q34_Part_11  \\\n",
       "0      Which of the following relational database pro...   \n",
       "1                                                    NaN   \n",
       "2                                                    NaN   \n",
       "3                                                    NaN   \n",
       "4                                                    NaN   \n",
       "...                                                  ...   \n",
       "12493                                                NaN   \n",
       "12494                                                NaN   \n",
       "12495                                                NaN   \n",
       "12496                                                NaN   \n",
       "12497                                                NaN   \n",
       "\n",
       "                                             Q34_Part_12  \\\n",
       "0      Which of the following relational database pro...   \n",
       "1                                                    NaN   \n",
       "2                                                    NaN   \n",
       "3                                                    NaN   \n",
       "4                                                    NaN   \n",
       "...                                                  ...   \n",
       "12493                                                NaN   \n",
       "12494                                                NaN   \n",
       "12495                                                NaN   \n",
       "12496                                                NaN   \n",
       "12497                                                NaN   \n",
       "\n",
       "                                          Q34_OTHER_TEXT Q10_Encoded  \\\n",
       "0      Which of the following relational database pro...         NaN   \n",
       "1                                                     -1         3.0   \n",
       "2                                                     -1         0.0   \n",
       "3                                                     -1        14.0   \n",
       "4                                                     -1         0.0   \n",
       "...                                                  ...         ...   \n",
       "12493                                                 -1         0.0   \n",
       "12494                                                 -1         0.0   \n",
       "12495                                                 -1         0.0   \n",
       "12496                                                 -1         0.0   \n",
       "12497                                                 -1         6.0   \n",
       "\n",
       "         Q10_buckets  \n",
       "0                NaN  \n",
       "1      30,000-39,999  \n",
       "2            0-9,999  \n",
       "3           >250,000  \n",
       "4            0-9,999  \n",
       "...              ...  \n",
       "12493        0-9,999  \n",
       "12494        0-9,999  \n",
       "12495        0-9,999  \n",
       "12496        0-9,999  \n",
       "12497  60,000-69,999  \n",
       "\n",
       "[12498 rows x 248 columns]"
      ]
     },
     "execution_count": 2,
     "metadata": {},
     "output_type": "execute_result"
    }
   ],
   "source": [
    "df= pd.read_csv('Kaggle_Salary.csv')\n",
    "df"
   ]
  },
  {
   "cell_type": "markdown",
   "metadata": {},
   "source": [
    "# Part 1: Data cleaning"
   ]
  },
  {
   "cell_type": "markdown",
   "metadata": {},
   "source": [
    "### Data Exploration and preprocessing"
   ]
  },
  {
   "cell_type": "markdown",
   "metadata": {},
   "source": [
    "By data explorations, the following steps are taken at the beginning:\n",
    "1. Drop the row of questions\n",
    "2. Drop the columns including targets(i.e. 'Q10','Q10_Encoded','Q10_buckets')\n",
    "3. Drop column 'Q14' because its results have alrealy been encoded into other columns of Q14 answers."
   ]
  },
  {
   "cell_type": "code",
   "execution_count": 3,
   "metadata": {},
   "outputs": [],
   "source": [
    "# drop the row of questions\n",
    "df = df.drop([0])\n",
    "\n",
    "# save targets to df_target\n",
    "df_target = df['Q10_Encoded']\n",
    "\n",
    "# drop column \"Q14\" and targets \"Q10\" ,\"Q10_Encoded\", \"Q10_buckets\"\n",
    "df.drop(['Q14','Q10','Q10_Encoded','Q10_buckets'], axis=1, inplace=True)"
   ]
  },
  {
   "cell_type": "markdown",
   "metadata": {},
   "source": [
    "Data is splitted into three groups to further process:\n",
    "1. categorial features without orders\n",
    "2. categorial features with orders\n",
    "3. selected choice and other texts columns\n",
    "\n",
    "Note: 'Q4' and 'Q8' also contain some hierarchies. However, those hierarchies are not able to be determined subjectively."
   ]
  },
  {
   "cell_type": "code",
   "execution_count": 4,
   "metadata": {},
   "outputs": [],
   "source": [
    "df_one_hot_encoded = df[['Q3','Q4','Q2','Q5','Q8','Q19']]\n",
    "df_label_encoded = df[['Q1','Q6','Q7','Q11','Q15','Q22','Q23']]\n",
    "df.drop(['Q3','Q4','Q2','Q5','Q19','Q1','Q6','Q7','Q8','Q11','Q15','Q22','Q23'], axis=1, inplace=True)"
   ]
  },
  {
   "cell_type": "markdown",
   "metadata": {
    "scrolled": true
   },
   "source": [
    "### Handle missing values"
   ]
  },
  {
   "cell_type": "markdown",
   "metadata": {},
   "source": [
    "Check number of nulls in categorial data"
   ]
  },
  {
   "cell_type": "code",
   "execution_count": 5,
   "metadata": {},
   "outputs": [
    {
     "data": {
      "text/plain": [
       "Q3        0\n",
       "Q4        0\n",
       "Q2        0\n",
       "Q5        0\n",
       "Q8        0\n",
       "Q19    1844\n",
       "dtype: int64"
      ]
     },
     "execution_count": 5,
     "metadata": {},
     "output_type": "execute_result"
    }
   ],
   "source": [
    "df_one_hot_encoded.isnull().sum()"
   ]
  },
  {
   "cell_type": "code",
   "execution_count": 6,
   "metadata": {},
   "outputs": [
    {
     "data": {
      "text/plain": [
       "Q1        0\n",
       "Q6        0\n",
       "Q7        0\n",
       "Q11     247\n",
       "Q15    1075\n",
       "Q22    1947\n",
       "Q23    1956\n",
       "dtype: int64"
      ]
     },
     "execution_count": 6,
     "metadata": {},
     "output_type": "execute_result"
    }
   ],
   "source": [
    "df_label_encoded.isnull().sum()"
   ]
  },
  {
   "cell_type": "markdown",
   "metadata": {},
   "source": [
    "Check the proportions of valid entries of each column with nulls"
   ]
  },
  {
   "cell_type": "code",
   "execution_count": 7,
   "metadata": {},
   "outputs": [
    {
     "data": {
      "text/plain": [
       "Python        0.769736\n",
       "R             0.100723\n",
       "SQL           0.069089\n",
       "C++           0.012015\n",
       "MATLAB        0.010795\n",
       "Other         0.010607\n",
       "C             0.007885\n",
       "Java          0.006571\n",
       "None          0.005726\n",
       "Javascript    0.003473\n",
       "Bash          0.002910\n",
       "TypeScript    0.000469\n",
       "Name: Q19, dtype: float64"
      ]
     },
     "execution_count": 7,
     "metadata": {},
     "output_type": "execute_result"
    }
   ],
   "source": [
    "df_one_hot_encoded['Q19'].value_counts(normalize=True)"
   ]
  },
  {
   "cell_type": "code",
   "execution_count": 8,
   "metadata": {},
   "outputs": [
    {
     "data": {
      "text/plain": [
       "$0 (USD)             0.329633\n",
       "$100-$999            0.190612\n",
       "$1000-$9,999         0.173306\n",
       "$1-$99               0.121224\n",
       "$10,000-$99,999      0.103510\n",
       "> $100,000 ($USD)    0.081714\n",
       "Name: Q11, dtype: float64"
      ]
     },
     "execution_count": 8,
     "metadata": {},
     "output_type": "execute_result"
    }
   ],
   "source": [
    "df_label_encoded['Q11'].value_counts(normalize=True)"
   ]
  },
  {
   "cell_type": "code",
   "execution_count": 9,
   "metadata": {},
   "outputs": [
    {
     "data": {
      "text/plain": [
       "3-5 years                    0.246717\n",
       "1-2 years                    0.237524\n",
       "< 1 years                    0.179391\n",
       "5-10 years                   0.153126\n",
       "10-20 years                  0.087901\n",
       "I have never written code    0.048328\n",
       "20+ years                    0.047015\n",
       "Name: Q15, dtype: float64"
      ]
     },
     "execution_count": 9,
     "metadata": {},
     "output_type": "execute_result"
    }
   ],
   "source": [
    "df_label_encoded['Q15'].value_counts(normalize=True)"
   ]
  },
  {
   "cell_type": "code",
   "execution_count": 10,
   "metadata": {},
   "outputs": [
    {
     "data": {
      "text/plain": [
       "Never         0.806825\n",
       "Once          0.092512\n",
       "2-5 times     0.075355\n",
       "6-24 times    0.013744\n",
       "> 25 times    0.011564\n",
       "Name: Q22, dtype: float64"
      ]
     },
     "execution_count": 10,
     "metadata": {},
     "output_type": "execute_result"
    }
   ],
   "source": [
    "df_label_encoded['Q22'].value_counts(normalize=True)"
   ]
  },
  {
   "cell_type": "code",
   "execution_count": 11,
   "metadata": {},
   "outputs": [
    {
     "data": {
      "text/plain": [
       "< 1 years      0.291054\n",
       "1-2 years      0.258704\n",
       "2-3 years      0.148847\n",
       "3-4 years      0.092496\n",
       "4-5 years      0.081871\n",
       "5-10 years     0.079025\n",
       "10-15 years    0.031306\n",
       "20+ years      0.016697\n",
       "Name: Q23, dtype: float64"
      ]
     },
     "execution_count": 11,
     "metadata": {},
     "output_type": "execute_result"
    }
   ],
   "source": [
    "df_label_encoded['Q23'].value_counts(normalize=True)"
   ]
  },
  {
   "cell_type": "markdown",
   "metadata": {},
   "source": [
    "#### Missing values of categorical columns"
   ]
  },
  {
   "cell_type": "markdown",
   "metadata": {},
   "source": [
    "For column 'Q19' and 'Q22', one of the entries are proportionally dominant, so it is reasonable to fill nulls with the mode of each column. For column 'Q11', 'Q15' and 'Q23', proportions of unique entries are relatively balanced. In this case, replacing nulls with modes is not a good idea. Instead, nulls are filled with 'Unknown' since their values are unpredictable."
   ]
  },
  {
   "cell_type": "code",
   "execution_count": 12,
   "metadata": {},
   "outputs": [
    {
     "name": "stderr",
     "output_type": "stream",
     "text": [
      "C:\\Users\\dell\\anaconda3\\lib\\site-packages\\pandas\\core\\generic.py:6245: SettingWithCopyWarning: \n",
      "A value is trying to be set on a copy of a slice from a DataFrame\n",
      "\n",
      "See the caveats in the documentation: https://pandas.pydata.org/pandas-docs/stable/user_guide/indexing.html#returning-a-view-versus-a-copy\n",
      "  self._update_inplace(new_data)\n",
      "C:\\Users\\dell\\anaconda3\\lib\\site-packages\\pandas\\core\\indexing.py:670: SettingWithCopyWarning: \n",
      "A value is trying to be set on a copy of a slice from a DataFrame\n",
      "\n",
      "See the caveats in the documentation: https://pandas.pydata.org/pandas-docs/stable/user_guide/indexing.html#returning-a-view-versus-a-copy\n",
      "  self._setitem_with_indexer(indexer, value)\n",
      "C:\\Users\\dell\\anaconda3\\lib\\site-packages\\ipykernel_launcher.py:3: SettingWithCopyWarning: \n",
      "A value is trying to be set on a copy of a slice from a DataFrame\n",
      "\n",
      "See the caveats in the documentation: https://pandas.pydata.org/pandas-docs/stable/user_guide/indexing.html#returning-a-view-versus-a-copy\n",
      "  This is separate from the ipykernel package so we can avoid doing imports until\n",
      "C:\\Users\\dell\\anaconda3\\lib\\site-packages\\ipykernel_launcher.py:4: SettingWithCopyWarning: \n",
      "A value is trying to be set on a copy of a slice from a DataFrame\n",
      "\n",
      "See the caveats in the documentation: https://pandas.pydata.org/pandas-docs/stable/user_guide/indexing.html#returning-a-view-versus-a-copy\n",
      "  after removing the cwd from sys.path.\n",
      "C:\\Users\\dell\\anaconda3\\lib\\site-packages\\ipykernel_launcher.py:5: SettingWithCopyWarning: \n",
      "A value is trying to be set on a copy of a slice from a DataFrame\n",
      "\n",
      "See the caveats in the documentation: https://pandas.pydata.org/pandas-docs/stable/user_guide/indexing.html#returning-a-view-versus-a-copy\n",
      "  \"\"\"\n"
     ]
    }
   ],
   "source": [
    "df_one_hot_encoded['Q19'].fillna(df_one_hot_encoded['Q19'].mode()[0],inplace=True)\n",
    "df_label_encoded['Q22'].fillna(df_label_encoded['Q22'].mode()[0],inplace=True)\n",
    "df_label_encoded.loc[df_label_encoded['Q11'].isnull(), 'Q11'] = 'Unknown'\n",
    "df_label_encoded.loc[df_label_encoded['Q15'].isnull(), 'Q15'] = 'Unknown'\n",
    "df_label_encoded.loc[df_label_encoded['Q23'].isnull(), 'Q23'] = 'Unknown'"
   ]
  },
  {
   "cell_type": "markdown",
   "metadata": {},
   "source": [
    "#### Missing values in selected choice and other texts columns"
   ]
  },
  {
   "cell_type": "markdown",
   "metadata": {},
   "source": [
    "Check number of nulls in the rest columns and find that nulls only exist in the columns of \"Selected Choice\"."
   ]
  },
  {
   "cell_type": "code",
   "execution_count": 13,
   "metadata": {},
   "outputs": [
    {
     "data": {
      "text/plain": [
       "Time from Start to Finish (seconds)        0\n",
       "Q2_OTHER_TEXT                              0\n",
       "Q5_OTHER_TEXT                              0\n",
       "Q9_Part_1                               6518\n",
       "Q9_Part_2                               8990\n",
       "                                       ...  \n",
       "Q34_Part_9                             12018\n",
       "Q34_Part_10                            11971\n",
       "Q34_Part_11                            11252\n",
       "Q34_Part_12                            12210\n",
       "Q34_OTHER_TEXT                             0\n",
       "Length: 231, dtype: int64"
      ]
     },
     "execution_count": 13,
     "metadata": {},
     "output_type": "execute_result"
    }
   ],
   "source": [
    "df.isnull().sum()"
   ]
  },
  {
   "cell_type": "markdown",
   "metadata": {},
   "source": [
    "In each column of \"Selected Choice\", nulls indicate that this choice was not selected, and the rest entries are the same selected choice of this column. In this case, one-hot encoding can be applied on columns of \"Selected Choice\" to convert nulls to 0, and encode the selected choices corresponding to their columns as 1. "
   ]
  },
  {
   "cell_type": "code",
   "execution_count": 14,
   "metadata": {},
   "outputs": [],
   "source": [
    "for column in df.columns:\n",
    "    \n",
    "    # Only process the columns with nulls\n",
    "    if df[column].isnull().sum() != 0: \n",
    "        \n",
    "        df = pd.get_dummies(df, columns=[column], prefix=[column])"
   ]
  },
  {
   "cell_type": "markdown",
   "metadata": {},
   "source": [
    "## Data encoding"
   ]
  },
  {
   "cell_type": "markdown",
   "metadata": {},
   "source": [
    "### One-hot encoding"
   ]
  },
  {
   "cell_type": "markdown",
   "metadata": {},
   "source": [
    "One-hot encoding is used to encode the features without orders. One advantage of one-hot encoding is that it treats all categories equivalent so there would be no order or hierarchy introduced into encoded values."
   ]
  },
  {
   "cell_type": "code",
   "execution_count": 15,
   "metadata": {},
   "outputs": [
    {
     "data": {
      "text/html": [
       "<div>\n",
       "<style scoped>\n",
       "    .dataframe tbody tr th:only-of-type {\n",
       "        vertical-align: middle;\n",
       "    }\n",
       "\n",
       "    .dataframe tbody tr th {\n",
       "        vertical-align: top;\n",
       "    }\n",
       "\n",
       "    .dataframe thead th {\n",
       "        text-align: right;\n",
       "    }\n",
       "</style>\n",
       "<table border=\"1\" class=\"dataframe\">\n",
       "  <thead>\n",
       "    <tr style=\"text-align: right;\">\n",
       "      <th></th>\n",
       "      <th>Q3_Algeria</th>\n",
       "      <th>Q3_Argentina</th>\n",
       "      <th>Q3_Australia</th>\n",
       "      <th>Q3_Austria</th>\n",
       "      <th>Q3_Bangladesh</th>\n",
       "      <th>Q3_Belarus</th>\n",
       "      <th>Q3_Belgium</th>\n",
       "      <th>Q3_Brazil</th>\n",
       "      <th>Q3_Canada</th>\n",
       "      <th>Q3_Chile</th>\n",
       "      <th>...</th>\n",
       "      <th>Q19_C++</th>\n",
       "      <th>Q19_Java</th>\n",
       "      <th>Q19_Javascript</th>\n",
       "      <th>Q19_MATLAB</th>\n",
       "      <th>Q19_None</th>\n",
       "      <th>Q19_Other</th>\n",
       "      <th>Q19_Python</th>\n",
       "      <th>Q19_R</th>\n",
       "      <th>Q19_SQL</th>\n",
       "      <th>Q19_TypeScript</th>\n",
       "    </tr>\n",
       "  </thead>\n",
       "  <tbody>\n",
       "    <tr>\n",
       "      <th>1</th>\n",
       "      <td>0</td>\n",
       "      <td>0</td>\n",
       "      <td>0</td>\n",
       "      <td>0</td>\n",
       "      <td>0</td>\n",
       "      <td>0</td>\n",
       "      <td>0</td>\n",
       "      <td>0</td>\n",
       "      <td>0</td>\n",
       "      <td>0</td>\n",
       "      <td>...</td>\n",
       "      <td>0</td>\n",
       "      <td>0</td>\n",
       "      <td>0</td>\n",
       "      <td>0</td>\n",
       "      <td>0</td>\n",
       "      <td>0</td>\n",
       "      <td>1</td>\n",
       "      <td>0</td>\n",
       "      <td>0</td>\n",
       "      <td>0</td>\n",
       "    </tr>\n",
       "    <tr>\n",
       "      <th>2</th>\n",
       "      <td>0</td>\n",
       "      <td>0</td>\n",
       "      <td>0</td>\n",
       "      <td>0</td>\n",
       "      <td>0</td>\n",
       "      <td>0</td>\n",
       "      <td>0</td>\n",
       "      <td>0</td>\n",
       "      <td>0</td>\n",
       "      <td>0</td>\n",
       "      <td>...</td>\n",
       "      <td>0</td>\n",
       "      <td>0</td>\n",
       "      <td>0</td>\n",
       "      <td>0</td>\n",
       "      <td>0</td>\n",
       "      <td>0</td>\n",
       "      <td>1</td>\n",
       "      <td>0</td>\n",
       "      <td>0</td>\n",
       "      <td>0</td>\n",
       "    </tr>\n",
       "    <tr>\n",
       "      <th>3</th>\n",
       "      <td>0</td>\n",
       "      <td>0</td>\n",
       "      <td>1</td>\n",
       "      <td>0</td>\n",
       "      <td>0</td>\n",
       "      <td>0</td>\n",
       "      <td>0</td>\n",
       "      <td>0</td>\n",
       "      <td>0</td>\n",
       "      <td>0</td>\n",
       "      <td>...</td>\n",
       "      <td>0</td>\n",
       "      <td>0</td>\n",
       "      <td>0</td>\n",
       "      <td>0</td>\n",
       "      <td>0</td>\n",
       "      <td>0</td>\n",
       "      <td>1</td>\n",
       "      <td>0</td>\n",
       "      <td>0</td>\n",
       "      <td>0</td>\n",
       "    </tr>\n",
       "    <tr>\n",
       "      <th>4</th>\n",
       "      <td>0</td>\n",
       "      <td>0</td>\n",
       "      <td>0</td>\n",
       "      <td>0</td>\n",
       "      <td>0</td>\n",
       "      <td>0</td>\n",
       "      <td>0</td>\n",
       "      <td>0</td>\n",
       "      <td>0</td>\n",
       "      <td>0</td>\n",
       "      <td>...</td>\n",
       "      <td>0</td>\n",
       "      <td>0</td>\n",
       "      <td>0</td>\n",
       "      <td>0</td>\n",
       "      <td>0</td>\n",
       "      <td>0</td>\n",
       "      <td>1</td>\n",
       "      <td>0</td>\n",
       "      <td>0</td>\n",
       "      <td>0</td>\n",
       "    </tr>\n",
       "    <tr>\n",
       "      <th>5</th>\n",
       "      <td>0</td>\n",
       "      <td>0</td>\n",
       "      <td>0</td>\n",
       "      <td>0</td>\n",
       "      <td>0</td>\n",
       "      <td>0</td>\n",
       "      <td>0</td>\n",
       "      <td>0</td>\n",
       "      <td>0</td>\n",
       "      <td>0</td>\n",
       "      <td>...</td>\n",
       "      <td>0</td>\n",
       "      <td>1</td>\n",
       "      <td>0</td>\n",
       "      <td>0</td>\n",
       "      <td>0</td>\n",
       "      <td>0</td>\n",
       "      <td>0</td>\n",
       "      <td>0</td>\n",
       "      <td>0</td>\n",
       "      <td>0</td>\n",
       "    </tr>\n",
       "    <tr>\n",
       "      <th>...</th>\n",
       "      <td>...</td>\n",
       "      <td>...</td>\n",
       "      <td>...</td>\n",
       "      <td>...</td>\n",
       "      <td>...</td>\n",
       "      <td>...</td>\n",
       "      <td>...</td>\n",
       "      <td>...</td>\n",
       "      <td>...</td>\n",
       "      <td>...</td>\n",
       "      <td>...</td>\n",
       "      <td>...</td>\n",
       "      <td>...</td>\n",
       "      <td>...</td>\n",
       "      <td>...</td>\n",
       "      <td>...</td>\n",
       "      <td>...</td>\n",
       "      <td>...</td>\n",
       "      <td>...</td>\n",
       "      <td>...</td>\n",
       "      <td>...</td>\n",
       "    </tr>\n",
       "    <tr>\n",
       "      <th>12493</th>\n",
       "      <td>0</td>\n",
       "      <td>0</td>\n",
       "      <td>0</td>\n",
       "      <td>0</td>\n",
       "      <td>0</td>\n",
       "      <td>0</td>\n",
       "      <td>0</td>\n",
       "      <td>0</td>\n",
       "      <td>0</td>\n",
       "      <td>0</td>\n",
       "      <td>...</td>\n",
       "      <td>0</td>\n",
       "      <td>0</td>\n",
       "      <td>0</td>\n",
       "      <td>0</td>\n",
       "      <td>0</td>\n",
       "      <td>0</td>\n",
       "      <td>1</td>\n",
       "      <td>0</td>\n",
       "      <td>0</td>\n",
       "      <td>0</td>\n",
       "    </tr>\n",
       "    <tr>\n",
       "      <th>12494</th>\n",
       "      <td>0</td>\n",
       "      <td>0</td>\n",
       "      <td>0</td>\n",
       "      <td>1</td>\n",
       "      <td>0</td>\n",
       "      <td>0</td>\n",
       "      <td>0</td>\n",
       "      <td>0</td>\n",
       "      <td>0</td>\n",
       "      <td>0</td>\n",
       "      <td>...</td>\n",
       "      <td>0</td>\n",
       "      <td>0</td>\n",
       "      <td>0</td>\n",
       "      <td>0</td>\n",
       "      <td>0</td>\n",
       "      <td>0</td>\n",
       "      <td>1</td>\n",
       "      <td>0</td>\n",
       "      <td>0</td>\n",
       "      <td>0</td>\n",
       "    </tr>\n",
       "    <tr>\n",
       "      <th>12495</th>\n",
       "      <td>0</td>\n",
       "      <td>0</td>\n",
       "      <td>0</td>\n",
       "      <td>0</td>\n",
       "      <td>0</td>\n",
       "      <td>0</td>\n",
       "      <td>0</td>\n",
       "      <td>0</td>\n",
       "      <td>0</td>\n",
       "      <td>0</td>\n",
       "      <td>...</td>\n",
       "      <td>0</td>\n",
       "      <td>0</td>\n",
       "      <td>0</td>\n",
       "      <td>0</td>\n",
       "      <td>0</td>\n",
       "      <td>0</td>\n",
       "      <td>1</td>\n",
       "      <td>0</td>\n",
       "      <td>0</td>\n",
       "      <td>0</td>\n",
       "    </tr>\n",
       "    <tr>\n",
       "      <th>12496</th>\n",
       "      <td>0</td>\n",
       "      <td>0</td>\n",
       "      <td>0</td>\n",
       "      <td>0</td>\n",
       "      <td>0</td>\n",
       "      <td>0</td>\n",
       "      <td>0</td>\n",
       "      <td>0</td>\n",
       "      <td>0</td>\n",
       "      <td>0</td>\n",
       "      <td>...</td>\n",
       "      <td>0</td>\n",
       "      <td>0</td>\n",
       "      <td>0</td>\n",
       "      <td>0</td>\n",
       "      <td>0</td>\n",
       "      <td>0</td>\n",
       "      <td>1</td>\n",
       "      <td>0</td>\n",
       "      <td>0</td>\n",
       "      <td>0</td>\n",
       "    </tr>\n",
       "    <tr>\n",
       "      <th>12497</th>\n",
       "      <td>0</td>\n",
       "      <td>0</td>\n",
       "      <td>0</td>\n",
       "      <td>0</td>\n",
       "      <td>0</td>\n",
       "      <td>0</td>\n",
       "      <td>0</td>\n",
       "      <td>0</td>\n",
       "      <td>0</td>\n",
       "      <td>0</td>\n",
       "      <td>...</td>\n",
       "      <td>0</td>\n",
       "      <td>0</td>\n",
       "      <td>0</td>\n",
       "      <td>0</td>\n",
       "      <td>0</td>\n",
       "      <td>0</td>\n",
       "      <td>1</td>\n",
       "      <td>0</td>\n",
       "      <td>0</td>\n",
       "      <td>0</td>\n",
       "    </tr>\n",
       "  </tbody>\n",
       "</table>\n",
       "<p>12497 rows × 98 columns</p>\n",
       "</div>"
      ],
      "text/plain": [
       "       Q3_Algeria  Q3_Argentina  Q3_Australia  Q3_Austria  Q3_Bangladesh  \\\n",
       "1               0             0             0           0              0   \n",
       "2               0             0             0           0              0   \n",
       "3               0             0             1           0              0   \n",
       "4               0             0             0           0              0   \n",
       "5               0             0             0           0              0   \n",
       "...           ...           ...           ...         ...            ...   \n",
       "12493           0             0             0           0              0   \n",
       "12494           0             0             0           1              0   \n",
       "12495           0             0             0           0              0   \n",
       "12496           0             0             0           0              0   \n",
       "12497           0             0             0           0              0   \n",
       "\n",
       "       Q3_Belarus  Q3_Belgium  Q3_Brazil  Q3_Canada  Q3_Chile  ...  Q19_C++  \\\n",
       "1               0           0          0          0         0  ...        0   \n",
       "2               0           0          0          0         0  ...        0   \n",
       "3               0           0          0          0         0  ...        0   \n",
       "4               0           0          0          0         0  ...        0   \n",
       "5               0           0          0          0         0  ...        0   \n",
       "...           ...         ...        ...        ...       ...  ...      ...   \n",
       "12493           0           0          0          0         0  ...        0   \n",
       "12494           0           0          0          0         0  ...        0   \n",
       "12495           0           0          0          0         0  ...        0   \n",
       "12496           0           0          0          0         0  ...        0   \n",
       "12497           0           0          0          0         0  ...        0   \n",
       "\n",
       "       Q19_Java  Q19_Javascript  Q19_MATLAB  Q19_None  Q19_Other  Q19_Python  \\\n",
       "1             0               0           0         0          0           1   \n",
       "2             0               0           0         0          0           1   \n",
       "3             0               0           0         0          0           1   \n",
       "4             0               0           0         0          0           1   \n",
       "5             1               0           0         0          0           0   \n",
       "...         ...             ...         ...       ...        ...         ...   \n",
       "12493         0               0           0         0          0           1   \n",
       "12494         0               0           0         0          0           1   \n",
       "12495         0               0           0         0          0           1   \n",
       "12496         0               0           0         0          0           1   \n",
       "12497         0               0           0         0          0           1   \n",
       "\n",
       "       Q19_R  Q19_SQL  Q19_TypeScript  \n",
       "1          0        0               0  \n",
       "2          0        0               0  \n",
       "3          0        0               0  \n",
       "4          0        0               0  \n",
       "5          0        0               0  \n",
       "...      ...      ...             ...  \n",
       "12493      0        0               0  \n",
       "12494      0        0               0  \n",
       "12495      0        0               0  \n",
       "12496      0        0               0  \n",
       "12497      0        0               0  \n",
       "\n",
       "[12497 rows x 98 columns]"
      ]
     },
     "execution_count": 15,
     "metadata": {},
     "output_type": "execute_result"
    }
   ],
   "source": [
    "for column in df_one_hot_encoded.columns:\n",
    "    \n",
    "    # generate binary values using get_dummies\n",
    "    df_one_hot_encoded = pd.get_dummies(df_one_hot_encoded, columns=[column], prefix=[column])\n",
    "    \n",
    "df_one_hot_encoded"
   ]
  },
  {
   "cell_type": "markdown",
   "metadata": {},
   "source": [
    "### Label encoding"
   ]
  },
  {
   "cell_type": "markdown",
   "metadata": {},
   "source": [
    "Label encoding is used to encode the features with orders. The values of encoding is customized column by column according to the hierarchies contained in original data. In order to assign reasonable values to 'Unknown's existing in label encoded data, all 'Unknown's will be encoded as the medium of each column.\n",
    "\n",
    "One advantage of label encoding is that the orders or hierarchies existing in the original data can be introduced into encoded data so that the encoded values would also keep these orders or hierarchies. It is also easy to implement compared with one-hot encoding, while lack of data exploration might lead to unexpected orders in the data."
   ]
  },
  {
   "cell_type": "markdown",
   "metadata": {},
   "source": [
    "#### Q1 label encoding"
   ]
  },
  {
   "cell_type": "code",
   "execution_count": 16,
   "metadata": {},
   "outputs": [
    {
     "data": {
      "text/plain": [
       "array(['22-24', '40-44', '50-54', '55-59', '30-34', '18-21', '35-39',\n",
       "       '25-29', '45-49', '60-69', '70+'], dtype=object)"
      ]
     },
     "execution_count": 16,
     "metadata": {},
     "output_type": "execute_result"
    }
   ],
   "source": [
    "df_label_encoded.Q1.unique() "
   ]
  },
  {
   "cell_type": "code",
   "execution_count": 17,
   "metadata": {},
   "outputs": [],
   "source": [
    "Q1_encode = ({'22-24':23, '40-44':42, '50-54':52, '55-59':57, '30-34':32, '18-21':20, '35-39':37,'25-29':27, '45-49':47, '60-69':65, '70+':70})\n",
    "df_label_encoded.loc[1:,'Q1'] = df_label_encoded.loc[1:,'Q1'].map(Q1_encode)"
   ]
  },
  {
   "cell_type": "markdown",
   "metadata": {},
   "source": [
    "#### Q6 label encoding"
   ]
  },
  {
   "cell_type": "code",
   "execution_count": 18,
   "metadata": {},
   "outputs": [
    {
     "data": {
      "text/plain": [
       "array(['1000-9,999 employees', '> 10,000 employees', '0-49 employees',\n",
       "       '50-249 employees', '250-999 employees'], dtype=object)"
      ]
     },
     "execution_count": 18,
     "metadata": {},
     "output_type": "execute_result"
    }
   ],
   "source": [
    "df_label_encoded.Q6.unique() "
   ]
  },
  {
   "cell_type": "code",
   "execution_count": 19,
   "metadata": {},
   "outputs": [],
   "source": [
    "Q6_encode = ({'1000-9,999 employees':5000, '> 10,000 employees':10000, '0-49 employees':25,'50-249 employees':150, '250-999 employees':625})\n",
    "df_label_encoded.loc[1:,'Q6'] = df_label_encoded.loc[1:,'Q6'].map(Q6_encode)"
   ]
  },
  {
   "cell_type": "markdown",
   "metadata": {},
   "source": [
    "#### Q7 label encoding"
   ]
  },
  {
   "cell_type": "code",
   "execution_count": 20,
   "metadata": {},
   "outputs": [
    {
     "data": {
      "text/plain": [
       "array(['0', '20+', '3-4', '1-2', '5-9', '10-14', '15-19'], dtype=object)"
      ]
     },
     "execution_count": 20,
     "metadata": {},
     "output_type": "execute_result"
    }
   ],
   "source": [
    "df_label_encoded.Q7.unique() "
   ]
  },
  {
   "cell_type": "code",
   "execution_count": 21,
   "metadata": {},
   "outputs": [],
   "source": [
    "Q7_encode = ({'0':0, '20+':25, '3-4':4, '1-2':2, '5-9':7, '10-14':12, '15-19':17})\n",
    "df_label_encoded.loc[1:,'Q7'] = df_label_encoded.loc[1:,'Q7'].map(Q7_encode)"
   ]
  },
  {
   "cell_type": "markdown",
   "metadata": {},
   "source": [
    "#### Q11 label encoding"
   ]
  },
  {
   "cell_type": "code",
   "execution_count": 22,
   "metadata": {},
   "outputs": [
    {
     "data": {
      "text/plain": [
       "array(['$0 (USD)', '> $100,000 ($USD)', '$10,000-$99,999', '$100-$999',\n",
       "       '$1000-$9,999', '$1-$99', 'Unknown'], dtype=object)"
      ]
     },
     "execution_count": 22,
     "metadata": {},
     "output_type": "execute_result"
    }
   ],
   "source": [
    "df_label_encoded.Q11.unique() "
   ]
  },
  {
   "cell_type": "code",
   "execution_count": 23,
   "metadata": {},
   "outputs": [],
   "source": [
    "Q11_encode = ({'$0 (USD)':0, '> $100,000 ($USD)':100000, '$10,000-$99,999':50000, '$100-$999':500, '$1000-$9,999':5000, '$1-$99':50, 'Unknown':2750})\n",
    "df_label_encoded.loc[1:,'Q11'] = df_label_encoded.loc[1:,'Q11'].map(Q11_encode)"
   ]
  },
  {
   "cell_type": "markdown",
   "metadata": {},
   "source": [
    "#### Q15 label encoding"
   ]
  },
  {
   "cell_type": "code",
   "execution_count": 24,
   "metadata": {},
   "outputs": [
    {
     "data": {
      "text/plain": [
       "array(['1-2 years', 'I have never written code', '< 1 years', '20+ years',\n",
       "       '3-5 years', '5-10 years', '10-20 years', 'Unknown'], dtype=object)"
      ]
     },
     "execution_count": 24,
     "metadata": {},
     "output_type": "execute_result"
    }
   ],
   "source": [
    "df_label_encoded.Q15.unique() "
   ]
  },
  {
   "cell_type": "code",
   "execution_count": 25,
   "metadata": {},
   "outputs": [],
   "source": [
    "Q15_encode = ({'1-2 years':2, 'I have never written code':0, '< 1 years':1, '20+ years':25,'3-5 years':4, '5-10 years':8, '10-20 years':15, 'Unknown':4})\n",
    "df_label_encoded.loc[1:,'Q15'] = df_label_encoded.loc[1:,'Q15'].map(Q15_encode)"
   ]
  },
  {
   "cell_type": "markdown",
   "metadata": {},
   "source": [
    "#### Q22 label encoding"
   ]
  },
  {
   "cell_type": "code",
   "execution_count": 26,
   "metadata": {},
   "outputs": [
    {
     "data": {
      "text/plain": [
       "array(['Never', 'Once', '6-24 times', '2-5 times', '> 25 times'],\n",
       "      dtype=object)"
      ]
     },
     "execution_count": 26,
     "metadata": {},
     "output_type": "execute_result"
    }
   ],
   "source": [
    "df_label_encoded.Q22.unique() "
   ]
  },
  {
   "cell_type": "code",
   "execution_count": 27,
   "metadata": {},
   "outputs": [],
   "source": [
    "Q22_encode = ({'Never':0, 'Once':1, '6-24 times':15, '2-5 times':4, '> 25 times':30})\n",
    "df_label_encoded.loc[1:,'Q22'] = df_label_encoded.loc[1:,'Q22'].map(Q22_encode)"
   ]
  },
  {
   "cell_type": "markdown",
   "metadata": {},
   "source": [
    "#### Q23 label encoding"
   ]
  },
  {
   "cell_type": "code",
   "execution_count": 28,
   "metadata": {},
   "outputs": [
    {
     "data": {
      "text/plain": [
       "array(['1-2 years', 'Unknown', '2-3 years', '< 1 years', '10-15 years',\n",
       "       '3-4 years', '4-5 years', '5-10 years', '20+ years'], dtype=object)"
      ]
     },
     "execution_count": 28,
     "metadata": {},
     "output_type": "execute_result"
    }
   ],
   "source": [
    "df_label_encoded.Q23.unique() "
   ]
  },
  {
   "cell_type": "code",
   "execution_count": 29,
   "metadata": {},
   "outputs": [],
   "source": [
    "Q23_encode = ({'1-2 years':2, 'Unknown':4.5, '2-3 years':3, '< 1 years':1, '10-15 years':13,'3-4 years':4, '4-5 years':5, '5-10 years':8, '20+ years':25})\n",
    "df_label_encoded.loc[1:,'Q23'] = df_label_encoded.loc[1:,'Q23'].map(Q23_encode)"
   ]
  },
  {
   "cell_type": "markdown",
   "metadata": {},
   "source": [
    "Append the datasets together and scale the data"
   ]
  },
  {
   "cell_type": "code",
   "execution_count": 30,
   "metadata": {},
   "outputs": [],
   "source": [
    "# Append datasets\n",
    "df_clean = pd.concat([df, df_one_hot_encoded, df_label_encoded], axis=1)\n",
    "\n",
    "# Scale the data \n",
    "scaler = StandardScaler()\n",
    "df_clean_scaled = scaler.fit_transform(df_clean)"
   ]
  },
  {
   "cell_type": "markdown",
   "metadata": {},
   "source": [
    "# Part 2: Exploratory data analysis and feature selection"
   ]
  },
  {
   "cell_type": "markdown",
   "metadata": {},
   "source": [
    "### Feature Importance"
   ]
  },
  {
   "cell_type": "markdown",
   "metadata": {},
   "source": [
    "The order of feature importance is obtained by Extra Tree Classifier.It aggregates the results of multiple de-correlated decision trees constructed from random sample of features. During the construction of the tree, the number of normalized total reduction of the criteria used in split of each feature is computed as Gini Importance of the feature, which is used to measure the feature importance.\n",
    "\n",
    "The ranking of feature importance associated with importance values is shown in a descending order below. As depicted, most of important features are numerical features and label encoded features. 'Q3_United States of America' is the most important feature after data preprocessing. Column 'Q1', 'Q3', 'Q6','Q7', 'Q11' 'Q15' and 'Time from Start to Finish (seconds)' from the original attributes in the data are most related to a survey respondent’s yearly compensation."
   ]
  },
  {
   "cell_type": "code",
   "execution_count": 31,
   "metadata": {},
   "outputs": [
    {
     "data": {
      "text/plain": [
       "[(0.02204504128912315, 'Q3_United States of America'),\n",
       " (0.020563524286652878, 'Q1'),\n",
       " (0.016772271221811966, 'Q11'),\n",
       " (0.016275346714219742, 'Q15'),\n",
       " (0.01566519702399472, 'Q6'),\n",
       " (0.013543752383421793, 'Q7'),\n",
       " (0.013110599343681093, 'Time from Start to Finish (seconds)'),\n",
       " (0.01205371014763148, 'Q3_India'),\n",
       " (0.01050487479726303, 'Q23'),\n",
       " (0.008898875791214726, 'Q14_Part_4_TEXT'),\n",
       " (0.008384350942484109, 'Q12_Part_4_Kaggle (forums, blog, social media, etc)'),\n",
       " (0.008380223884744149,\n",
       "  'Q12_Part_6_YouTube (Cloud AI Adventures, Siraj Raval, etc)'),\n",
       " (0.008307711890741058, 'Q4_Master’s degree'),\n",
       " (0.008278444029404189,\n",
       "  'Q9_Part_3_Build prototypes to explore applying machine learning to new areas'),\n",
       " (0.007962613446526589,\n",
       "  'Q12_Part_8_Blogs (Towards Data Science, Medium, Analytics Vidhya, KDnuggets etc)'),\n",
       " (0.007877786187618682, 'Q13_Part_2_Coursera'),\n",
       " (0.0075725500718184895, 'Q13_Part_6_Kaggle Courses (i.e. Kaggle Learn)'),\n",
       " (0.007572520407471731, 'Q13_Part_8_Udemy'),\n",
       " (0.007426235453193574,\n",
       "  'Q9_Part_1_Analyze and understand data to influence product or business decisions'),\n",
       " (0.0070877764203096496,\n",
       "  'Q12_Part_9_Journal Publications (traditional publications, preprint journals, etc)'),\n",
       " (0.006988595974653562, 'Q25_Part_7_None'),\n",
       " (0.006923198496194033, 'Q12_Part_1_Twitter (data science influencers)'),\n",
       " (0.006827674371732996, 'Q18_Part_3_SQL'),\n",
       " (0.006826032004914653,\n",
       "  'Q9_Part_2_Build and/or run the data infrastructure that my business uses for storing, analyzing, and operationalizing data'),\n",
       " (0.006800632629236089, 'Q4_Bachelor’s degree'),\n",
       " (0.006770564020019232,\n",
       "  'Q13_Part_10_University Courses (resulting in a university degree)'),\n",
       " (0.006624133322765318, 'Q5_Data Scientist'),\n",
       " (0.0066230592178051825, 'Q13_Part_4_DataCamp'),\n",
       " (0.006539841860500821, 'Q12_Part_5_Course Forums (forums.fast.ai, etc)'),\n",
       " (0.006465712189411484,\n",
       "  'Q8_We have well established ML methods (i.e., models in production for more than 2 years)'),\n",
       " (0.006401756159208983, 'Q17_Part_11_None'),\n",
       " (0.00638040648588371,\n",
       "  'Q9_Part_5_Experimentation and iteration to improve existing ML models'),\n",
       " (0.006312395467968902,\n",
       "  'Q8_We are exploring ML methods (and may one day put a model into production)'),\n",
       " (0.006305554319526539, 'Q13_Part_3_edX'),\n",
       " (0.006285565785423311,\n",
       "  'Q8_We recently started using ML methods (i.e., models in production for less than 2 years)'),\n",
       " (0.00618030433402762, 'Q16_Part_6_ Visual Studio / Visual Studio Code '),\n",
       " (0.006105975692063863, 'Q20_Part_8_ Seaborn '),\n",
       " (0.006090822119737488,\n",
       "  'Q12_Part_3_Reddit (r/machinelearning, r/datascience, etc)'),\n",
       " (0.006087858954624725, 'Q5_Software Engineer'),\n",
       " (0.006042164605055588, 'Q16_Part_9_  Notepad++  '),\n",
       " (0.005965586471905917, 'Q24_Part_2_Decision Trees or Random Forests'),\n",
       " (0.005965474483158406,\n",
       "  'Q9_Part_4_Build and/or run a machine learning service that operationally improves my product or workflows'),\n",
       " (0.005953689578459023,\n",
       "  'Q16_Part_1_Jupyter (JupyterLab, Jupyter Notebooks, etc) '),\n",
       " (0.005945289178830099, 'Q16_Part_3_ PyCharm '),\n",
       " (0.005742583302471572, 'Q28_Part_2_  TensorFlow '),\n",
       " (0.005735150377604192, 'Q21_Part_2_GPUs'),\n",
       " (0.005724561039020403,\n",
       "  'Q24_Part_3_Gradient Boosting Machines (xgboost, lightgbm, etc)'),\n",
       " (0.005686258438090667, 'Q24_Part_1_Linear or Logistic Regression'),\n",
       " (0.005665358069537227, 'Q28_Part_3_ Keras '),\n",
       " (0.005657253961754625, 'Q13_Part_1_Udacity'),\n",
       " (0.005647959416764598, 'Q20_Part_2_ Matplotlib '),\n",
       " (0.005636758473162613, 'Q32_Part_11_None'),\n",
       " (0.00561925181404092, 'Q14_Part_1_TEXT'),\n",
       " (0.005579683242956871, 'Q18_Part_2_R'),\n",
       " (0.005552839637427979, 'Q21_Part_1_CPUs'),\n",
       " (0.005487470702288674, 'Q4_Doctoral degree'),\n",
       " (0.005481943441454985, 'Q28_Part_4_ RandomForest'),\n",
       " (0.005479465019068092, 'Q24_Part_4_Bayesian Approaches'),\n",
       " (0.005438370355758448, 'Q33_Part_11_None'),\n",
       " (0.005422652570228526, 'Q20_Part_1_ Ggplot / ggplot2 '),\n",
       " (0.005384798305351609, 'Q31_Part_11_None'),\n",
       " (0.005365623470275376, 'Q28_Part_1_  Scikit-learn '),\n",
       " (0.005364321876462237, 'Q16_Part_2_ RStudio '),\n",
       " (0.005245996220458447, 'Q20_Part_6_ Plotly / Plotly Express '),\n",
       " (0.005225406851295921,\n",
       "  'Q9_Part_6_Do research that advances the state of the art of machine learning'),\n",
       " (0.005190550434726775, 'Q17_Part_1_ Kaggle Notebooks (Kernels) '),\n",
       " (0.005183984753079638, 'Q28_Part_5_ Xgboost '),\n",
       " (0.005077262690077053, 'Q2_Male'),\n",
       " (0.005036614661560694, 'Q34_Part_1_MySQL'),\n",
       " (0.005027994481596133, 'Q5_Other'),\n",
       " (0.005027239164671066, 'Q18_Part_9_Bash'),\n",
       " (0.004997921724106457,\n",
       "  'Q12_Part_10_Slack Communities (ods.ai, kagglenoobs, etc)'),\n",
       " (0.004946476951259376, 'Q16_Part_7_  Spyder  '),\n",
       " (0.004937053965953245, 'Q19_Python'),\n",
       " (0.004903202145678731,\n",
       "  'Q12_Part_7_Podcasts (Chai Time Data Science, Linear Digressions, etc)'),\n",
       " (0.00483456326455717, 'Q24_Part_7_Convolutional Neural Networks'),\n",
       " (0.004790914464117461, 'Q30_Part_11_None'),\n",
       " (0.0047863786955927605, 'Q2_Female'),\n",
       " (0.0047485947604174236, 'Q17_Part_2_ Google Colab '),\n",
       " (0.0045646994327224666, 'Q28_Part_6_ PyTorch '),\n",
       " (0.004500607434526084, 'Q16_Part_10_  Sublime Text  '),\n",
       " (0.004486720941104267, 'Q5_OTHER_TEXT'),\n",
       " (0.004475478279578406,\n",
       "  'Q8_We use ML methods for generating insights (but do not put working models into production)'),\n",
       " (0.004438256955867204, 'Q29_Part_2_ Amazon Web Services (AWS) '),\n",
       " (0.004432226490504151, 'Q16_Part_8_  Vim / Emacs  '),\n",
       " (0.004418969924676512, 'Q5_Data Analyst'),\n",
       " (0.004397350376241208, 'Q24_Part_6_Dense Neural Networks (MLPs, etc)'),\n",
       " (0.004377701669598707, 'Q8_No (we do not use ML methods)'),\n",
       " (0.0043215721309385995, 'Q24_Part_9_Recurrent Neural Networks'),\n",
       " (0.004181863039028416, 'Q21_Part_4_None / I do not know'),\n",
       " (0.004141019022881217, 'Q34_Part_4_Microsoft SQL Server'),\n",
       " (0.0041225673978111665, 'Q34_Part_2_PostgresSQL'),\n",
       " (0.004076026341900779, 'Q29_Part_11_None'),\n",
       " (0.0040741552612836894, 'Q5_Product/Project Manager'),\n",
       " (0.004065498447677929,\n",
       "  'Q12_Part_2_Hacker News (https://news.ycombinator.com/)'),\n",
       " (0.004057086300961407, 'Q18_Part_7_Javascript'),\n",
       " (0.004052947821544355, 'Q5_Research Scientist'),\n",
       " (0.004046608475552489, 'Q22'),\n",
       " (0.004016598452747918, 'Q28_Part_8_ LightGBM '),\n",
       " (0.003961689787261016, 'Q18_Part_1_Python'),\n",
       " (0.003951648456534767,\n",
       "  'Q25_Part_3_Automated model selection (e.g. auto-sklearn, xcessiv)'),\n",
       " (0.003936802022645323, 'Q13_Part_12_Other'),\n",
       " (0.003854874292356078,\n",
       "  'Q26_Part_4_Image classification and other general purpose networks (VGG, Inception, ResNet, ResNeXt, NASNet, EfficientNet, etc)'),\n",
       " (0.003785698610428361, 'Q18_Part_6_Java'),\n",
       " (0.0037575483737813504, 'Q13_Part_11_None'),\n",
       " (0.0037258692726098146, 'Q30_Part_1_AWS Elastic Compute Cloud (EC2)'),\n",
       " (0.0037146112747784604, 'Q29_Part_1_ Google Cloud Platform (GCP) '),\n",
       " (0.0037074044658815726, 'Q13_Part_7_Fast.ai'),\n",
       " (0.003550177456607056, 'Q18_Part_12_Other'),\n",
       " (0.003435076791780781, 'Q3_Germany'),\n",
       " (0.003435048872234292,\n",
       "  'Q3_United Kingdom of Great Britain and Northern Ireland'),\n",
       " (0.003423357544320581, 'Q13_Part_9_LinkedIn Learning'),\n",
       " (0.003405545502488217, 'Q34_Part_11_None'),\n",
       " (0.003358923246088863, 'Q8_I do not know'),\n",
       " (0.0033428426643460113, 'Q34_Part_3_SQLite'),\n",
       " (0.0033320038979087023, 'Q3_Canada'),\n",
       " (0.0033245509331521262, 'Q5_Business Analyst'),\n",
       " (0.0032961470176700635, 'Q18_Part_5_C++'),\n",
       " (0.0032889572840642746,\n",
       "  'Q26_Part_1_General purpose image/video tools (PIL, cv2, skimage, etc)'),\n",
       " (0.0032527806083369215,\n",
       "  'Q25_Part_5_Automated hyperparameter tuning (e.g. hyperopt, ray.tune)'),\n",
       " (0.003247384800232116,\n",
       "  'Q27_Part_1_Word embeddings/vectors (GLoVe, fastText, word2vec)'),\n",
       " (0.0032453857245740773, 'Q16_Part_4_ Atom '),\n",
       " (0.0031863092127202776,\n",
       "  'Q26_Part_2_Image segmentation methods (U-Net, Mask R-CNN, etc)'),\n",
       " (0.0031494672455615828, 'Q29_Part_3_ Microsoft Azure '),\n",
       " (0.003144319690555544, 'Q17_Part_7_ Binder / JupyterHub '),\n",
       " (0.0031333891772194135, 'Q14_Part_5_TEXT'),\n",
       " (0.0030539557225698327, 'Q12_Part_12_Other'),\n",
       " (0.0030388779178170317, 'Q20_Part_4_ Shiny '),\n",
       " (0.002985441155338709, 'Q14_Part_3_TEXT'),\n",
       " (0.0029812424211878557, 'Q19_R'),\n",
       " (0.0029782596235197138, 'Q28_Part_11_None'),\n",
       " (0.0029659140536000663, 'Q14_OTHER_TEXT'),\n",
       " (0.0029464833592309, 'Q34_Part_5_Oracle Database'),\n",
       " (0.0029427606589945516, 'Q13_OTHER_TEXT'),\n",
       " (0.0029379652301548325, 'Q26_Part_6_None'),\n",
       " (0.0029245974651695293, 'Q3_Spain'),\n",
       " (0.0029083716988080126, 'Q18_OTHER_TEXT'),\n",
       " (0.0028998893690072997, 'Q28_Part_7_ Caret '),\n",
       " (0.002826202976021554, 'Q20_Part_11_None'),\n",
       " (0.0028243065013957205, 'Q16_Part_5_ MATLAB '),\n",
       " (0.0028093670106241336, 'Q14_Part_2_TEXT'),\n",
       " (0.0027858616737035753,\n",
       "  'Q26_Part_3_Object detection methods (YOLOv3, RetinaNet, etc)'),\n",
       " (0.0027530959358600888, 'Q3_Other'),\n",
       " (0.0027412414938159557, 'Q20_Part_5_ D3.js '),\n",
       " (0.002718387297417619,\n",
       "  'Q25_Part_1_Automated data augmentation (e.g. imgaug, albumentations)'),\n",
       " (0.0026911515123403773, 'Q19_SQL'),\n",
       " (0.0026571175755825322, 'Q20_Part_7_ Bokeh '),\n",
       " (0.002641081208180337, 'Q3_Japan'),\n",
       " (0.0025885889909889764, 'Q18_Part_10_MATLAB'),\n",
       " (0.002577445195715148,\n",
       "  'Q25_Part_2_Automated feature engineering/selection (e.g. tpot, boruta_py)'),\n",
       " (0.0025591809929878945, 'Q18_Part_4_C'),\n",
       " (0.0025527182119262633, 'Q30_Part_2_Google Compute Engine (GCE)'),\n",
       " (0.0024966659376162597, 'Q3_France'),\n",
       " (0.002455376033103329, 'Q3_Brazil'),\n",
       " (0.0024514789025825113, 'Q24_Part_11_None'),\n",
       " (0.0024206500167214167, 'Q3_Nigeria'),\n",
       " (0.002402933489100347, 'Q3_Australia'),\n",
       " (0.0023813391292443723, 'Q3_Russia'),\n",
       " (0.0023627527550991057, 'Q27_Part_5_None'),\n",
       " (0.002354747678999603,\n",
       "  'Q9_Part_7_None of these activities are an important part of my role at work'),\n",
       " (0.0023121517928019145, 'Q12_OTHER_TEXT'),\n",
       " (0.002298188145451545,\n",
       "  'Q27_Part_2_Encoder-decorder models (seq2seq, vanilla transformers)'),\n",
       " (0.002269142535540633, 'Q31_Part_1_Google BigQuery'),\n",
       " (0.002260666376821147, 'Q12_Part_11_None'),\n",
       " (0.002223119402715863, 'Q5_Data Engineer'),\n",
       " (0.0021951115649348706, 'Q30_Part_4_Azure Virtual Machines'),\n",
       " (0.002180265369575699, 'Q16_Part_12_Other'),\n",
       " (0.0021621357894440474, 'Q28_Part_9_ Spark MLib '),\n",
       " (0.0021503974354464108, 'Q24_Part_5_Evolutionary Approaches'),\n",
       " (0.002105533389154287,\n",
       "  'Q17_Part_4_ Google Cloud Notebook Products (AI Platform, Datalab, etc) '),\n",
       " (0.002090472773456072, 'Q4_Professional degree'),\n",
       " (0.0020861129090283485, 'Q28_Part_10_ Fast.ai '),\n",
       " (0.002068172363418629,\n",
       "  'Q25_Part_6_Automation of full ML pipelines (e.g. Google AutoML, H20 Driverless AI)'),\n",
       " (0.00205287722353375, 'Q26_Part_5_Generative Networks (GAN, VAE, etc)'),\n",
       " (0.002037689347551198, 'Q3_Italy'),\n",
       " (0.0020338138179354036, 'Q30_Part_3_AWS Lambda'),\n",
       " (0.001950132032344235, 'Q17_Part_3_ Microsoft Azure Notebooks '),\n",
       " (0.0019500649163479095, 'Q13_Part_5_DataQuest'),\n",
       " (0.0018936761956911258,\n",
       "  'Q27_Part_4_Transformer language models (GPT-2, BERT, XLnet, etc)'),\n",
       " (0.0018186802301083157,\n",
       "  'Q17_Part_10_AWS Notebook Products (EMR Notebooks, Sagemaker Notebooks, etc) '),\n",
       " (0.001785739871630089, 'Q31_Part_2_AWS Redshift'),\n",
       " (0.0017806493969992267, 'Q16_OTHER_TEXT'),\n",
       " (0.0017789498514045666, 'Q31_Part_3_Databricks'),\n",
       " (0.0017693727274005623,\n",
       "  'Q24_Part_10_Transformer Networks (BERT, gpt-2, etc)'),\n",
       " (0.0017362506610126846, 'Q34_Part_7_AWS Relational Database Service'),\n",
       " (0.001735010341856586,\n",
       "  'Q4_Some college/university study without earning a bachelor’s degree'),\n",
       " (0.0017280272928534102, 'Q20_Part_10_ Leaflet / Folium '),\n",
       " (0.0017007390394429567, 'Q24_Part_8_Generative Adversarial Networks'),\n",
       " (0.0016251861553219448, 'Q34_Part_6_Microsoft Access'),\n",
       " (0.0015314901311848969, 'Q30_Part_6_Google Cloud Functions'),\n",
       " (0.001434031160833374, 'Q33_Part_7_  Auto-Sklearn '),\n",
       " (0.0014323137642593673, 'Q32_Part_10_Amazon SageMaker'),\n",
       " (0.0014298746984166928, 'Q20_Part_9_ Geoplotlib '),\n",
       " (0.0014277343001842637, 'Q30_Part_8_Google Kubernetes Engine'),\n",
       " (0.001416722769439302, 'Q5_Statistician'),\n",
       " (0.001398068312156042, 'Q17_Part_8_ IBM Watson Studio '),\n",
       " (0.0013775271843305798, 'Q30_Part_5_Google App Engine'),\n",
       " (0.001364296573781306, 'Q3_Poland'),\n",
       " (0.001358195623450424, 'Q32_Part_3_Azure Machine Learning Studio'),\n",
       " (0.001329065982070876, 'Q34_Part_10_Google Cloud SQL'),\n",
       " (0.0013288019979918642, 'Q17_Part_12_Other'),\n",
       " (0.001328236851666444, 'Q32_Part_1_SAS'),\n",
       " (0.0012722401544645915, 'Q18_Part_8_TypeScript'),\n",
       " (0.0012578560791425563, 'Q24_Part_12_Other'),\n",
       " (0.001246716898381152, 'Q20_Part_12_Other'),\n",
       " (0.0012333023374207237, 'Q3_Taiwan'),\n",
       " (0.00123069211964832, 'Q34_Part_9_Azure SQL Database'),\n",
       " (0.0012290042015478356, 'Q3_China'),\n",
       " (0.0012273041859838078, 'Q3_Netherlands'),\n",
       " (0.0012171421369985347, 'Q27_Part_3_Contextualized embeddings (ELMo, CoVe)'),\n",
       " (0.0012034619262092428, 'Q34_Part_8_AWS DynamoDB'),\n",
       " (0.0011702738089358698, 'Q28_Part_12_Other'),\n",
       " (0.0011507475944604229, 'Q32_Part_4_Google Cloud Machine Learning Engine'),\n",
       " (0.0011374639454715054, 'Q20_OTHER_TEXT'),\n",
       " (0.0011283754866225658, 'Q31_Part_4_AWS Elastic MapReduce'),\n",
       " (0.0011282286626420176, 'Q31_Part_7_Google Cloud Dataflow'),\n",
       " (0.0011233618966926314, 'Q32_Part_2_Cloudera'),\n",
       " (0.0010658409331374807, 'Q31_Part_6_Microsoft Analysis Services'),\n",
       " (0.0010657670583037963, 'Q9_Part_8_Other'),\n",
       " (0.0010626420415314009, 'Q34_Part_12_Other'),\n",
       " (0.0010538130392357672, 'Q4_I prefer not to answer'),\n",
       " (0.0010497428497159894, 'Q21_Part_3_TPUs'),\n",
       " (0.001037074828782015, 'Q33_Part_1_ Google AutoML '),\n",
       " (0.0010366085127796656, 'Q16_Part_11_None'),\n",
       " (0.001011950235009011, 'Q24_OTHER_TEXT'),\n",
       " (0.0010103882157593913, 'Q30_Part_10_Azure Container Service'),\n",
       " (0.0009982913992081016, 'Q31_Part_5_Teradata'),\n",
       " (0.000991097077084685, 'Q31_Part_8_AWS Athena'),\n",
       " (0.0009849187929195007, 'Q5_DBA/Database Engineer'),\n",
       " (0.00098260619048217, 'Q29_Part_4_ IBM Cloud '),\n",
       " (0.0009583179276748444, 'Q3_Turkey'),\n",
       " (0.0009475220783186807, 'Q3_Israel'),\n",
       " (0.0009433972403060429, 'Q33_Part_6_  Auto-Keras '),\n",
       " (0.0009376109928364652, 'Q28_OTHER_TEXT'),\n",
       " (0.0009339256627996183,\n",
       "  'Q25_Part_4_Automated model architecture searches (e.g. darts, enas)'),\n",
       " (0.0009320130131177735, 'Q32_Part_6_Google Cloud Speech-to-Text'),\n",
       " (0.0009309494930338168, 'Q17_OTHER_TEXT'),\n",
       " (0.0008856934314926455, 'Q3_Switzerland'),\n",
       " (0.0008768372198589852, 'Q3_Mexico'),\n",
       " (0.0008679582984261688, 'Q2_Prefer not to say'),\n",
       " (0.0008578478551953549, 'Q3_Pakistan'),\n",
       " (0.0008522045225924457, 'Q30_Part_12_Other'),\n",
       " (0.0008489648058584872, 'Q3_Argentina'),\n",
       " (0.0008467658978622265, 'Q33_Part_2_ H20 Driverless AI  '),\n",
       " (0.0008438272232012303, 'Q31_Part_10_Google Cloud Pub/Sub'),\n",
       " (0.0008400319477865059, 'Q3_Ukraine'),\n",
       " (0.0008369751548699523, 'Q30_Part_7_AWS Elastic Beanstalk'),\n",
       " (0.0008256290693151932, 'Q31_Part_12_Other'),\n",
       " (0.0008224132448509234, 'Q32_Part_7_Google Cloud Natural Language'),\n",
       " (0.0008121103527914493, 'Q34_OTHER_TEXT'),\n",
       " (0.0007879190771874573, 'Q32_Part_5_Google Cloud Vision'),\n",
       " (0.0007828383431197307, 'Q31_Part_9_AWS Kinesis'),\n",
       " (0.0007775221349171065, 'Q32_Part_8_RapidMiner'),\n",
       " (0.0007731446660926061, 'Q3_Singapore'),\n",
       " (0.0007667227155703424, 'Q30_Part_9_AWS Batch'),\n",
       " (0.0007552504983792707, 'Q3_Greece'),\n",
       " (0.0007398115058217316, 'Q3_Portugal'),\n",
       " (0.0007392804806541487, 'Q3_Sweden'),\n",
       " (0.0007367730756471582, 'Q3_South Korea'),\n",
       " (0.0007306493577131693, 'Q32_Part_9_Google Cloud Translation'),\n",
       " (0.0007110271543632284, 'Q3_Indonesia'),\n",
       " (0.0007005478880723015, 'Q32_Part_12_Other'),\n",
       " (0.0006853425805770363, 'Q25_Part_8_Other'),\n",
       " (0.0006704378326423046, 'Q3_Chile'),\n",
       " (0.0006691852226261642, 'Q4_No formal education past high school'),\n",
       " (0.0006427879012270426, 'Q9_OTHER_TEXT'),\n",
       " (0.0006379883239983114, 'Q29_Part_12_Other'),\n",
       " (0.0006254056729102837, 'Q30_OTHER_TEXT'),\n",
       " (0.0006211257960033727, 'Q3_Colombia'),\n",
       " (0.000614011289671838, 'Q33_Part_8_  Auto_ml '),\n",
       " (0.0005924310461058197, 'Q31_OTHER_TEXT'),\n",
       " (0.0005865434293810734, 'Q33_Part_5_  Tpot '),\n",
       " (0.000530570445511206, 'Q3_Ireland'),\n",
       " (0.0005290818901616364, 'Q3_South Africa'),\n",
       " (0.0005246214914026355, 'Q32_OTHER_TEXT'),\n",
       " (0.0005105944325108714, 'Q29_Part_7_ Oracle Cloud '),\n",
       " (0.0005043600467112765, 'Q19_C++'),\n",
       " (0.0005034342377878635, 'Q33_Part_4_ DataRobot AutoML '),\n",
       " (0.00047571373103284646, 'Q19_MATLAB'),\n",
       " (0.0004727098274232904, 'Q29_Part_5_ Alibaba Cloud '),\n",
       " (0.0004661155525566987, 'Q3_Hungary'),\n",
       " (0.0004634846516426484, 'Q3_Austria'),\n",
       " (0.0004629639953203567, 'Q33_Part_3_ Databricks AutoML '),\n",
       " (0.00045895798278809246, 'Q29_OTHER_TEXT'),\n",
       " (0.0004500140586134602, 'Q20_Part_3_ Altair '),\n",
       " (0.00044653200176303804, 'Q19_Other'),\n",
       " (0.00043008463224814025, 'Q25_OTHER_TEXT'),\n",
       " (0.0004298957686978044, 'Q17_Part_5_ Paperspace / Gradient '),\n",
       " (0.0004232881268519974, 'Q33_Part_12_Other'),\n",
       " (0.00042222328275541126, 'Q3_Belgium'),\n",
       " (0.0004210625949311646, 'Q29_Part_9_ VMware Cloud '),\n",
       " (0.00041737983223938104, 'Q3_Denmark'),\n",
       " (0.00040541032414413556, 'Q3_Malaysia'),\n",
       " (0.000391188569401684, 'Q18_Part_11_None'),\n",
       " (0.00038612497655438906, 'Q19_OTHER_TEXT'),\n",
       " (0.0003794313301833479, 'Q3_Hong Kong (S.A.R.)'),\n",
       " (0.00037751436635153653, 'Q3_Viet Nam'),\n",
       " (0.0003592210350791377, 'Q3_Republic of Korea'),\n",
       " (0.00035907523278092885, 'Q3_Saudi Arabia'),\n",
       " (0.00034694139233144784, 'Q19_C'),\n",
       " (0.0003458301448064856, 'Q3_Romania'),\n",
       " (0.0003441220483007784, 'Q3_Morocco'),\n",
       " (0.0003426021650577919, 'Q17_Part_6_ FloydHub '),\n",
       " (0.0003362888617985451, 'Q19_None'),\n",
       " (0.00033364977239063094, 'Q29_Part_6_ Salesforce Cloud '),\n",
       " (0.0003291155808149324, 'Q3_Kenya'),\n",
       " (0.00032897392349679296, 'Q3_Norway'),\n",
       " (0.00032489795372583083, 'Q3_New Zealand'),\n",
       " (0.0003078129968980186, 'Q29_Part_8_ SAP Cloud '),\n",
       " (0.00030229590709382427, 'Q3_Bangladesh'),\n",
       " (0.00029781965719295403, 'Q3_Belarus'),\n",
       " (0.0002976154787071356, 'Q21_Part_5_Other'),\n",
       " (0.0002917276431606976, 'Q33_Part_10_  MLbox '),\n",
       " (0.00029033816802759527, 'Q3_Iran, Islamic Republic of...'),\n",
       " (0.0002828811556062032, 'Q3_Egypt'),\n",
       " (0.0002800903868670323, 'Q3_Czech Republic'),\n",
       " (0.00027131987159604714, 'Q3_Thailand'),\n",
       " (0.00026336370435604475, 'Q29_Part_10_ Red Hat Cloud '),\n",
       " (0.0002607868536337075, 'Q33_OTHER_TEXT'),\n",
       " (0.00022159119445066478, 'Q3_Tunisia'),\n",
       " (0.00021893064949951886, 'Q19_Java'),\n",
       " (0.00020671426809103875, 'Q3_Peru'),\n",
       " (0.0001919101995662192, 'Q3_Philippines'),\n",
       " (0.00017901838714119294, 'Q21_OTHER_TEXT'),\n",
       " (0.00016929416706841743, 'Q2_Prefer to self-describe'),\n",
       " (0.00016232422256233294, 'Q3_Algeria'),\n",
       " (0.00015828562788439005, 'Q2_OTHER_TEXT'),\n",
       " (0.00014750061510839592, 'Q19_Bash'),\n",
       " (0.000142565725232683, 'Q19_Javascript'),\n",
       " (0.0001416014057259889, 'Q27_Part_6_Other'),\n",
       " (0.00013822181642296637, 'Q17_Part_9_Code Ocean '),\n",
       " (0.00012317634723482758, 'Q26_Part_7_Other'),\n",
       " (0.00010661297457609723, 'Q27_OTHER_TEXT'),\n",
       " (8.510969965382155e-05, 'Q26_OTHER_TEXT'),\n",
       " (8.045962721073273e-05, 'Q33_Part_9_  Xcessiv '),\n",
       " (1.8442839820945023e-05, 'Q19_TypeScript')]"
      ]
     },
     "execution_count": 31,
     "metadata": {},
     "output_type": "execute_result"
    }
   ],
   "source": [
    "clf = ExtraTreesClassifier()\n",
    "clf.fit(df_clean_scaled, df_target)\n",
    "\n",
    "importance = clf.feature_importances_\n",
    "sorted(list(zip(importance,df_clean)),reverse=True)"
   ]
  },
  {
   "cell_type": "code",
   "execution_count": 32,
   "metadata": {},
   "outputs": [
    {
     "data": {
      "image/png": "[encoded data removed]",
      "text/plain": [
       "<Figure size 1800x720 with 1 Axes>"
      ]
     },
     "metadata": {
      "needs_background": "light"
     },
     "output_type": "display_data"
    }
   ],
   "source": [
    "y_importance = np.array(sorted(list(zip(importance,df_clean)),reverse=True))[0:10,0].astype(float)\n",
    "x_importance = np.array(sorted(list(zip(importance,df_clean)),reverse=True))[0:10,1]\n",
    "f, ax = plt.subplots(figsize=(25,10))\n",
    "plt.bar(x_importance, y_importance) \n",
    "plt.ylabel('Feature Importances') \n",
    "plt.xlabel('Feature Labels') \n",
    "plt.title('Top 10 Feature Importances') \n",
    "plt.show() "
   ]
  },
  {
   "cell_type": "markdown",
   "metadata": {},
   "source": [
    "### Feature Selection"
   ]
  },
  {
   "cell_type": "markdown",
   "metadata": {},
   "source": [
    "Feature engineering is the process to extract new features that better represents the current dataset from raw data by using data mining techniques. New extracted features are robust in model fitting, resulting in an improved model performance. Therefore, feature engineering is a useful tool in machine learning."
   ]
  },
  {
   "cell_type": "markdown",
   "metadata": {},
   "source": [
    "The feature selection technique used in this question is Lasso regularization. Lasso regularization is able to shrink the weights of non-important features to zero by adding L1 penalty to those weights. The features that are not important according to Lasso can be removed to simplify the model and improve model performance.\n",
    "\n",
    "After the feature selection using Lasso regularization, 108 features are passed into model implementation. \n",
    "<br />\n",
    "(This number of features gives a reasonable running time in model implementation,so there is no need for further dimension reduction.)"
   ]
  },
  {
   "cell_type": "code",
   "execution_count": 33,
   "metadata": {},
   "outputs": [
    {
     "name": "stdout",
     "output_type": "stream",
     "text": [
      "Selected features are: Index(['Q14_Part_1_TEXT',\n",
      "       'Q9_Part_1_Analyze and understand data to influence product or business decisions',\n",
      "       'Q9_Part_3_Build prototypes to explore applying machine learning to new areas',\n",
      "       'Q9_Part_5_Experimentation and iteration to improve existing ML models',\n",
      "       'Q12_Part_3_Reddit (r/machinelearning, r/datascience, etc)',\n",
      "       'Q12_Part_6_YouTube (Cloud AI Adventures, Siraj Raval, etc)',\n",
      "       'Q12_Part_8_Blogs (Towards Data Science, Medium, Analytics Vidhya, KDnuggets etc)',\n",
      "       'Q12_Part_10_Slack Communities (ods.ai, kagglenoobs, etc)',\n",
      "       'Q13_Part_2_Coursera', 'Q13_Part_3_edX',\n",
      "       ...\n",
      "       'Q8_I do not know',\n",
      "       'Q8_We have well established ML methods (i.e., models in production for more than 2 years)',\n",
      "       'Q8_We recently started using ML methods (i.e., models in production for less than 2 years)',\n",
      "       'Q19_Java', 'Q1', 'Q6', 'Q7', 'Q11', 'Q15', 'Q23'],\n",
      "      dtype='object', length=108)\n",
      "Number of selected features are: 108\n"
     ]
    }
   ],
   "source": [
    "sel_ = SelectFromModel(LogisticRegression(C=0.01, penalty='l1', solver='liblinear'))\n",
    "sel_.fit(df_clean_scaled, df_target)\n",
    "selected_feat = df_clean.columns[(sel_.get_support())]\n",
    "print(\"Selected features are:\", selected_feat)\n",
    "df_selected = sel_.transform(df_clean_scaled)\n",
    "print(\"Number of selected features are:\", df_selected.shape[1])"
   ]
  },
  {
   "cell_type": "markdown",
   "metadata": {},
   "source": [
    "# Part 3: Model implementation"
   ]
  },
  {
   "cell_type": "markdown",
   "metadata": {},
   "source": [
    "### Data splitting"
   ]
  },
  {
   "cell_type": "markdown",
   "metadata": {},
   "source": [
    "Data is splitted into training and test sets in the scale of 7:3."
   ]
  },
  {
   "cell_type": "code",
   "execution_count": 34,
   "metadata": {},
   "outputs": [],
   "source": [
    "X, X_test, y, y_test = train_test_split(df_selected, df_target, random_state=42, test_size=0.3)"
   ]
  },
  {
   "cell_type": "markdown",
   "metadata": {},
   "source": [
    "### Ordinal multi-class classification using logistic regression"
   ]
  },
  {
   "cell_type": "markdown",
   "metadata": {},
   "source": [
    "To implement logistic regression algorithm, the ordinal multi-class classification problem is decomposed into multiple binary classification problems using the same algorithm as demonstrated in the figure below. The probability of belonging to each class is computed via subtracting the hypothesis from the current classification (h$\\theta$i(x)) by the hypothesis from last classification (h$\\theta$i-1(x)). For the probability of belonging to the first class , it is just equal to the hypothesis of the first binary classification since there is only the first class in the positive class. "
   ]
  },
  {
   "attachments": {},
   "cell_type": "markdown",
   "metadata": {},
   "source": [
    "<img src=\"attachment:image.png\" width=\"400\">"
   ]
  },
  {
   "cell_type": "markdown",
   "metadata": {},
   "source": [
    "For each binary classification, gradient decsent with L2 regularization is applied to the parameter $\\theta$ to train the model. Since L1 regularization is already implemented in feature selection, we use L2 regularization in model implementation. The probability of belonging to each of the salary buckets is computed as the algorithm explained above. By selecting the maximum probability, it is able to predict the class label of data points.\n",
    "\n",
    "Note: Some of the codes were modified according to the following reference about one vs rest binary classification method in multi-class classification. https://teddykoker.com/2019/06/multi-class-classification-with-logistic-regression-in-python/"
   ]
  },
  {
   "cell_type": "markdown",
   "metadata": {},
   "source": [
    "#### Sigmoid function"
   ]
  },
  {
   "cell_type": "code",
   "execution_count": 35,
   "metadata": {},
   "outputs": [],
   "source": [
    "def sigmoid(z):\n",
    "    return 1 / (1 + np.exp(-z))"
   ]
  },
  {
   "cell_type": "markdown",
   "metadata": {},
   "source": [
    "#### Gradient"
   ]
  },
  {
   "cell_type": "code",
   "execution_count": 36,
   "metadata": {},
   "outputs": [],
   "source": [
    "def cost_grad(theta, x, y, C):\n",
    "    h = sigmoid(x @ theta)\n",
    "    m = len(y)\n",
    "    \n",
    "    # C: L2 regularization hyperparameter(Lambda)\n",
    "    grad = 1 / m * ((y - h) @ x)  - 2 * theta * C\n",
    "    return grad"
   ]
  },
  {
   "cell_type": "markdown",
   "metadata": {},
   "source": [
    "#### Model training using gradient decsent"
   ]
  },
  {
   "cell_type": "code",
   "execution_count": 37,
   "metadata": {},
   "outputs": [],
   "source": [
    "def fit(x, y, C, max_iter=10000, alpha=0.1):\n",
    "    thetas = []\n",
    "    classes = np.unique(y)\n",
    "\n",
    "    for c in classes:\n",
    "        #  binary classifications for ordinal multi-class classification\n",
    "        binary_y = np.where(y <= c, 1, 0)\n",
    "        theta = np.zeros(x.shape[1])\n",
    "        \n",
    "        for epoch in range(max_iter):\n",
    "            grad = cost_grad(theta, x, binary_y, C)\n",
    "            theta = theta + alpha * grad\n",
    "            \n",
    "        thetas.append(theta)\n",
    "    return thetas, classes"
   ]
  },
  {
   "cell_type": "markdown",
   "metadata": {},
   "source": [
    "#### Model prediction"
   ]
  },
  {
   "cell_type": "code",
   "execution_count": 38,
   "metadata": {},
   "outputs": [],
   "source": [
    "def predict(classes, thetas, x):\n",
    "    preds = []\n",
    "    \n",
    "    for xi in x:\n",
    "        hx = np.zeros(len(thetas))\n",
    "        \n",
    "        # probability of belonging to each of the salary buckets\n",
    "        for i in range(len(thetas)):\n",
    "            if i == 0:\n",
    "                hx[i] = sigmoid(xi @ thetas[i]) \n",
    "            else:\n",
    "                hx[i] = sigmoid(xi @ thetas[i]) - sigmoid(xi @ thetas[i-1])\n",
    "                \n",
    "        preds.append(np.argmax(hx))\n",
    "    return [classes[p] for p in preds]"
   ]
  },
  {
   "cell_type": "markdown",
   "metadata": {},
   "source": [
    "#### Model evaluation: accuracy"
   ]
  },
  {
   "cell_type": "code",
   "execution_count": 39,
   "metadata": {},
   "outputs": [],
   "source": [
    "def score(classes, theta, x, y):\n",
    "    return (predict(classes, theta, x) == y).mean()"
   ]
  },
  {
   "cell_type": "markdown",
   "metadata": {},
   "source": [
    "### Cross-validation"
   ]
  },
  {
   "cell_type": "markdown",
   "metadata": {},
   "source": [
    "K-fold cross validation is a common tool to generalize the model to an independent dataset, as so as to improve the overall performance of model. In 10-fold cross-validation, the training set is randomly splitted into 10 subsets in the equal size. For each step, a single subset is used for testing, and the remaining 9 subsets are used for training. This process iterates 10 time, and for each time, a different subset is selected for testing."
   ]
  },
  {
   "cell_type": "markdown",
   "metadata": {},
   "source": [
    "#### Note: From this step, the code cannot come up with results when running at https://labs.cognitiveclass.ai/ (i.e. the code running extremely slow). However, it works perfectly on Jupyter Notebook on my laptop with reasonable running time."
   ]
  },
  {
   "cell_type": "code",
   "execution_count": 40,
   "metadata": {},
   "outputs": [
    {
     "name": "stdout",
     "output_type": "stream",
     "text": [
      "Fold 1: Accuracy: 0.347%\n",
      "Fold 2: Accuracy: 0.369%\n",
      "Fold 3: Accuracy: 0.352%\n",
      "Fold 4: Accuracy: 0.366%\n",
      "Fold 5: Accuracy: 0.363%\n",
      "Fold 6: Accuracy: 0.345%\n",
      "Fold 7: Accuracy: 0.376%\n",
      "Fold 8: Accuracy: 0.371%\n",
      "Fold 9: Accuracy: 0.359%\n",
      "Fold 10: Accuracy: 0.332%\n",
      "Average Accuracy: 35.806%\n",
      "Variance of Accuracy: 1.699%\n"
     ]
    }
   ],
   "source": [
    "kfold = KFold(n_splits=10)\n",
    "kfold.get_n_splits(X)\n",
    "\n",
    "accuracy = np.zeros(10)\n",
    "np_idx = 0\n",
    "\n",
    "for train_idx, val_idx in kfold.split(X):\n",
    "    X_train, X_val = X[train_idx], X[val_idx]\n",
    "    y_train, y_val = y.values[train_idx], y.values[val_idx]\n",
    "    \n",
    "    thetas, classes = fit(X_train, y_train, C=0)\n",
    "\n",
    "    ACC = score(classes, thetas, X_val, y_val)\n",
    "\n",
    "    accuracy[np_idx] = ACC*100\n",
    "    np_idx += 1\n",
    "    \n",
    "    print (\"Fold {}: Accuracy: {}%\".format(np_idx, round(ACC,3)))   \n",
    "\n",
    "print (\"Average Accuracy: {}%\".format(round(np.mean(accuracy),3)))\n",
    "print (\"Variance of Accuracy: {}%\".format(round(np.var(accuracy),3)))"
   ]
  },
  {
   "cell_type": "markdown",
   "metadata": {},
   "source": [
    "The average accuracy is 35.806%. The variance of accuracy is 1.699%. The results from 10-fold cross-validation better demonstrate the true performance of the model on training data. From the results, the low average accuracy indicates a high bias of model on training data, and a low variance of accuracy indicates a low variance of model on training data. In this case, the model is underfitting.\n",
    "\n",
    "According to bias-variance tradeoff, as the model becomes more complex, coefficient estimates suffer from high variance. The optimal model that balances the bias and variance can be achieved at an optimal model complexity. In order to control the variance, regularization of coefficient is introduced to penalize the undesired large coefficients. By tuning the hyperparameter of regularization strength to the optimal using grid search, the best model with the optimal complexity can be determined as demonstrated in Question 4."
   ]
  },
  {
   "cell_type": "markdown",
   "metadata": {},
   "source": [
    "# Question 4: Model tuning"
   ]
  },
  {
   "cell_type": "markdown",
   "metadata": {},
   "source": [
    "### Hyperparameter Tuning"
   ]
  },
  {
   "cell_type": "markdown",
   "metadata": {},
   "source": [
    "By using grid search, different hyperparameters are passed into cross-validation in order to determine the optimal hyperparameters with the highest cross-validation score. It is a useful tool to find the optimal hyperparameters."
   ]
  },
  {
   "cell_type": "code",
   "execution_count": 41,
   "metadata": {},
   "outputs": [
    {
     "name": "stdout",
     "output_type": "stream",
     "text": [
      "{'Lambda': 1e-05}\n",
      "Best Score: 35.818%(1.299%)\n"
     ]
    }
   ],
   "source": [
    "best_params = {}\n",
    "best_accuracy = 0\n",
    "best_std = 0\n",
    "\n",
    "# Grid search for hyperparameter Lambda\n",
    "for C in [0.00001, 0.0001, 0.001,0.005, 0.01,0.05,0.1]:\n",
    "        \n",
    "    accuracy = np.zeros(10)\n",
    "    np_idx = 0\n",
    "        \n",
    "    for train_idx, val_idx in kfold.split(X):\n",
    "        X_train, X_val = X[train_idx], X[val_idx]\n",
    "        y_train, y_val = y.values[train_idx], y.values[val_idx]\n",
    "\n",
    "        thetas, classes = fit(X_train, y_train,C)\n",
    "\n",
    "        ACC = score(classes, thetas, X_val, y_val)\n",
    "\n",
    "        accuracy[np_idx] = ACC*100\n",
    "        np_idx += 1\n",
    "        \n",
    "    if np.mean(accuracy) > best_accuracy:\n",
    "        best_params = {'Lambda':C}\n",
    "        best_accuracy = np.mean(accuracy)\n",
    "        best_std = np.std(accuracy)\n",
    "\n",
    "print (best_params)\n",
    "print (\"Best Score: {}%({}%)\".format(round(best_accuracy,3),round(best_std,3)))      "
   ]
  },
  {
   "cell_type": "markdown",
   "metadata": {},
   "source": [
    "In the multi-class classification problem, we most care about that if the model could predict the classes correctly. Accuracy is the ratio of the number of correct predictions to the number of all predictions. Therefore, accuracy is a desired evaluation metric to measure the model performance. \n",
    "\n",
    "Based on results from hyperparameter tuning and cross-validation, the optimal value of $\\lambda $ is 1e-05. The best cross validation accuracy is 35.818% with a standard deviation of 1.299%."
   ]
  },
  {
   "cell_type": "markdown",
   "metadata": {},
   "source": [
    "# Part 5: Testing & Discussion"
   ]
  },
  {
   "cell_type": "markdown",
   "metadata": {},
   "source": [
    "### Model Testing"
   ]
  },
  {
   "cell_type": "markdown",
   "metadata": {},
   "source": [
    "Here, the optimal model is implemented to make classification on the test set. "
   ]
  },
  {
   "cell_type": "code",
   "execution_count": 42,
   "metadata": {},
   "outputs": [
    {
     "name": "stdout",
     "output_type": "stream",
     "text": [
      "Test accuracy is: 35.44%\n",
      "Training accuracy is: 37.156%\n"
     ]
    }
   ],
   "source": [
    "X_train = X\n",
    "y_train = y\n",
    "\n",
    "# train the optimal model\n",
    "thetas, classes = fit(X_train, y_train,C = 1e-05)\n",
    "\n",
    "# prediction on test set\n",
    "test_accuracy = score(classes, thetas, X_test, y_test)\n",
    "\n",
    "# prediction on training set\n",
    "train_accuracy = score(classes, thetas, X_train, y_train)\n",
    "\n",
    "print(\"Test accuracy is: {}%\".format(round(test_accuracy*100,3)))\n",
    "print(\"Training accuracy is: {}%\".format(round(train_accuracy*100,3)))"
   ]
  },
  {
   "cell_type": "markdown",
   "metadata": {},
   "source": [
    "Test accuracy is 35.44% and training accuracy is 37.156%. As expected, the model performs sightly better on the training set compared to test set."
   ]
  },
  {
   "cell_type": "markdown",
   "metadata": {},
   "source": [
    "#### Accuracy vs. $\\lambda$"
   ]
  },
  {
   "cell_type": "code",
   "execution_count": 43,
   "metadata": {},
   "outputs": [
    {
     "data": {
      "text/plain": [
       "<matplotlib.legend.Legend at 0x2d42ae77bc8>"
      ]
     },
     "execution_count": 43,
     "metadata": {},
     "output_type": "execute_result"
    },
    {
     "data": {
      "image/png": "[encoded data removed]",
      "text/plain": [
       "<Figure size 432x288 with 1 Axes>"
      ]
     },
     "metadata": {
      "needs_background": "light"
     },
     "output_type": "display_data"
    }
   ],
   "source": [
    "test_accuracy = np.zeros(20)\n",
    "train_accuracy = np.zeros(20)\n",
    "idx = 0\n",
    "\n",
    "for C in np.logspace(-5,-1,num=20):\n",
    "    thetas, classes = fit(X_train, y_train, C)\n",
    "\n",
    "    # prediction on test set\n",
    "    test_accuracy[idx] = score(classes, thetas, X_test, y_test)\n",
    "    \n",
    "    # prediction on training set\n",
    "    train_accuracy[idx] = score(classes, thetas, X_train, y_train)\n",
    "    idx+=1\n",
    "\n",
    "C = np.logspace(-5,-1,num=20)\n",
    "\n",
    "plt.semilogx(C,test_accuracy, label = 'test accuracy')\n",
    "plt.semilogx(C,train_accuracy, label = 'training accuracy')\n",
    "plt.xlabel('Lambda')\n",
    "plt.ylabel('accuracy')\n",
    "plt.legend()"
   ]
  },
  {
   "cell_type": "markdown",
   "metadata": {},
   "source": [
    "As shown in the distribution, with the value of $\\lambda$ being smaller, both training and test accuracy increase till convergency. The training accuracy does not continue increasing and test accuracy does not decrease again with the value of $\\lambda$ further decreasing. This is because in the feature selection, L1 regularization eliminated the features that might cause overfiting of model, in such a case that both training and test accuracy converged at a small value of $\\lambda$. "
   ]
  },
  {
   "cell_type": "markdown",
   "metadata": {},
   "source": [
    "#### Accuracy vs. maximum iteration"
   ]
  },
  {
   "cell_type": "code",
   "execution_count": 44,
   "metadata": {},
   "outputs": [
    {
     "data": {
      "text/plain": [
       "<matplotlib.legend.Legend at 0x2d42bb41ec8>"
      ]
     },
     "execution_count": 44,
     "metadata": {},
     "output_type": "execute_result"
    },
    {
     "data": {
      "image/png": "[encoded data removed]",
      "text/plain": [
       "<Figure size 432x288 with 1 Axes>"
      ]
     },
     "metadata": {
      "needs_background": "light"
     },
     "output_type": "display_data"
    }
   ],
   "source": [
    "test_accuracy = np.zeros(10)\n",
    "train_accuracy = np.zeros(10)\n",
    "idx = 0\n",
    "\n",
    "for i in [ 5000,10000, 15000, 20000, 25000 ,30000, 35000, 40000, 45000, 50000]:\n",
    "    thetas, classes = fit(X_train, y_train, C = 1e-05, max_iter = i)\n",
    "\n",
    "    # prediction on test set\n",
    "    test_accuracy[idx] = score(classes, thetas, X_test, y_test)\n",
    "    \n",
    "    # prediction on training set\n",
    "    train_accuracy[idx] = score(classes, thetas, X_train, y_train)\n",
    "    idx+=1\n",
    "\n",
    "i = [5000, 10000, 15000, 20000, 25000, 30000, 35000, 40000, 45000, 50000]\n",
    "\n",
    "plt.semilogx(i,test_accuracy, label = 'test accuracy')\n",
    "plt.semilogx(i,train_accuracy, label = 'training accuracy')\n",
    "plt.xlabel('number of maximum iteration')\n",
    "plt.ylabel('accuracy')\n",
    "plt.legend()"
   ]
  },
  {
   "cell_type": "markdown",
   "metadata": {},
   "source": [
    "With an increasing number of maximum iterations, the gradient decsent is more likely to converge, so both training and test accuracy also increase as shown. A possible way to increase the accuracy of both training and test accuracy is to increase the maximum iteration in the gradient descent so as to reduce the bias introduced by the gradient descent algorithm. In addition, feature engineering can be used to extract new features that are able to better fit the model, so as to increase accuracy. Different algorithms, such as decision tree and random forest, are also able to improve the overall fit, since logistic regression is a relatively simple algorithm with low accuracy, while trees are suitable for classification problems."
   ]
  },
  {
   "cell_type": "markdown",
   "metadata": {},
   "source": [
    "Both training and test accuracy are low in the value, and training accuracy is much higher than test accuracy. By combining all discussions above, the model is likely to be underfitting."
   ]
  }
 ],
 "metadata": {
  "kernelspec": {
   "display_name": "Python 3",
   "language": "python",
   "name": "python3"
  },
  "language_info": {
   "codemirror_mode": {
    "name": "ipython",
    "version": 3
   },
   "file_extension": ".py",
   "mimetype": "text/x-python",
   "name": "python",
   "nbconvert_exporter": "python",
   "pygments_lexer": "ipython3",
   "version": "3.8.5"
  }
 },
 "nbformat": 4,
 "nbformat_minor": 4
}
